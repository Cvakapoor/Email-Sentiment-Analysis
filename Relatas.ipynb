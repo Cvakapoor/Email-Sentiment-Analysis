{
  "nbformat": 4,
  "nbformat_minor": 0,
  "metadata": {
    "colab": {
      "name": "Relatas.ipynb",
      "provenance": [],
      "collapsed_sections": []
    },
    "kernelspec": {
      "name": "python3",
      "display_name": "Python 3"
    }
  },
  "cells": [
    {
      "cell_type": "code",
      "metadata": {
        "id": "XktPHP6uwoiE",
        "colab_type": "code",
        "colab": {
          "base_uri": "https://localhost:8080/",
          "height": 357
        },
        "outputId": "adae80d0-0c7d-4ab7-cdbe-4602ea04f70b"
      },
      "source": [
        "# Check if NVIDIA GPU is enabled\n",
        "!nvidia-smi"
      ],
      "execution_count": 1,
      "outputs": [
        {
          "output_type": "stream",
          "text": [
            "Thu Aug  6 09:36:19 2020       \n",
            "+-----------------------------------------------------------------------------+\n",
            "| NVIDIA-SMI 450.57       Driver Version: 418.67       CUDA Version: 10.1     |\n",
            "|-------------------------------+----------------------+----------------------+\n",
            "| GPU  Name        Persistence-M| Bus-Id        Disp.A | Volatile Uncorr. ECC |\n",
            "| Fan  Temp  Perf  Pwr:Usage/Cap|         Memory-Usage | GPU-Util  Compute M. |\n",
            "|                               |                      |               MIG M. |\n",
            "|===============================+======================+======================|\n",
            "|   0  Tesla T4            Off  | 00000000:00:04.0 Off |                    0 |\n",
            "| N/A   50C    P8    11W /  70W |      0MiB / 15079MiB |      0%      Default |\n",
            "|                               |                      |                 ERR! |\n",
            "+-------------------------------+----------------------+----------------------+\n",
            "                                                                               \n",
            "+-----------------------------------------------------------------------------+\n",
            "| Processes:                                                                  |\n",
            "|  GPU   GI   CI        PID   Type   Process name                  GPU Memory |\n",
            "|        ID   ID                                                   Usage      |\n",
            "|=============================================================================|\n",
            "|  No running processes found                                                 |\n",
            "+-----------------------------------------------------------------------------+\n"
          ],
          "name": "stdout"
        }
      ]
    },
    {
      "cell_type": "code",
      "metadata": {
        "id": "y9Zpq1a9wtas",
        "colab_type": "code",
        "colab": {}
      },
      "source": [
        "import numpy as np \n",
        "import pandas as pd \n",
        "import re\n",
        "import nltk \n",
        "import matplotlib.pyplot as plt\n",
        "%matplotlib inline\n",
        "#Use to import the file into google Colab drive\n",
        "from google.colab import files \n",
        "#Use to import io, which opens the file from the Colab drive\n",
        "import io"
      ],
      "execution_count": 4,
      "outputs": []
    },
    {
      "cell_type": "code",
      "metadata": {
        "id": "BcWlfH17CHY0",
        "colab_type": "code",
        "colab": {
          "resources": {
            "http://localhost:8080/nbextensions/google.colab/files.js": {
              "data": "Ly8gQ29weXJpZ2h0IDIwMTcgR29vZ2xlIExMQwovLwovLyBMaWNlbnNlZCB1bmRlciB0aGUgQXBhY2hlIExpY2Vuc2UsIFZlcnNpb24gMi4wICh0aGUgIkxpY2Vuc2UiKTsKLy8geW91IG1heSBub3QgdXNlIHRoaXMgZmlsZSBleGNlcHQgaW4gY29tcGxpYW5jZSB3aXRoIHRoZSBMaWNlbnNlLgovLyBZb3UgbWF5IG9idGFpbiBhIGNvcHkgb2YgdGhlIExpY2Vuc2UgYXQKLy8KLy8gICAgICBodHRwOi8vd3d3LmFwYWNoZS5vcmcvbGljZW5zZXMvTElDRU5TRS0yLjAKLy8KLy8gVW5sZXNzIHJlcXVpcmVkIGJ5IGFwcGxpY2FibGUgbGF3IG9yIGFncmVlZCB0byBpbiB3cml0aW5nLCBzb2Z0d2FyZQovLyBkaXN0cmlidXRlZCB1bmRlciB0aGUgTGljZW5zZSBpcyBkaXN0cmlidXRlZCBvbiBhbiAiQVMgSVMiIEJBU0lTLAovLyBXSVRIT1VUIFdBUlJBTlRJRVMgT1IgQ09ORElUSU9OUyBPRiBBTlkgS0lORCwgZWl0aGVyIGV4cHJlc3Mgb3IgaW1wbGllZC4KLy8gU2VlIHRoZSBMaWNlbnNlIGZvciB0aGUgc3BlY2lmaWMgbGFuZ3VhZ2UgZ292ZXJuaW5nIHBlcm1pc3Npb25zIGFuZAovLyBsaW1pdGF0aW9ucyB1bmRlciB0aGUgTGljZW5zZS4KCi8qKgogKiBAZmlsZW92ZXJ2aWV3IEhlbHBlcnMgZm9yIGdvb2dsZS5jb2xhYiBQeXRob24gbW9kdWxlLgogKi8KKGZ1bmN0aW9uKHNjb3BlKSB7CmZ1bmN0aW9uIHNwYW4odGV4dCwgc3R5bGVBdHRyaWJ1dGVzID0ge30pIHsKICBjb25zdCBlbGVtZW50ID0gZG9jdW1lbnQuY3JlYXRlRWxlbWVudCgnc3BhbicpOwogIGVsZW1lbnQudGV4dENvbnRlbnQgPSB0ZXh0OwogIGZvciAoY29uc3Qga2V5IG9mIE9iamVjdC5rZXlzKHN0eWxlQXR0cmlidXRlcykpIHsKICAgIGVsZW1lbnQuc3R5bGVba2V5XSA9IHN0eWxlQXR0cmlidXRlc1trZXldOwogIH0KICByZXR1cm4gZWxlbWVudDsKfQoKLy8gTWF4IG51bWJlciBvZiBieXRlcyB3aGljaCB3aWxsIGJlIHVwbG9hZGVkIGF0IGEgdGltZS4KY29uc3QgTUFYX1BBWUxPQURfU0laRSA9IDEwMCAqIDEwMjQ7CgpmdW5jdGlvbiBfdXBsb2FkRmlsZXMoaW5wdXRJZCwgb3V0cHV0SWQpIHsKICBjb25zdCBzdGVwcyA9IHVwbG9hZEZpbGVzU3RlcChpbnB1dElkLCBvdXRwdXRJZCk7CiAgY29uc3Qgb3V0cHV0RWxlbWVudCA9IGRvY3VtZW50LmdldEVsZW1lbnRCeUlkKG91dHB1dElkKTsKICAvLyBDYWNoZSBzdGVwcyBvbiB0aGUgb3V0cHV0RWxlbWVudCB0byBtYWtlIGl0IGF2YWlsYWJsZSBmb3IgdGhlIG5leHQgY2FsbAogIC8vIHRvIHVwbG9hZEZpbGVzQ29udGludWUgZnJvbSBQeXRob24uCiAgb3V0cHV0RWxlbWVudC5zdGVwcyA9IHN0ZXBzOwoKICByZXR1cm4gX3VwbG9hZEZpbGVzQ29udGludWUob3V0cHV0SWQpOwp9CgovLyBUaGlzIGlzIHJvdWdobHkgYW4gYXN5bmMgZ2VuZXJhdG9yIChub3Qgc3VwcG9ydGVkIGluIHRoZSBicm93c2VyIHlldCksCi8vIHdoZXJlIHRoZXJlIGFyZSBtdWx0aXBsZSBhc3luY2hyb25vdXMgc3RlcHMgYW5kIHRoZSBQeXRob24gc2lkZSBpcyBnb2luZwovLyB0byBwb2xsIGZvciBjb21wbGV0aW9uIG9mIGVhY2ggc3RlcC4KLy8gVGhpcyB1c2VzIGEgUHJvbWlzZSB0byBibG9jayB0aGUgcHl0aG9uIHNpZGUgb24gY29tcGxldGlvbiBvZiBlYWNoIHN0ZXAsCi8vIHRoZW4gcGFzc2VzIHRoZSByZXN1bHQgb2YgdGhlIHByZXZpb3VzIHN0ZXAgYXMgdGhlIGlucHV0IHRvIHRoZSBuZXh0IHN0ZXAuCmZ1bmN0aW9uIF91cGxvYWRGaWxlc0NvbnRpbnVlKG91dHB1dElkKSB7CiAgY29uc3Qgb3V0cHV0RWxlbWVudCA9IGRvY3VtZW50LmdldEVsZW1lbnRCeUlkKG91dHB1dElkKTsKICBjb25zdCBzdGVwcyA9IG91dHB1dEVsZW1lbnQuc3RlcHM7CgogIGNvbnN0IG5leHQgPSBzdGVwcy5uZXh0KG91dHB1dEVsZW1lbnQubGFzdFByb21pc2VWYWx1ZSk7CiAgcmV0dXJuIFByb21pc2UucmVzb2x2ZShuZXh0LnZhbHVlLnByb21pc2UpLnRoZW4oKHZhbHVlKSA9PiB7CiAgICAvLyBDYWNoZSB0aGUgbGFzdCBwcm9taXNlIHZhbHVlIHRvIG1ha2UgaXQgYXZhaWxhYmxlIHRvIHRoZSBuZXh0CiAgICAvLyBzdGVwIG9mIHRoZSBnZW5lcmF0b3IuCiAgICBvdXRwdXRFbGVtZW50Lmxhc3RQcm9taXNlVmFsdWUgPSB2YWx1ZTsKICAgIHJldHVybiBuZXh0LnZhbHVlLnJlc3BvbnNlOwogIH0pOwp9CgovKioKICogR2VuZXJhdG9yIGZ1bmN0aW9uIHdoaWNoIGlzIGNhbGxlZCBiZXR3ZWVuIGVhY2ggYXN5bmMgc3RlcCBvZiB0aGUgdXBsb2FkCiAqIHByb2Nlc3MuCiAqIEBwYXJhbSB7c3RyaW5nfSBpbnB1dElkIEVsZW1lbnQgSUQgb2YgdGhlIGlucHV0IGZpbGUgcGlja2VyIGVsZW1lbnQuCiAqIEBwYXJhbSB7c3RyaW5nfSBvdXRwdXRJZCBFbGVtZW50IElEIG9mIHRoZSBvdXRwdXQgZGlzcGxheS4KICogQHJldHVybiB7IUl0ZXJhYmxlPCFPYmplY3Q+fSBJdGVyYWJsZSBvZiBuZXh0IHN0ZXBzLgogKi8KZnVuY3Rpb24qIHVwbG9hZEZpbGVzU3RlcChpbnB1dElkLCBvdXRwdXRJZCkgewogIGNvbnN0IGlucHV0RWxlbWVudCA9IGRvY3VtZW50LmdldEVsZW1lbnRCeUlkKGlucHV0SWQpOwogIGlucHV0RWxlbWVudC5kaXNhYmxlZCA9IGZhbHNlOwoKICBjb25zdCBvdXRwdXRFbGVtZW50ID0gZG9jdW1lbnQuZ2V0RWxlbWVudEJ5SWQob3V0cHV0SWQpOwogIG91dHB1dEVsZW1lbnQuaW5uZXJIVE1MID0gJyc7CgogIGNvbnN0IHBpY2tlZFByb21pc2UgPSBuZXcgUHJvbWlzZSgocmVzb2x2ZSkgPT4gewogICAgaW5wdXRFbGVtZW50LmFkZEV2ZW50TGlzdGVuZXIoJ2NoYW5nZScsIChlKSA9PiB7CiAgICAgIHJlc29sdmUoZS50YXJnZXQuZmlsZXMpOwogICAgfSk7CiAgfSk7CgogIGNvbnN0IGNhbmNlbCA9IGRvY3VtZW50LmNyZWF0ZUVsZW1lbnQoJ2J1dHRvbicpOwogIGlucHV0RWxlbWVudC5wYXJlbnRFbGVtZW50LmFwcGVuZENoaWxkKGNhbmNlbCk7CiAgY2FuY2VsLnRleHRDb250ZW50ID0gJ0NhbmNlbCB1cGxvYWQnOwogIGNvbnN0IGNhbmNlbFByb21pc2UgPSBuZXcgUHJvbWlzZSgocmVzb2x2ZSkgPT4gewogICAgY2FuY2VsLm9uY2xpY2sgPSAoKSA9PiB7CiAgICAgIHJlc29sdmUobnVsbCk7CiAgICB9OwogIH0pOwoKICAvLyBXYWl0IGZvciB0aGUgdXNlciB0byBwaWNrIHRoZSBmaWxlcy4KICBjb25zdCBmaWxlcyA9IHlpZWxkIHsKICAgIHByb21pc2U6IFByb21pc2UucmFjZShbcGlja2VkUHJvbWlzZSwgY2FuY2VsUHJvbWlzZV0pLAogICAgcmVzcG9uc2U6IHsKICAgICAgYWN0aW9uOiAnc3RhcnRpbmcnLAogICAgfQogIH07CgogIGNhbmNlbC5yZW1vdmUoKTsKCiAgLy8gRGlzYWJsZSB0aGUgaW5wdXQgZWxlbWVudCBzaW5jZSBmdXJ0aGVyIHBpY2tzIGFyZSBub3QgYWxsb3dlZC4KICBpbnB1dEVsZW1lbnQuZGlzYWJsZWQgPSB0cnVlOwoKICBpZiAoIWZpbGVzKSB7CiAgICByZXR1cm4gewogICAgICByZXNwb25zZTogewogICAgICAgIGFjdGlvbjogJ2NvbXBsZXRlJywKICAgICAgfQogICAgfTsKICB9CgogIGZvciAoY29uc3QgZmlsZSBvZiBmaWxlcykgewogICAgY29uc3QgbGkgPSBkb2N1bWVudC5jcmVhdGVFbGVtZW50KCdsaScpOwogICAgbGkuYXBwZW5kKHNwYW4oZmlsZS5uYW1lLCB7Zm9udFdlaWdodDogJ2JvbGQnfSkpOwogICAgbGkuYXBwZW5kKHNwYW4oCiAgICAgICAgYCgke2ZpbGUudHlwZSB8fCAnbi9hJ30pIC0gJHtmaWxlLnNpemV9IGJ5dGVzLCBgICsKICAgICAgICBgbGFzdCBtb2RpZmllZDogJHsKICAgICAgICAgICAgZmlsZS5sYXN0TW9kaWZpZWREYXRlID8gZmlsZS5sYXN0TW9kaWZpZWREYXRlLnRvTG9jYWxlRGF0ZVN0cmluZygpIDoKICAgICAgICAgICAgICAgICAgICAgICAgICAgICAgICAgICAgJ24vYSd9IC0gYCkpOwogICAgY29uc3QgcGVyY2VudCA9IHNwYW4oJzAlIGRvbmUnKTsKICAgIGxpLmFwcGVuZENoaWxkKHBlcmNlbnQpOwoKICAgIG91dHB1dEVsZW1lbnQuYXBwZW5kQ2hpbGQobGkpOwoKICAgIGNvbnN0IGZpbGVEYXRhUHJvbWlzZSA9IG5ldyBQcm9taXNlKChyZXNvbHZlKSA9PiB7CiAgICAgIGNvbnN0IHJlYWRlciA9IG5ldyBGaWxlUmVhZGVyKCk7CiAgICAgIHJlYWRlci5vbmxvYWQgPSAoZSkgPT4gewogICAgICAgIHJlc29sdmUoZS50YXJnZXQucmVzdWx0KTsKICAgICAgfTsKICAgICAgcmVhZGVyLnJlYWRBc0FycmF5QnVmZmVyKGZpbGUpOwogICAgfSk7CiAgICAvLyBXYWl0IGZvciB0aGUgZGF0YSB0byBiZSByZWFkeS4KICAgIGxldCBmaWxlRGF0YSA9IHlpZWxkIHsKICAgICAgcHJvbWlzZTogZmlsZURhdGFQcm9taXNlLAogICAgICByZXNwb25zZTogewogICAgICAgIGFjdGlvbjogJ2NvbnRpbnVlJywKICAgICAgfQogICAgfTsKCiAgICAvLyBVc2UgYSBjaHVua2VkIHNlbmRpbmcgdG8gYXZvaWQgbWVzc2FnZSBzaXplIGxpbWl0cy4gU2VlIGIvNjIxMTU2NjAuCiAgICBsZXQgcG9zaXRpb24gPSAwOwogICAgd2hpbGUgKHBvc2l0aW9uIDwgZmlsZURhdGEuYnl0ZUxlbmd0aCkgewogICAgICBjb25zdCBsZW5ndGggPSBNYXRoLm1pbihmaWxlRGF0YS5ieXRlTGVuZ3RoIC0gcG9zaXRpb24sIE1BWF9QQVlMT0FEX1NJWkUpOwogICAgICBjb25zdCBjaHVuayA9IG5ldyBVaW50OEFycmF5KGZpbGVEYXRhLCBwb3NpdGlvbiwgbGVuZ3RoKTsKICAgICAgcG9zaXRpb24gKz0gbGVuZ3RoOwoKICAgICAgY29uc3QgYmFzZTY0ID0gYnRvYShTdHJpbmcuZnJvbUNoYXJDb2RlLmFwcGx5KG51bGwsIGNodW5rKSk7CiAgICAgIHlpZWxkIHsKICAgICAgICByZXNwb25zZTogewogICAgICAgICAgYWN0aW9uOiAnYXBwZW5kJywKICAgICAgICAgIGZpbGU6IGZpbGUubmFtZSwKICAgICAgICAgIGRhdGE6IGJhc2U2NCwKICAgICAgICB9LAogICAgICB9OwogICAgICBwZXJjZW50LnRleHRDb250ZW50ID0KICAgICAgICAgIGAke01hdGgucm91bmQoKHBvc2l0aW9uIC8gZmlsZURhdGEuYnl0ZUxlbmd0aCkgKiAxMDApfSUgZG9uZWA7CiAgICB9CiAgfQoKICAvLyBBbGwgZG9uZS4KICB5aWVsZCB7CiAgICByZXNwb25zZTogewogICAgICBhY3Rpb246ICdjb21wbGV0ZScsCiAgICB9CiAgfTsKfQoKc2NvcGUuZ29vZ2xlID0gc2NvcGUuZ29vZ2xlIHx8IHt9OwpzY29wZS5nb29nbGUuY29sYWIgPSBzY29wZS5nb29nbGUuY29sYWIgfHwge307CnNjb3BlLmdvb2dsZS5jb2xhYi5fZmlsZXMgPSB7CiAgX3VwbG9hZEZpbGVzLAogIF91cGxvYWRGaWxlc0NvbnRpbnVlLAp9Owp9KShzZWxmKTsK",
              "ok": true,
              "headers": [
                [
                  "content-type",
                  "application/javascript"
                ]
              ],
              "status": 200,
              "status_text": ""
            }
          },
          "base_uri": "https://localhost:8080/",
          "height": 72
        },
        "outputId": "de75cfaf-933c-4f6f-9e81-a2284f8d55c3"
      },
      "source": [
        "#Reading the file which has email interactions\n",
        "du = files.upload()"
      ],
      "execution_count": 5,
      "outputs": [
        {
          "output_type": "display_data",
          "data": {
            "text/html": [
              "\n",
              "     <input type=\"file\" id=\"files-9dbdc21c-7aa2-4d30-98cb-7bb64e2233e3\" name=\"files[]\" multiple disabled\n",
              "        style=\"border:none\" />\n",
              "     <output id=\"result-9dbdc21c-7aa2-4d30-98cb-7bb64e2233e3\">\n",
              "      Upload widget is only available when the cell has been executed in the\n",
              "      current browser session. Please rerun this cell to enable.\n",
              "      </output>\n",
              "      <script src=\"/nbextensions/google.colab/files.js\"></script> "
            ],
            "text/plain": [
              "<IPython.core.display.HTML object>"
            ]
          },
          "metadata": {
            "tags": []
          }
        },
        {
          "output_type": "stream",
          "text": [
            "Saving interactions.xlsx to interactions.xlsx\n"
          ],
          "name": "stdout"
        }
      ]
    },
    {
      "cell_type": "code",
      "metadata": {
        "id": "i9c6YCBSEH2S",
        "colab_type": "code",
        "colab": {}
      },
      "source": [
        "i=pd.read_excel(du[\"interactions.xlsx\"])"
      ],
      "execution_count": 6,
      "outputs": []
    },
    {
      "cell_type": "code",
      "metadata": {
        "id": "__iH0VnaCIQA",
        "colab_type": "code",
        "colab": {
          "base_uri": "https://localhost:8080/",
          "height": 204
        },
        "outputId": "e71b489d-4d74-42b4-b514-9d82ee06a9c1"
      },
      "source": [
        "i['InteractionDate']=pd.to_datetime(i['InteractionDate'])\n",
        "i['Extracted Interaction Text']=i['Extracted Interaction Text'].astype(str)\n",
        "i.head()"
      ],
      "execution_count": 7,
      "outputs": [
        {
          "output_type": "execute_result",
          "data": {
            "text/html": [
              "<div>\n",
              "<style scoped>\n",
              "    .dataframe tbody tr th:only-of-type {\n",
              "        vertical-align: middle;\n",
              "    }\n",
              "\n",
              "    .dataframe tbody tr th {\n",
              "        vertical-align: top;\n",
              "    }\n",
              "\n",
              "    .dataframe thead th {\n",
              "        text-align: right;\n",
              "    }\n",
              "</style>\n",
              "<table border=\"1\" class=\"dataframe\">\n",
              "  <thead>\n",
              "    <tr style=\"text-align: right;\">\n",
              "      <th></th>\n",
              "      <th>interactionID</th>\n",
              "      <th>fromEmailId</th>\n",
              "      <th>toEmailId</th>\n",
              "      <th>InteractionDate</th>\n",
              "      <th>InteractionType(Call/Email/SMS)</th>\n",
              "      <th>Extracted Interaction Text</th>\n",
              "    </tr>\n",
              "  </thead>\n",
              "  <tbody>\n",
              "    <tr>\n",
              "      <th>0</th>\n",
              "      <td>8842411</td>\n",
              "      <td>gladys@piedpiper.com</td>\n",
              "      <td>kristle@dontechi.com</td>\n",
              "      <td>2016-01-04</td>\n",
              "      <td>Call</td>\n",
              "      <td>I thoroughly enjoyed your presentation yesterd...</td>\n",
              "    </tr>\n",
              "    <tr>\n",
              "      <th>1</th>\n",
              "      <td>8015509</td>\n",
              "      <td>donn@piedpiper.com</td>\n",
              "      <td>orpha@umbrellacorporation.com</td>\n",
              "      <td>2016-01-04</td>\n",
              "      <td>Call</td>\n",
              "      <td>speaking with you and your staff will be a tre...</td>\n",
              "    </tr>\n",
              "    <tr>\n",
              "      <th>2</th>\n",
              "      <td>5976842</td>\n",
              "      <td>kary@piedpiper.com</td>\n",
              "      <td>claribel@goodsilron.com</td>\n",
              "      <td>2016-01-04</td>\n",
              "      <td>Email</td>\n",
              "      <td>However, I am unable to join because of my fam...</td>\n",
              "    </tr>\n",
              "    <tr>\n",
              "      <th>3</th>\n",
              "      <td>1471794</td>\n",
              "      <td>boris@piedpiper.com</td>\n",
              "      <td>gordon@scotfind.com</td>\n",
              "      <td>2016-01-04</td>\n",
              "      <td>Call</td>\n",
              "      <td>We are extremely sorry to inform you that we h...</td>\n",
              "    </tr>\n",
              "    <tr>\n",
              "      <th>4</th>\n",
              "      <td>4330320</td>\n",
              "      <td>darcel@piedpiper.com</td>\n",
              "      <td>benny@treequote.com</td>\n",
              "      <td>2016-01-04</td>\n",
              "      <td>Call</td>\n",
              "      <td>I don't think it's possible for me to meet you</td>\n",
              "    </tr>\n",
              "  </tbody>\n",
              "</table>\n",
              "</div>"
            ],
            "text/plain": [
              "   interactionID  ...                         Extracted Interaction Text\n",
              "0        8842411  ...  I thoroughly enjoyed your presentation yesterd...\n",
              "1        8015509  ...  speaking with you and your staff will be a tre...\n",
              "2        5976842  ...  However, I am unable to join because of my fam...\n",
              "3        1471794  ...  We are extremely sorry to inform you that we h...\n",
              "4        4330320  ...     I don't think it's possible for me to meet you\n",
              "\n",
              "[5 rows x 6 columns]"
            ]
          },
          "metadata": {
            "tags": []
          },
          "execution_count": 7
        }
      ]
    },
    {
      "cell_type": "code",
      "metadata": {
        "id": "lqOJ6YNOCK0b",
        "colab_type": "code",
        "colab": {
          "base_uri": "https://localhost:8080/",
          "height": 34
        },
        "outputId": "5d596730-74f1-4ab1-fff7-8ad2ae0fc4d9"
      },
      "source": [
        "i.shape"
      ],
      "execution_count": 8,
      "outputs": [
        {
          "output_type": "execute_result",
          "data": {
            "text/plain": [
              "(316776, 6)"
            ]
          },
          "metadata": {
            "tags": []
          },
          "execution_count": 8
        }
      ]
    },
    {
      "cell_type": "code",
      "metadata": {
        "id": "7A1jcdWhCPPM",
        "colab_type": "code",
        "colab": {
          "base_uri": "https://localhost:8080/",
          "height": 238
        },
        "outputId": "24e14d3b-7290-4f0a-88f2-024bfa59bd81"
      },
      "source": [
        "i.info()"
      ],
      "execution_count": 9,
      "outputs": [
        {
          "output_type": "stream",
          "text": [
            "<class 'pandas.core.frame.DataFrame'>\n",
            "RangeIndex: 316776 entries, 0 to 316775\n",
            "Data columns (total 6 columns):\n",
            " #   Column                           Non-Null Count   Dtype         \n",
            "---  ------                           --------------   -----         \n",
            " 0   interactionID                    316776 non-null  int64         \n",
            " 1   fromEmailId                      316776 non-null  object        \n",
            " 2   toEmailId                        316776 non-null  object        \n",
            " 3   InteractionDate                  316776 non-null  datetime64[ns]\n",
            " 4   InteractionType(Call/Email/SMS)  316776 non-null  object        \n",
            " 5   Extracted Interaction Text       316776 non-null  object        \n",
            "dtypes: datetime64[ns](1), int64(1), object(4)\n",
            "memory usage: 14.5+ MB\n"
          ],
          "name": "stdout"
        }
      ]
    },
    {
      "cell_type": "code",
      "metadata": {
        "id": "XmK2B6LXCS41",
        "colab_type": "code",
        "colab": {
          "resources": {
            "http://localhost:8080/nbextensions/google.colab/files.js": {
              "data": "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",
              "ok": true,
              "headers": [
                [
                  "content-type",
                  "application/javascript"
                ]
              ],
              "status": 200,
              "status_text": ""
            }
          },
          "base_uri": "https://localhost:8080/",
          "height": 72
        },
        "outputId": "ad76071f-a821-47c4-f364-b42dffcb4aaf"
      },
      "source": [
        "#Reading the file which has deal stage(won,lost)\n",
        "\n",
        "iu = files.upload()"
      ],
      "execution_count": 10,
      "outputs": [
        {
          "output_type": "display_data",
          "data": {
            "text/html": [
              "\n",
              "     <input type=\"file\" id=\"files-1afd44b6-7b4b-4bce-91f3-679d5531a916\" name=\"files[]\" multiple disabled\n",
              "        style=\"border:none\" />\n",
              "     <output id=\"result-1afd44b6-7b4b-4bce-91f3-679d5531a916\">\n",
              "      Upload widget is only available when the cell has been executed in the\n",
              "      current browser session. Please rerun this cell to enable.\n",
              "      </output>\n",
              "      <script src=\"/nbextensions/google.colab/files.js\"></script> "
            ],
            "text/plain": [
              "<IPython.core.display.HTML object>"
            ]
          },
          "metadata": {
            "tags": []
          }
        },
        {
          "output_type": "stream",
          "text": [
            "Saving sales.xlsx to sales.xlsx\n"
          ],
          "name": "stdout"
        }
      ]
    },
    {
      "cell_type": "code",
      "metadata": {
        "id": "Qdy19DgWEPhc",
        "colab_type": "code",
        "colab": {}
      },
      "source": [
        "j=pd.read_excel(iu[\"sales.xlsx\"])"
      ],
      "execution_count": 11,
      "outputs": []
    },
    {
      "cell_type": "code",
      "metadata": {
        "id": "L63qsWO4CYC6",
        "colab_type": "code",
        "colab": {
          "base_uri": "https://localhost:8080/",
          "height": 323
        },
        "outputId": "8d7fa4f3-578d-4c6c-f491-b67683203ec1"
      },
      "source": [
        "j['Created Date']=pd.to_datetime(j['Created Date'])\n",
        "j['Close Date']=pd.to_datetime(j['Close Date'])\n",
        "j.head()"
      ],
      "execution_count": 12,
      "outputs": [
        {
          "output_type": "execute_result",
          "data": {
            "text/html": [
              "<div>\n",
              "<style scoped>\n",
              "    .dataframe tbody tr th:only-of-type {\n",
              "        vertical-align: middle;\n",
              "    }\n",
              "\n",
              "    .dataframe tbody tr th {\n",
              "        vertical-align: top;\n",
              "    }\n",
              "\n",
              "    .dataframe thead th {\n",
              "        text-align: right;\n",
              "    }\n",
              "</style>\n",
              "<table border=\"1\" class=\"dataframe\">\n",
              "  <thead>\n",
              "    <tr style=\"text-align: right;\">\n",
              "      <th></th>\n",
              "      <th>Account</th>\n",
              "      <th>Opportunity_ID</th>\n",
              "      <th>Sales_Agent</th>\n",
              "      <th>SalesAgentEmailID</th>\n",
              "      <th>ContactEmailID</th>\n",
              "      <th>Deal_Stage</th>\n",
              "      <th>Product</th>\n",
              "      <th>Close_Value</th>\n",
              "      <th>Created Date</th>\n",
              "      <th>Close Date</th>\n",
              "      <th>DateDiff</th>\n",
              "    </tr>\n",
              "  </thead>\n",
              "  <tbody>\n",
              "    <tr>\n",
              "      <th>0</th>\n",
              "      <td>Konex</td>\n",
              "      <td>3KR50X38</td>\n",
              "      <td>Corliss Cosme</td>\n",
              "      <td>corliss@piedpiper.com</td>\n",
              "      <td>delila@konex.com</td>\n",
              "      <td>Won</td>\n",
              "      <td>GTX Plus Basic</td>\n",
              "      <td>1255</td>\n",
              "      <td>2016-01-04</td>\n",
              "      <td>2016-05-24</td>\n",
              "      <td>141</td>\n",
              "    </tr>\n",
              "    <tr>\n",
              "      <th>1</th>\n",
              "      <td>Finjob</td>\n",
              "      <td>YFS5KLJJ</td>\n",
              "      <td>Rosalina Dieter</td>\n",
              "      <td>rosalina@piedpiper.com</td>\n",
              "      <td>belinda@finjob.com</td>\n",
              "      <td>Won</td>\n",
              "      <td>MG Special</td>\n",
              "      <td>45</td>\n",
              "      <td>2016-01-04</td>\n",
              "      <td>2016-11-02</td>\n",
              "      <td>303</td>\n",
              "    </tr>\n",
              "    <tr>\n",
              "      <th>2</th>\n",
              "      <td>Kinnamplus</td>\n",
              "      <td>N0ONCYVZ</td>\n",
              "      <td>Donn Cantrell</td>\n",
              "      <td>donn@piedpiper.com</td>\n",
              "      <td>monte@kinnamplus.com</td>\n",
              "      <td>Lost</td>\n",
              "      <td>MG Special</td>\n",
              "      <td>1054</td>\n",
              "      <td>2016-01-06</td>\n",
              "      <td>2016-12-07</td>\n",
              "      <td>336</td>\n",
              "    </tr>\n",
              "    <tr>\n",
              "      <th>3</th>\n",
              "      <td>Genco Pura Olive Oil Company</td>\n",
              "      <td>IBEUTCSW</td>\n",
              "      <td>James Ascencio</td>\n",
              "      <td>james@piedpiper.com</td>\n",
              "      <td>karole@gencopuraoliveoilcompany.com</td>\n",
              "      <td>In Progress</td>\n",
              "      <td>MG Advanced</td>\n",
              "      <td>1054</td>\n",
              "      <td>2016-01-06</td>\n",
              "      <td>2016-09-11</td>\n",
              "      <td>249</td>\n",
              "    </tr>\n",
              "    <tr>\n",
              "      <th>4</th>\n",
              "      <td>Initech</td>\n",
              "      <td>G8AO5FA2</td>\n",
              "      <td>Wilburn Farren</td>\n",
              "      <td>wilburn@piedpiper.com</td>\n",
              "      <td>alejandro@initech.com</td>\n",
              "      <td>Lost</td>\n",
              "      <td>MG Advanced</td>\n",
              "      <td>517</td>\n",
              "      <td>2016-01-06</td>\n",
              "      <td>2016-09-18</td>\n",
              "      <td>256</td>\n",
              "    </tr>\n",
              "  </tbody>\n",
              "</table>\n",
              "</div>"
            ],
            "text/plain": [
              "                        Account Opportunity_ID  ... Close Date DateDiff\n",
              "0                         Konex       3KR50X38  ... 2016-05-24      141\n",
              "1                        Finjob       YFS5KLJJ  ... 2016-11-02      303\n",
              "2                    Kinnamplus       N0ONCYVZ  ... 2016-12-07      336\n",
              "3  Genco Pura Olive Oil Company       IBEUTCSW  ... 2016-09-11      249\n",
              "4                       Initech       G8AO5FA2  ... 2016-09-18      256\n",
              "\n",
              "[5 rows x 11 columns]"
            ]
          },
          "metadata": {
            "tags": []
          },
          "execution_count": 12
        }
      ]
    },
    {
      "cell_type": "code",
      "metadata": {
        "id": "uQ_e_iNYCZFe",
        "colab_type": "code",
        "colab": {
          "base_uri": "https://localhost:8080/",
          "height": 323
        },
        "outputId": "476e4b72-80e4-484c-b742-530ed5c6fb63"
      },
      "source": [
        "#Renaming some columns in the deal stage file\n",
        "\n",
        "j=j.rename(columns={\"SalesAgentEmailID\":\"fromEmailId\",\"ContactEmailID\":\"toEmailId\"})\n",
        "j.head()"
      ],
      "execution_count": 13,
      "outputs": [
        {
          "output_type": "execute_result",
          "data": {
            "text/html": [
              "<div>\n",
              "<style scoped>\n",
              "    .dataframe tbody tr th:only-of-type {\n",
              "        vertical-align: middle;\n",
              "    }\n",
              "\n",
              "    .dataframe tbody tr th {\n",
              "        vertical-align: top;\n",
              "    }\n",
              "\n",
              "    .dataframe thead th {\n",
              "        text-align: right;\n",
              "    }\n",
              "</style>\n",
              "<table border=\"1\" class=\"dataframe\">\n",
              "  <thead>\n",
              "    <tr style=\"text-align: right;\">\n",
              "      <th></th>\n",
              "      <th>Account</th>\n",
              "      <th>Opportunity_ID</th>\n",
              "      <th>Sales_Agent</th>\n",
              "      <th>fromEmailId</th>\n",
              "      <th>toEmailId</th>\n",
              "      <th>Deal_Stage</th>\n",
              "      <th>Product</th>\n",
              "      <th>Close_Value</th>\n",
              "      <th>Created Date</th>\n",
              "      <th>Close Date</th>\n",
              "      <th>DateDiff</th>\n",
              "    </tr>\n",
              "  </thead>\n",
              "  <tbody>\n",
              "    <tr>\n",
              "      <th>0</th>\n",
              "      <td>Konex</td>\n",
              "      <td>3KR50X38</td>\n",
              "      <td>Corliss Cosme</td>\n",
              "      <td>corliss@piedpiper.com</td>\n",
              "      <td>delila@konex.com</td>\n",
              "      <td>Won</td>\n",
              "      <td>GTX Plus Basic</td>\n",
              "      <td>1255</td>\n",
              "      <td>2016-01-04</td>\n",
              "      <td>2016-05-24</td>\n",
              "      <td>141</td>\n",
              "    </tr>\n",
              "    <tr>\n",
              "      <th>1</th>\n",
              "      <td>Finjob</td>\n",
              "      <td>YFS5KLJJ</td>\n",
              "      <td>Rosalina Dieter</td>\n",
              "      <td>rosalina@piedpiper.com</td>\n",
              "      <td>belinda@finjob.com</td>\n",
              "      <td>Won</td>\n",
              "      <td>MG Special</td>\n",
              "      <td>45</td>\n",
              "      <td>2016-01-04</td>\n",
              "      <td>2016-11-02</td>\n",
              "      <td>303</td>\n",
              "    </tr>\n",
              "    <tr>\n",
              "      <th>2</th>\n",
              "      <td>Kinnamplus</td>\n",
              "      <td>N0ONCYVZ</td>\n",
              "      <td>Donn Cantrell</td>\n",
              "      <td>donn@piedpiper.com</td>\n",
              "      <td>monte@kinnamplus.com</td>\n",
              "      <td>Lost</td>\n",
              "      <td>MG Special</td>\n",
              "      <td>1054</td>\n",
              "      <td>2016-01-06</td>\n",
              "      <td>2016-12-07</td>\n",
              "      <td>336</td>\n",
              "    </tr>\n",
              "    <tr>\n",
              "      <th>3</th>\n",
              "      <td>Genco Pura Olive Oil Company</td>\n",
              "      <td>IBEUTCSW</td>\n",
              "      <td>James Ascencio</td>\n",
              "      <td>james@piedpiper.com</td>\n",
              "      <td>karole@gencopuraoliveoilcompany.com</td>\n",
              "      <td>In Progress</td>\n",
              "      <td>MG Advanced</td>\n",
              "      <td>1054</td>\n",
              "      <td>2016-01-06</td>\n",
              "      <td>2016-09-11</td>\n",
              "      <td>249</td>\n",
              "    </tr>\n",
              "    <tr>\n",
              "      <th>4</th>\n",
              "      <td>Initech</td>\n",
              "      <td>G8AO5FA2</td>\n",
              "      <td>Wilburn Farren</td>\n",
              "      <td>wilburn@piedpiper.com</td>\n",
              "      <td>alejandro@initech.com</td>\n",
              "      <td>Lost</td>\n",
              "      <td>MG Advanced</td>\n",
              "      <td>517</td>\n",
              "      <td>2016-01-06</td>\n",
              "      <td>2016-09-18</td>\n",
              "      <td>256</td>\n",
              "    </tr>\n",
              "  </tbody>\n",
              "</table>\n",
              "</div>"
            ],
            "text/plain": [
              "                        Account Opportunity_ID  ... Close Date DateDiff\n",
              "0                         Konex       3KR50X38  ... 2016-05-24      141\n",
              "1                        Finjob       YFS5KLJJ  ... 2016-11-02      303\n",
              "2                    Kinnamplus       N0ONCYVZ  ... 2016-12-07      336\n",
              "3  Genco Pura Olive Oil Company       IBEUTCSW  ... 2016-09-11      249\n",
              "4                       Initech       G8AO5FA2  ... 2016-09-18      256\n",
              "\n",
              "[5 rows x 11 columns]"
            ]
          },
          "metadata": {
            "tags": []
          },
          "execution_count": 13
        }
      ]
    },
    {
      "cell_type": "code",
      "metadata": {
        "id": "GIqH4bBoCb3y",
        "colab_type": "code",
        "colab": {
          "base_uri": "https://localhost:8080/",
          "height": 34
        },
        "outputId": "aef634dc-a653-4e47-c909-c44e91ed0577"
      },
      "source": [
        "j.shape"
      ],
      "execution_count": 14,
      "outputs": [
        {
          "output_type": "execute_result",
          "data": {
            "text/plain": [
              "(8800, 11)"
            ]
          },
          "metadata": {
            "tags": []
          },
          "execution_count": 14
        }
      ]
    },
    {
      "cell_type": "code",
      "metadata": {
        "id": "fiYXwRCwCewH",
        "colab_type": "code",
        "colab": {
          "base_uri": "https://localhost:8080/",
          "height": 323
        },
        "outputId": "a6fe6d52-d01a-4f07-9664-dc846e64b478"
      },
      "source": [
        "j.info()"
      ],
      "execution_count": 15,
      "outputs": [
        {
          "output_type": "stream",
          "text": [
            "<class 'pandas.core.frame.DataFrame'>\n",
            "RangeIndex: 8800 entries, 0 to 8799\n",
            "Data columns (total 11 columns):\n",
            " #   Column          Non-Null Count  Dtype         \n",
            "---  ------          --------------  -----         \n",
            " 0   Account         8800 non-null   object        \n",
            " 1   Opportunity_ID  8800 non-null   object        \n",
            " 2   Sales_Agent     8800 non-null   object        \n",
            " 3   fromEmailId     8800 non-null   object        \n",
            " 4   toEmailId       8800 non-null   object        \n",
            " 5   Deal_Stage      8800 non-null   object        \n",
            " 6   Product         8800 non-null   object        \n",
            " 7   Close_Value     8800 non-null   int64         \n",
            " 8   Created Date    8800 non-null   datetime64[ns]\n",
            " 9   Close Date      8800 non-null   datetime64[ns]\n",
            " 10  DateDiff        8800 non-null   int64         \n",
            "dtypes: datetime64[ns](2), int64(2), object(7)\n",
            "memory usage: 756.4+ KB\n"
          ],
          "name": "stdout"
        }
      ]
    },
    {
      "cell_type": "code",
      "metadata": {
        "id": "jBEoRclNCjWq",
        "colab_type": "code",
        "colab": {
          "base_uri": "https://localhost:8080/",
          "height": 864
        },
        "outputId": "117121b6-64ef-433f-e19e-3227f05377da"
      },
      "source": [
        "#Merging both the email interactions file and deal stage file\n",
        "\n",
        "result = pd.merge(i, j,how='right',sort=False)\n",
        "result.head(10000)"
      ],
      "execution_count": 16,
      "outputs": [
        {
          "output_type": "execute_result",
          "data": {
            "text/html": [
              "<div>\n",
              "<style scoped>\n",
              "    .dataframe tbody tr th:only-of-type {\n",
              "        vertical-align: middle;\n",
              "    }\n",
              "\n",
              "    .dataframe tbody tr th {\n",
              "        vertical-align: top;\n",
              "    }\n",
              "\n",
              "    .dataframe thead th {\n",
              "        text-align: right;\n",
              "    }\n",
              "</style>\n",
              "<table border=\"1\" class=\"dataframe\">\n",
              "  <thead>\n",
              "    <tr style=\"text-align: right;\">\n",
              "      <th></th>\n",
              "      <th>interactionID</th>\n",
              "      <th>fromEmailId</th>\n",
              "      <th>toEmailId</th>\n",
              "      <th>InteractionDate</th>\n",
              "      <th>InteractionType(Call/Email/SMS)</th>\n",
              "      <th>Extracted Interaction Text</th>\n",
              "      <th>Account</th>\n",
              "      <th>Opportunity_ID</th>\n",
              "      <th>Sales_Agent</th>\n",
              "      <th>Deal_Stage</th>\n",
              "      <th>Product</th>\n",
              "      <th>Close_Value</th>\n",
              "      <th>Created Date</th>\n",
              "      <th>Close Date</th>\n",
              "      <th>DateDiff</th>\n",
              "    </tr>\n",
              "  </thead>\n",
              "  <tbody>\n",
              "    <tr>\n",
              "      <th>0</th>\n",
              "      <td>8842411</td>\n",
              "      <td>gladys@piedpiper.com</td>\n",
              "      <td>kristle@dontechi.com</td>\n",
              "      <td>2016-01-04</td>\n",
              "      <td>Call</td>\n",
              "      <td>I thoroughly enjoyed your presentation yesterd...</td>\n",
              "      <td>Dontechi</td>\n",
              "      <td>N5AZLQZR</td>\n",
              "      <td>Gladys Colclough</td>\n",
              "      <td>Won</td>\n",
              "      <td>GTX Plus Pro</td>\n",
              "      <td>5533</td>\n",
              "      <td>2016-12-12</td>\n",
              "      <td>2017-07-23</td>\n",
              "      <td>223</td>\n",
              "    </tr>\n",
              "    <tr>\n",
              "      <th>1</th>\n",
              "      <td>2845985</td>\n",
              "      <td>gladys@piedpiper.com</td>\n",
              "      <td>kristle@dontechi.com</td>\n",
              "      <td>2016-01-16</td>\n",
              "      <td>Email</td>\n",
              "      <td>We want you to know that we are very pleased w...</td>\n",
              "      <td>Dontechi</td>\n",
              "      <td>N5AZLQZR</td>\n",
              "      <td>Gladys Colclough</td>\n",
              "      <td>Won</td>\n",
              "      <td>GTX Plus Pro</td>\n",
              "      <td>5533</td>\n",
              "      <td>2016-12-12</td>\n",
              "      <td>2017-07-23</td>\n",
              "      <td>223</td>\n",
              "    </tr>\n",
              "    <tr>\n",
              "      <th>2</th>\n",
              "      <td>4920385</td>\n",
              "      <td>gladys@piedpiper.com</td>\n",
              "      <td>kristle@dontechi.com</td>\n",
              "      <td>2016-01-23</td>\n",
              "      <td>Call</td>\n",
              "      <td>Hope everything is fine at your end</td>\n",
              "      <td>Dontechi</td>\n",
              "      <td>N5AZLQZR</td>\n",
              "      <td>Gladys Colclough</td>\n",
              "      <td>Won</td>\n",
              "      <td>GTX Plus Pro</td>\n",
              "      <td>5533</td>\n",
              "      <td>2016-12-12</td>\n",
              "      <td>2017-07-23</td>\n",
              "      <td>223</td>\n",
              "    </tr>\n",
              "    <tr>\n",
              "      <th>3</th>\n",
              "      <td>1093495</td>\n",
              "      <td>gladys@piedpiper.com</td>\n",
              "      <td>kristle@dontechi.com</td>\n",
              "      <td>2016-01-24</td>\n",
              "      <td>Call</td>\n",
              "      <td>While we agree that using one office supplier ...</td>\n",
              "      <td>Dontechi</td>\n",
              "      <td>N5AZLQZR</td>\n",
              "      <td>Gladys Colclough</td>\n",
              "      <td>Won</td>\n",
              "      <td>GTX Plus Pro</td>\n",
              "      <td>5533</td>\n",
              "      <td>2016-12-12</td>\n",
              "      <td>2017-07-23</td>\n",
              "      <td>223</td>\n",
              "    </tr>\n",
              "    <tr>\n",
              "      <th>4</th>\n",
              "      <td>4595270</td>\n",
              "      <td>gladys@piedpiper.com</td>\n",
              "      <td>kristle@dontechi.com</td>\n",
              "      <td>2016-01-29</td>\n",
              "      <td>Email</td>\n",
              "      <td>The recent price increase on the materials we ...</td>\n",
              "      <td>Dontechi</td>\n",
              "      <td>N5AZLQZR</td>\n",
              "      <td>Gladys Colclough</td>\n",
              "      <td>Won</td>\n",
              "      <td>GTX Plus Pro</td>\n",
              "      <td>5533</td>\n",
              "      <td>2016-12-12</td>\n",
              "      <td>2017-07-23</td>\n",
              "      <td>223</td>\n",
              "    </tr>\n",
              "    <tr>\n",
              "      <th>...</th>\n",
              "      <td>...</td>\n",
              "      <td>...</td>\n",
              "      <td>...</td>\n",
              "      <td>...</td>\n",
              "      <td>...</td>\n",
              "      <td>...</td>\n",
              "      <td>...</td>\n",
              "      <td>...</td>\n",
              "      <td>...</td>\n",
              "      <td>...</td>\n",
              "      <td>...</td>\n",
              "      <td>...</td>\n",
              "      <td>...</td>\n",
              "      <td>...</td>\n",
              "      <td>...</td>\n",
              "    </tr>\n",
              "    <tr>\n",
              "      <th>9995</th>\n",
              "      <td>1425243</td>\n",
              "      <td>darcel@piedpiper.com</td>\n",
              "      <td>ying@funholding.com</td>\n",
              "      <td>2016-07-07</td>\n",
              "      <td>Email</td>\n",
              "      <td>I don't like your proposal</td>\n",
              "      <td>Funholding</td>\n",
              "      <td>D01U0UR8</td>\n",
              "      <td>Darcel Schlecht</td>\n",
              "      <td>Won</td>\n",
              "      <td>GTX Basic</td>\n",
              "      <td>571</td>\n",
              "      <td>2017-05-06</td>\n",
              "      <td>2017-12-01</td>\n",
              "      <td>209</td>\n",
              "    </tr>\n",
              "    <tr>\n",
              "      <th>9996</th>\n",
              "      <td>2086719</td>\n",
              "      <td>darcel@piedpiper.com</td>\n",
              "      <td>ying@funholding.com</td>\n",
              "      <td>2016-07-07</td>\n",
              "      <td>Email</td>\n",
              "      <td>Your fine work, excellent planning and realist...</td>\n",
              "      <td>Funholding</td>\n",
              "      <td>D01U0UR8</td>\n",
              "      <td>Darcel Schlecht</td>\n",
              "      <td>Won</td>\n",
              "      <td>GTX Basic</td>\n",
              "      <td>571</td>\n",
              "      <td>2017-05-06</td>\n",
              "      <td>2017-12-01</td>\n",
              "      <td>209</td>\n",
              "    </tr>\n",
              "    <tr>\n",
              "      <th>9997</th>\n",
              "      <td>1173712</td>\n",
              "      <td>darcel@piedpiper.com</td>\n",
              "      <td>ying@funholding.com</td>\n",
              "      <td>2016-07-09</td>\n",
              "      <td>Call</td>\n",
              "      <td>I have considered it carefully and must declin...</td>\n",
              "      <td>Funholding</td>\n",
              "      <td>D01U0UR8</td>\n",
              "      <td>Darcel Schlecht</td>\n",
              "      <td>Won</td>\n",
              "      <td>GTX Basic</td>\n",
              "      <td>571</td>\n",
              "      <td>2017-05-06</td>\n",
              "      <td>2017-12-01</td>\n",
              "      <td>209</td>\n",
              "    </tr>\n",
              "    <tr>\n",
              "      <th>9998</th>\n",
              "      <td>2089480</td>\n",
              "      <td>darcel@piedpiper.com</td>\n",
              "      <td>ying@funholding.com</td>\n",
              "      <td>2016-07-11</td>\n",
              "      <td>Call</td>\n",
              "      <td>We assure you that you will be able to cut cos...</td>\n",
              "      <td>Funholding</td>\n",
              "      <td>D01U0UR8</td>\n",
              "      <td>Darcel Schlecht</td>\n",
              "      <td>Won</td>\n",
              "      <td>GTX Basic</td>\n",
              "      <td>571</td>\n",
              "      <td>2017-05-06</td>\n",
              "      <td>2017-12-01</td>\n",
              "      <td>209</td>\n",
              "    </tr>\n",
              "    <tr>\n",
              "      <th>9999</th>\n",
              "      <td>7736168</td>\n",
              "      <td>darcel@piedpiper.com</td>\n",
              "      <td>ying@funholding.com</td>\n",
              "      <td>2016-07-12</td>\n",
              "      <td>Email</td>\n",
              "      <td>Congratulations! The board just appointed you ...</td>\n",
              "      <td>Funholding</td>\n",
              "      <td>D01U0UR8</td>\n",
              "      <td>Darcel Schlecht</td>\n",
              "      <td>Won</td>\n",
              "      <td>GTX Basic</td>\n",
              "      <td>571</td>\n",
              "      <td>2017-05-06</td>\n",
              "      <td>2017-12-01</td>\n",
              "      <td>209</td>\n",
              "    </tr>\n",
              "  </tbody>\n",
              "</table>\n",
              "<p>10000 rows × 15 columns</p>\n",
              "</div>"
            ],
            "text/plain": [
              "      interactionID           fromEmailId  ... Close Date DateDiff\n",
              "0           8842411  gladys@piedpiper.com  ... 2017-07-23      223\n",
              "1           2845985  gladys@piedpiper.com  ... 2017-07-23      223\n",
              "2           4920385  gladys@piedpiper.com  ... 2017-07-23      223\n",
              "3           1093495  gladys@piedpiper.com  ... 2017-07-23      223\n",
              "4           4595270  gladys@piedpiper.com  ... 2017-07-23      223\n",
              "...             ...                   ...  ...        ...      ...\n",
              "9995        1425243  darcel@piedpiper.com  ... 2017-12-01      209\n",
              "9996        2086719  darcel@piedpiper.com  ... 2017-12-01      209\n",
              "9997        1173712  darcel@piedpiper.com  ... 2017-12-01      209\n",
              "9998        2089480  darcel@piedpiper.com  ... 2017-12-01      209\n",
              "9999        7736168  darcel@piedpiper.com  ... 2017-12-01      209\n",
              "\n",
              "[10000 rows x 15 columns]"
            ]
          },
          "metadata": {
            "tags": []
          },
          "execution_count": 16
        }
      ]
    },
    {
      "cell_type": "code",
      "metadata": {
        "id": "T5k3JOcxCmiD",
        "colab_type": "code",
        "colab": {}
      },
      "source": [
        "#aggregating the emails with respect to the opportunity id\n",
        "\n",
        "grouped=result.groupby([\"Opportunity_ID\"]).agg({'Extracted Interaction Text': lambda x: ', '.join(x)})"
      ],
      "execution_count": 17,
      "outputs": []
    },
    {
      "cell_type": "code",
      "metadata": {
        "id": "7tdJ2dypCntK",
        "colab_type": "code",
        "colab": {
          "base_uri": "https://localhost:8080/",
          "height": 235
        },
        "outputId": "d5b2da75-a1c3-4069-efd8-02d0577be1ea"
      },
      "source": [
        "grouped.head()"
      ],
      "execution_count": 18,
      "outputs": [
        {
          "output_type": "execute_result",
          "data": {
            "text/html": [
              "<div>\n",
              "<style scoped>\n",
              "    .dataframe tbody tr th:only-of-type {\n",
              "        vertical-align: middle;\n",
              "    }\n",
              "\n",
              "    .dataframe tbody tr th {\n",
              "        vertical-align: top;\n",
              "    }\n",
              "\n",
              "    .dataframe thead th {\n",
              "        text-align: right;\n",
              "    }\n",
              "</style>\n",
              "<table border=\"1\" class=\"dataframe\">\n",
              "  <thead>\n",
              "    <tr style=\"text-align: right;\">\n",
              "      <th></th>\n",
              "      <th>Extracted Interaction Text</th>\n",
              "    </tr>\n",
              "    <tr>\n",
              "      <th>Opportunity_ID</th>\n",
              "      <th></th>\n",
              "    </tr>\n",
              "  </thead>\n",
              "  <tbody>\n",
              "    <tr>\n",
              "      <th>0000I7AO</th>\n",
              "      <td>Please accept my apology for the manner in whi...</td>\n",
              "    </tr>\n",
              "    <tr>\n",
              "      <th>00400B1S</th>\n",
              "      <td>It is with sincere regret that I must inform y...</td>\n",
              "    </tr>\n",
              "    <tr>\n",
              "      <th>005JS57S</th>\n",
              "      <td>It has become necessary for us to announce a t...</td>\n",
              "    </tr>\n",
              "    <tr>\n",
              "      <th>00KY25OA</th>\n",
              "      <td>During your five months of employment with the...</td>\n",
              "    </tr>\n",
              "    <tr>\n",
              "      <th>00X8VEYH</th>\n",
              "      <td>As the manager of our computer department, I c...</td>\n",
              "    </tr>\n",
              "  </tbody>\n",
              "</table>\n",
              "</div>"
            ],
            "text/plain": [
              "                                       Extracted Interaction Text\n",
              "Opportunity_ID                                                   \n",
              "0000I7AO        Please accept my apology for the manner in whi...\n",
              "00400B1S        It is with sincere regret that I must inform y...\n",
              "005JS57S        It has become necessary for us to announce a t...\n",
              "00KY25OA        During your five months of employment with the...\n",
              "00X8VEYH        As the manager of our computer department, I c..."
            ]
          },
          "metadata": {
            "tags": []
          },
          "execution_count": 18
        }
      ]
    },
    {
      "cell_type": "code",
      "metadata": {
        "id": "f5YoCjqgCqCi",
        "colab_type": "code",
        "colab": {
          "base_uri": "https://localhost:8080/",
          "height": 581
        },
        "outputId": "0a356a98-2387-4155-e334-9800483f15fb"
      },
      "source": [
        "#Merging the aggregated emails with the deal stage file \n",
        "\n",
        "k=pd.merge(j,grouped,on=\"Opportunity_ID\")\n",
        "k['Product']=k['Product'].astype(str)\n",
        "k.head()"
      ],
      "execution_count": 19,
      "outputs": [
        {
          "output_type": "execute_result",
          "data": {
            "text/html": [
              "<div>\n",
              "<style scoped>\n",
              "    .dataframe tbody tr th:only-of-type {\n",
              "        vertical-align: middle;\n",
              "    }\n",
              "\n",
              "    .dataframe tbody tr th {\n",
              "        vertical-align: top;\n",
              "    }\n",
              "\n",
              "    .dataframe thead th {\n",
              "        text-align: right;\n",
              "    }\n",
              "</style>\n",
              "<table border=\"1\" class=\"dataframe\">\n",
              "  <thead>\n",
              "    <tr style=\"text-align: right;\">\n",
              "      <th></th>\n",
              "      <th>Account</th>\n",
              "      <th>Opportunity_ID</th>\n",
              "      <th>Sales_Agent</th>\n",
              "      <th>fromEmailId</th>\n",
              "      <th>toEmailId</th>\n",
              "      <th>Deal_Stage</th>\n",
              "      <th>Product</th>\n",
              "      <th>Close_Value</th>\n",
              "      <th>Created Date</th>\n",
              "      <th>Close Date</th>\n",
              "      <th>DateDiff</th>\n",
              "      <th>Extracted Interaction Text</th>\n",
              "    </tr>\n",
              "  </thead>\n",
              "  <tbody>\n",
              "    <tr>\n",
              "      <th>0</th>\n",
              "      <td>Konex</td>\n",
              "      <td>3KR50X38</td>\n",
              "      <td>Corliss Cosme</td>\n",
              "      <td>corliss@piedpiper.com</td>\n",
              "      <td>delila@konex.com</td>\n",
              "      <td>Won</td>\n",
              "      <td>GTX Plus Basic</td>\n",
              "      <td>1255</td>\n",
              "      <td>2016-01-04</td>\n",
              "      <td>2016-05-24</td>\n",
              "      <td>141</td>\n",
              "      <td>We are writing from GHF regarding the previous...</td>\n",
              "    </tr>\n",
              "    <tr>\n",
              "      <th>1</th>\n",
              "      <td>Finjob</td>\n",
              "      <td>YFS5KLJJ</td>\n",
              "      <td>Rosalina Dieter</td>\n",
              "      <td>rosalina@piedpiper.com</td>\n",
              "      <td>belinda@finjob.com</td>\n",
              "      <td>Won</td>\n",
              "      <td>MG Special</td>\n",
              "      <td>45</td>\n",
              "      <td>2016-01-04</td>\n",
              "      <td>2016-11-02</td>\n",
              "      <td>303</td>\n",
              "      <td>I want to thank you for the excellent service ...</td>\n",
              "    </tr>\n",
              "    <tr>\n",
              "      <th>2</th>\n",
              "      <td>Kinnamplus</td>\n",
              "      <td>N0ONCYVZ</td>\n",
              "      <td>Donn Cantrell</td>\n",
              "      <td>donn@piedpiper.com</td>\n",
              "      <td>monte@kinnamplus.com</td>\n",
              "      <td>Lost</td>\n",
              "      <td>MG Special</td>\n",
              "      <td>1054</td>\n",
              "      <td>2016-01-06</td>\n",
              "      <td>2016-12-07</td>\n",
              "      <td>336</td>\n",
              "      <td>I am honored that you would choose me to fill ...</td>\n",
              "    </tr>\n",
              "    <tr>\n",
              "      <th>3</th>\n",
              "      <td>Genco Pura Olive Oil Company</td>\n",
              "      <td>IBEUTCSW</td>\n",
              "      <td>James Ascencio</td>\n",
              "      <td>james@piedpiper.com</td>\n",
              "      <td>karole@gencopuraoliveoilcompany.com</td>\n",
              "      <td>In Progress</td>\n",
              "      <td>MG Advanced</td>\n",
              "      <td>1054</td>\n",
              "      <td>2016-01-06</td>\n",
              "      <td>2016-09-11</td>\n",
              "      <td>249</td>\n",
              "      <td>I appreciate your contribution to Morgan Stanl...</td>\n",
              "    </tr>\n",
              "    <tr>\n",
              "      <th>4</th>\n",
              "      <td>Initech</td>\n",
              "      <td>G8AO5FA2</td>\n",
              "      <td>Wilburn Farren</td>\n",
              "      <td>wilburn@piedpiper.com</td>\n",
              "      <td>alejandro@initech.com</td>\n",
              "      <td>Lost</td>\n",
              "      <td>MG Advanced</td>\n",
              "      <td>517</td>\n",
              "      <td>2016-01-06</td>\n",
              "      <td>2016-09-18</td>\n",
              "      <td>256</td>\n",
              "      <td>Please accept my regrets in resigning from my ...</td>\n",
              "    </tr>\n",
              "  </tbody>\n",
              "</table>\n",
              "</div>"
            ],
            "text/plain": [
              "                        Account  ...                         Extracted Interaction Text\n",
              "0                         Konex  ...  We are writing from GHF regarding the previous...\n",
              "1                        Finjob  ...  I want to thank you for the excellent service ...\n",
              "2                    Kinnamplus  ...  I am honored that you would choose me to fill ...\n",
              "3  Genco Pura Olive Oil Company  ...  I appreciate your contribution to Morgan Stanl...\n",
              "4                       Initech  ...  Please accept my regrets in resigning from my ...\n",
              "\n",
              "[5 rows x 12 columns]"
            ]
          },
          "metadata": {
            "tags": []
          },
          "execution_count": 19
        }
      ]
    },
    {
      "cell_type": "code",
      "metadata": {
        "id": "kJU-3vjKCuVC",
        "colab_type": "code",
        "colab": {
          "base_uri": "https://localhost:8080/",
          "height": 340
        },
        "outputId": "b613f5c2-6f57-428e-8334-578a68d7c518"
      },
      "source": [
        "k.info()"
      ],
      "execution_count": 20,
      "outputs": [
        {
          "output_type": "stream",
          "text": [
            "<class 'pandas.core.frame.DataFrame'>\n",
            "Int64Index: 8800 entries, 0 to 8799\n",
            "Data columns (total 12 columns):\n",
            " #   Column                      Non-Null Count  Dtype         \n",
            "---  ------                      --------------  -----         \n",
            " 0   Account                     8800 non-null   object        \n",
            " 1   Opportunity_ID              8800 non-null   object        \n",
            " 2   Sales_Agent                 8800 non-null   object        \n",
            " 3   fromEmailId                 8800 non-null   object        \n",
            " 4   toEmailId                   8800 non-null   object        \n",
            " 5   Deal_Stage                  8800 non-null   object        \n",
            " 6   Product                     8800 non-null   object        \n",
            " 7   Close_Value                 8800 non-null   int64         \n",
            " 8   Created Date                8800 non-null   datetime64[ns]\n",
            " 9   Close Date                  8800 non-null   datetime64[ns]\n",
            " 10  DateDiff                    8800 non-null   int64         \n",
            " 11  Extracted Interaction Text  8800 non-null   object        \n",
            "dtypes: datetime64[ns](2), int64(2), object(8)\n",
            "memory usage: 893.8+ KB\n"
          ],
          "name": "stdout"
        }
      ]
    },
    {
      "cell_type": "code",
      "metadata": {
        "id": "B8Cp92PZCyzV",
        "colab_type": "code",
        "colab": {}
      },
      "source": [
        "#Saving the dataframe which has the deal stage along with the aggregated emails\n",
        "\n",
        "k.to_excel(\"output.xlsx\")"
      ],
      "execution_count": null,
      "outputs": []
    },
    {
      "cell_type": "code",
      "metadata": {
        "id": "izWIytxKC1g8",
        "colab_type": "code",
        "colab": {
          "base_uri": "https://localhost:8080/",
          "height": 248
        },
        "outputId": "5d343c76-d403-447e-d7e6-fda9d1d4a107"
      },
      "source": [
        "#Pie chart of the products\n",
        "\n",
        "k['Product'].value_counts().plot(kind='pie', autopct='%1.0f%%')\n",
        "plt.show()"
      ],
      "execution_count": 21,
      "outputs": [
        {
          "output_type": "display_data",
          "data": {
            "image/png": "[encoded data removed]",
            "text/plain": [
              "<Figure size 432x288 with 1 Axes>"
            ]
          },
          "metadata": {
            "tags": []
          }
        }
      ]
    },
    {
      "cell_type": "code",
      "metadata": {
        "id": "R7Do08GKC6LA",
        "colab_type": "code",
        "colab": {
          "base_uri": "https://localhost:8080/",
          "height": 248
        },
        "outputId": "3febf8d5-8710-4cb4-f416-021d71349761"
      },
      "source": [
        "#Pie chart of deal stage\n",
        "\n",
        "k['Deal_Stage'].value_counts().plot(kind='pie', autopct='%1.0f%%')\n",
        "plt.show()"
      ],
      "execution_count": 22,
      "outputs": [
        {
          "output_type": "display_data",
          "data": {
            "image/png": "[encoded data removed]",
            "text/plain": [
              "<Figure size 432x288 with 1 Axes>"
            ]
          },
          "metadata": {
            "tags": []
          }
        }
      ]
    },
    {
      "cell_type": "code",
      "metadata": {
        "id": "H0MZQ6rkC7Ib",
        "colab_type": "code",
        "colab": {
          "base_uri": "https://localhost:8080/",
          "height": 360
        },
        "outputId": "c78a07eb-26b5-4a51-cbd9-c549f7d62670"
      },
      "source": [
        "#Bar chart\n",
        "\n",
        "product_deal = k.groupby(['Product', 'Deal_Stage']).Deal_Stage.count().unstack()\n",
        "product_deal.plot(kind='bar')"
      ],
      "execution_count": 23,
      "outputs": [
        {
          "output_type": "execute_result",
          "data": {
            "text/plain": [
              "<matplotlib.axes._subplots.AxesSubplot at 0x7fcf46ce08d0>"
            ]
          },
          "metadata": {
            "tags": []
          },
          "execution_count": 23
        },
        {
          "output_type": "display_data",
          "data": {
            "image/png": "[encoded data removed]",
            "text/plain": [
              "<Figure size 432x288 with 1 Axes>"
            ]
          },
          "metadata": {
            "tags": [],
            "needs_background": "light"
          }
        }
      ]
    },
    {
      "cell_type": "code",
      "metadata": {
        "id": "z23T-zfoC-Ef",
        "colab_type": "code",
        "colab": {
          "base_uri": "https://localhost:8080/",
          "height": 581
        },
        "outputId": "0b759a28-0850-4b97-9ce6-94255f8c4f7b"
      },
      "source": [
        "#creating dataframe for the training purpose\n",
        "\n",
        "start_date = '2016-01-01'\n",
        "end_date = '2017-09-30'\n",
        "\n",
        "mask = (k['Created Date'] >= start_date) & (k['Created Date'] <= end_date)\n",
        "\n",
        "k_tr=k.loc[mask]\n",
        "\n",
        "k_tr.head()"
      ],
      "execution_count": 24,
      "outputs": [
        {
          "output_type": "execute_result",
          "data": {
            "text/html": [
              "<div>\n",
              "<style scoped>\n",
              "    .dataframe tbody tr th:only-of-type {\n",
              "        vertical-align: middle;\n",
              "    }\n",
              "\n",
              "    .dataframe tbody tr th {\n",
              "        vertical-align: top;\n",
              "    }\n",
              "\n",
              "    .dataframe thead th {\n",
              "        text-align: right;\n",
              "    }\n",
              "</style>\n",
              "<table border=\"1\" class=\"dataframe\">\n",
              "  <thead>\n",
              "    <tr style=\"text-align: right;\">\n",
              "      <th></th>\n",
              "      <th>Account</th>\n",
              "      <th>Opportunity_ID</th>\n",
              "      <th>Sales_Agent</th>\n",
              "      <th>fromEmailId</th>\n",
              "      <th>toEmailId</th>\n",
              "      <th>Deal_Stage</th>\n",
              "      <th>Product</th>\n",
              "      <th>Close_Value</th>\n",
              "      <th>Created Date</th>\n",
              "      <th>Close Date</th>\n",
              "      <th>DateDiff</th>\n",
              "      <th>Extracted Interaction Text</th>\n",
              "    </tr>\n",
              "  </thead>\n",
              "  <tbody>\n",
              "    <tr>\n",
              "      <th>0</th>\n",
              "      <td>Konex</td>\n",
              "      <td>3KR50X38</td>\n",
              "      <td>Corliss Cosme</td>\n",
              "      <td>corliss@piedpiper.com</td>\n",
              "      <td>delila@konex.com</td>\n",
              "      <td>Won</td>\n",
              "      <td>GTX Plus Basic</td>\n",
              "      <td>1255</td>\n",
              "      <td>2016-01-04</td>\n",
              "      <td>2016-05-24</td>\n",
              "      <td>141</td>\n",
              "      <td>We are writing from GHF regarding the previous...</td>\n",
              "    </tr>\n",
              "    <tr>\n",
              "      <th>1</th>\n",
              "      <td>Finjob</td>\n",
              "      <td>YFS5KLJJ</td>\n",
              "      <td>Rosalina Dieter</td>\n",
              "      <td>rosalina@piedpiper.com</td>\n",
              "      <td>belinda@finjob.com</td>\n",
              "      <td>Won</td>\n",
              "      <td>MG Special</td>\n",
              "      <td>45</td>\n",
              "      <td>2016-01-04</td>\n",
              "      <td>2016-11-02</td>\n",
              "      <td>303</td>\n",
              "      <td>I want to thank you for the excellent service ...</td>\n",
              "    </tr>\n",
              "    <tr>\n",
              "      <th>2</th>\n",
              "      <td>Kinnamplus</td>\n",
              "      <td>N0ONCYVZ</td>\n",
              "      <td>Donn Cantrell</td>\n",
              "      <td>donn@piedpiper.com</td>\n",
              "      <td>monte@kinnamplus.com</td>\n",
              "      <td>Lost</td>\n",
              "      <td>MG Special</td>\n",
              "      <td>1054</td>\n",
              "      <td>2016-01-06</td>\n",
              "      <td>2016-12-07</td>\n",
              "      <td>336</td>\n",
              "      <td>I am honored that you would choose me to fill ...</td>\n",
              "    </tr>\n",
              "    <tr>\n",
              "      <th>3</th>\n",
              "      <td>Genco Pura Olive Oil Company</td>\n",
              "      <td>IBEUTCSW</td>\n",
              "      <td>James Ascencio</td>\n",
              "      <td>james@piedpiper.com</td>\n",
              "      <td>karole@gencopuraoliveoilcompany.com</td>\n",
              "      <td>In Progress</td>\n",
              "      <td>MG Advanced</td>\n",
              "      <td>1054</td>\n",
              "      <td>2016-01-06</td>\n",
              "      <td>2016-09-11</td>\n",
              "      <td>249</td>\n",
              "      <td>I appreciate your contribution to Morgan Stanl...</td>\n",
              "    </tr>\n",
              "    <tr>\n",
              "      <th>4</th>\n",
              "      <td>Initech</td>\n",
              "      <td>G8AO5FA2</td>\n",
              "      <td>Wilburn Farren</td>\n",
              "      <td>wilburn@piedpiper.com</td>\n",
              "      <td>alejandro@initech.com</td>\n",
              "      <td>Lost</td>\n",
              "      <td>MG Advanced</td>\n",
              "      <td>517</td>\n",
              "      <td>2016-01-06</td>\n",
              "      <td>2016-09-18</td>\n",
              "      <td>256</td>\n",
              "      <td>Please accept my regrets in resigning from my ...</td>\n",
              "    </tr>\n",
              "  </tbody>\n",
              "</table>\n",
              "</div>"
            ],
            "text/plain": [
              "                        Account  ...                         Extracted Interaction Text\n",
              "0                         Konex  ...  We are writing from GHF regarding the previous...\n",
              "1                        Finjob  ...  I want to thank you for the excellent service ...\n",
              "2                    Kinnamplus  ...  I am honored that you would choose me to fill ...\n",
              "3  Genco Pura Olive Oil Company  ...  I appreciate your contribution to Morgan Stanl...\n",
              "4                       Initech  ...  Please accept my regrets in resigning from my ...\n",
              "\n",
              "[5 rows x 12 columns]"
            ]
          },
          "metadata": {
            "tags": []
          },
          "execution_count": 24
        }
      ]
    },
    {
      "cell_type": "code",
      "metadata": {
        "id": "sMzoQO-aDGRb",
        "colab_type": "code",
        "colab": {
          "base_uri": "https://localhost:8080/",
          "height": 544
        },
        "outputId": "fca4f458-8f34-4722-e128-671bd7bc5f96"
      },
      "source": [
        "k_tr.tail()"
      ],
      "execution_count": 25,
      "outputs": [
        {
          "output_type": "execute_result",
          "data": {
            "text/html": [
              "<div>\n",
              "<style scoped>\n",
              "    .dataframe tbody tr th:only-of-type {\n",
              "        vertical-align: middle;\n",
              "    }\n",
              "\n",
              "    .dataframe tbody tr th {\n",
              "        vertical-align: top;\n",
              "    }\n",
              "\n",
              "    .dataframe thead th {\n",
              "        text-align: right;\n",
              "    }\n",
              "</style>\n",
              "<table border=\"1\" class=\"dataframe\">\n",
              "  <thead>\n",
              "    <tr style=\"text-align: right;\">\n",
              "      <th></th>\n",
              "      <th>Account</th>\n",
              "      <th>Opportunity_ID</th>\n",
              "      <th>Sales_Agent</th>\n",
              "      <th>fromEmailId</th>\n",
              "      <th>toEmailId</th>\n",
              "      <th>Deal_Stage</th>\n",
              "      <th>Product</th>\n",
              "      <th>Close_Value</th>\n",
              "      <th>Created Date</th>\n",
              "      <th>Close Date</th>\n",
              "      <th>DateDiff</th>\n",
              "      <th>Extracted Interaction Text</th>\n",
              "    </tr>\n",
              "  </thead>\n",
              "  <tbody>\n",
              "    <tr>\n",
              "      <th>6290</th>\n",
              "      <td>Condax</td>\n",
              "      <td>62TFLOG6</td>\n",
              "      <td>Corliss Cosme</td>\n",
              "      <td>corliss@piedpiper.com</td>\n",
              "      <td>golda@condax.com</td>\n",
              "      <td>Lost</td>\n",
              "      <td>MG Advanced</td>\n",
              "      <td>1014</td>\n",
              "      <td>2017-09-30</td>\n",
              "      <td>2019-06-12</td>\n",
              "      <td>620</td>\n",
              "      <td>My compliments on the way you conducted the di...</td>\n",
              "    </tr>\n",
              "    <tr>\n",
              "      <th>6291</th>\n",
              "      <td>Faxquote</td>\n",
              "      <td>8W35TVOQ</td>\n",
              "      <td>Hayden Neloms</td>\n",
              "      <td>hayden@piedpiper.com</td>\n",
              "      <td>gaylord@faxquote.com</td>\n",
              "      <td>Won</td>\n",
              "      <td>MG Advanced</td>\n",
              "      <td>2918</td>\n",
              "      <td>2017-09-30</td>\n",
              "      <td>2018-12-16</td>\n",
              "      <td>442</td>\n",
              "      <td>However, we regret to inform you that we did r...</td>\n",
              "    </tr>\n",
              "    <tr>\n",
              "      <th>6292</th>\n",
              "      <td>Toughzap</td>\n",
              "      <td>C13104YM</td>\n",
              "      <td>Versie Hillebrand</td>\n",
              "      <td>versie@piedpiper.com</td>\n",
              "      <td>sherman@toughzap.com</td>\n",
              "      <td>Lost</td>\n",
              "      <td>MG Special</td>\n",
              "      <td>500</td>\n",
              "      <td>2017-09-30</td>\n",
              "      <td>2018-06-02</td>\n",
              "      <td>245</td>\n",
              "      <td>We are no longer in need of your service, Unde...</td>\n",
              "    </tr>\n",
              "    <tr>\n",
              "      <th>6293</th>\n",
              "      <td>Scottech</td>\n",
              "      <td>U2JOATN3</td>\n",
              "      <td>Darcel Schlecht</td>\n",
              "      <td>darcel@piedpiper.com</td>\n",
              "      <td>edison@scottech.com</td>\n",
              "      <td>Won</td>\n",
              "      <td>GTXPro</td>\n",
              "      <td>6166</td>\n",
              "      <td>2017-09-30</td>\n",
              "      <td>2019-05-07</td>\n",
              "      <td>584</td>\n",
              "      <td>Without question, such a software system will ...</td>\n",
              "    </tr>\n",
              "    <tr>\n",
              "      <th>6294</th>\n",
              "      <td>Codehow</td>\n",
              "      <td>KSYI5DDW</td>\n",
              "      <td>Darcel Schlecht</td>\n",
              "      <td>darcel@piedpiper.com</td>\n",
              "      <td>justine@codehow.com</td>\n",
              "      <td>Won</td>\n",
              "      <td>MG Special</td>\n",
              "      <td>55</td>\n",
              "      <td>2017-09-30</td>\n",
              "      <td>2018-01-24</td>\n",
              "      <td>116</td>\n",
              "      <td>It gives me immense pleasure to write to you w...</td>\n",
              "    </tr>\n",
              "  </tbody>\n",
              "</table>\n",
              "</div>"
            ],
            "text/plain": [
              "       Account  ...                         Extracted Interaction Text\n",
              "6290    Condax  ...  My compliments on the way you conducted the di...\n",
              "6291  Faxquote  ...  However, we regret to inform you that we did r...\n",
              "6292  Toughzap  ...  We are no longer in need of your service, Unde...\n",
              "6293  Scottech  ...  Without question, such a software system will ...\n",
              "6294   Codehow  ...  It gives me immense pleasure to write to you w...\n",
              "\n",
              "[5 rows x 12 columns]"
            ]
          },
          "metadata": {
            "tags": []
          },
          "execution_count": 25
        }
      ]
    },
    {
      "cell_type": "code",
      "metadata": {
        "id": "2VMmPimFDLN1",
        "colab_type": "code",
        "colab": {
          "base_uri": "https://localhost:8080/",
          "height": 340
        },
        "outputId": "bfcbf285-9f09-4f6c-e69f-8ce0182ff4b0"
      },
      "source": [
        "#Neglecting the data which has deal stage as in progress for the training purpose\n",
        "\n",
        "mask= (k_tr['Deal_Stage'] != 'In Progress')\n",
        "\n",
        "k_train=k_tr.loc[mask]\n",
        "\n",
        "k_train.info()"
      ],
      "execution_count": 26,
      "outputs": [
        {
          "output_type": "stream",
          "text": [
            "<class 'pandas.core.frame.DataFrame'>\n",
            "Int64Index: 5089 entries, 0 to 6294\n",
            "Data columns (total 12 columns):\n",
            " #   Column                      Non-Null Count  Dtype         \n",
            "---  ------                      --------------  -----         \n",
            " 0   Account                     5089 non-null   object        \n",
            " 1   Opportunity_ID              5089 non-null   object        \n",
            " 2   Sales_Agent                 5089 non-null   object        \n",
            " 3   fromEmailId                 5089 non-null   object        \n",
            " 4   toEmailId                   5089 non-null   object        \n",
            " 5   Deal_Stage                  5089 non-null   object        \n",
            " 6   Product                     5089 non-null   object        \n",
            " 7   Close_Value                 5089 non-null   int64         \n",
            " 8   Created Date                5089 non-null   datetime64[ns]\n",
            " 9   Close Date                  5089 non-null   datetime64[ns]\n",
            " 10  DateDiff                    5089 non-null   int64         \n",
            " 11  Extracted Interaction Text  5089 non-null   object        \n",
            "dtypes: datetime64[ns](2), int64(2), object(8)\n",
            "memory usage: 516.9+ KB\n"
          ],
          "name": "stdout"
        }
      ]
    },
    {
      "cell_type": "code",
      "metadata": {
        "id": "0mYyN5xRDSC6",
        "colab_type": "code",
        "colab": {
          "base_uri": "https://localhost:8080/",
          "height": 493
        },
        "outputId": "583c2d49-9b9c-4d7a-9bb6-dbec920cd7b3"
      },
      "source": [
        "k_train.head()"
      ],
      "execution_count": 27,
      "outputs": [
        {
          "output_type": "execute_result",
          "data": {
            "text/html": [
              "<div>\n",
              "<style scoped>\n",
              "    .dataframe tbody tr th:only-of-type {\n",
              "        vertical-align: middle;\n",
              "    }\n",
              "\n",
              "    .dataframe tbody tr th {\n",
              "        vertical-align: top;\n",
              "    }\n",
              "\n",
              "    .dataframe thead th {\n",
              "        text-align: right;\n",
              "    }\n",
              "</style>\n",
              "<table border=\"1\" class=\"dataframe\">\n",
              "  <thead>\n",
              "    <tr style=\"text-align: right;\">\n",
              "      <th></th>\n",
              "      <th>Account</th>\n",
              "      <th>Opportunity_ID</th>\n",
              "      <th>Sales_Agent</th>\n",
              "      <th>fromEmailId</th>\n",
              "      <th>toEmailId</th>\n",
              "      <th>Deal_Stage</th>\n",
              "      <th>Product</th>\n",
              "      <th>Close_Value</th>\n",
              "      <th>Created Date</th>\n",
              "      <th>Close Date</th>\n",
              "      <th>DateDiff</th>\n",
              "      <th>Extracted Interaction Text</th>\n",
              "    </tr>\n",
              "  </thead>\n",
              "  <tbody>\n",
              "    <tr>\n",
              "      <th>0</th>\n",
              "      <td>Konex</td>\n",
              "      <td>3KR50X38</td>\n",
              "      <td>Corliss Cosme</td>\n",
              "      <td>corliss@piedpiper.com</td>\n",
              "      <td>delila@konex.com</td>\n",
              "      <td>Won</td>\n",
              "      <td>GTX Plus Basic</td>\n",
              "      <td>1255</td>\n",
              "      <td>2016-01-04</td>\n",
              "      <td>2016-05-24</td>\n",
              "      <td>141</td>\n",
              "      <td>We are writing from GHF regarding the previous...</td>\n",
              "    </tr>\n",
              "    <tr>\n",
              "      <th>1</th>\n",
              "      <td>Finjob</td>\n",
              "      <td>YFS5KLJJ</td>\n",
              "      <td>Rosalina Dieter</td>\n",
              "      <td>rosalina@piedpiper.com</td>\n",
              "      <td>belinda@finjob.com</td>\n",
              "      <td>Won</td>\n",
              "      <td>MG Special</td>\n",
              "      <td>45</td>\n",
              "      <td>2016-01-04</td>\n",
              "      <td>2016-11-02</td>\n",
              "      <td>303</td>\n",
              "      <td>I want to thank you for the excellent service ...</td>\n",
              "    </tr>\n",
              "    <tr>\n",
              "      <th>2</th>\n",
              "      <td>Kinnamplus</td>\n",
              "      <td>N0ONCYVZ</td>\n",
              "      <td>Donn Cantrell</td>\n",
              "      <td>donn@piedpiper.com</td>\n",
              "      <td>monte@kinnamplus.com</td>\n",
              "      <td>Lost</td>\n",
              "      <td>MG Special</td>\n",
              "      <td>1054</td>\n",
              "      <td>2016-01-06</td>\n",
              "      <td>2016-12-07</td>\n",
              "      <td>336</td>\n",
              "      <td>I am honored that you would choose me to fill ...</td>\n",
              "    </tr>\n",
              "    <tr>\n",
              "      <th>4</th>\n",
              "      <td>Initech</td>\n",
              "      <td>G8AO5FA2</td>\n",
              "      <td>Wilburn Farren</td>\n",
              "      <td>wilburn@piedpiper.com</td>\n",
              "      <td>alejandro@initech.com</td>\n",
              "      <td>Lost</td>\n",
              "      <td>MG Advanced</td>\n",
              "      <td>517</td>\n",
              "      <td>2016-01-06</td>\n",
              "      <td>2016-09-18</td>\n",
              "      <td>256</td>\n",
              "      <td>Please accept my regrets in resigning from my ...</td>\n",
              "    </tr>\n",
              "    <tr>\n",
              "      <th>5</th>\n",
              "      <td>Stanredtax</td>\n",
              "      <td>2V848WZD</td>\n",
              "      <td>Lajuana Vencill</td>\n",
              "      <td>lajuana@piedpiper.com</td>\n",
              "      <td>candice@stanredtax.com</td>\n",
              "      <td>Won</td>\n",
              "      <td>MG Advanced</td>\n",
              "      <td>3180</td>\n",
              "      <td>2016-01-07</td>\n",
              "      <td>2016-01-31</td>\n",
              "      <td>24</td>\n",
              "      <td>I am writing this letter to request a business...</td>\n",
              "    </tr>\n",
              "  </tbody>\n",
              "</table>\n",
              "</div>"
            ],
            "text/plain": [
              "      Account  ...                         Extracted Interaction Text\n",
              "0       Konex  ...  We are writing from GHF regarding the previous...\n",
              "1      Finjob  ...  I want to thank you for the excellent service ...\n",
              "2  Kinnamplus  ...  I am honored that you would choose me to fill ...\n",
              "4     Initech  ...  Please accept my regrets in resigning from my ...\n",
              "5  Stanredtax  ...  I am writing this letter to request a business...\n",
              "\n",
              "[5 rows x 12 columns]"
            ]
          },
          "metadata": {
            "tags": []
          },
          "execution_count": 27
        }
      ]
    },
    {
      "cell_type": "code",
      "metadata": {
        "id": "keaMzDz3DWOd",
        "colab_type": "code",
        "colab": {}
      },
      "source": [
        "k_train.to_excel(\"K_Train.xlsx\")"
      ],
      "execution_count": null,
      "outputs": []
    },
    {
      "cell_type": "code",
      "metadata": {
        "id": "yp8ROPX7xGY-",
        "colab_type": "code",
        "colab": {
          "resources": {
            "http://localhost:8080/nbextensions/google.colab/files.js": {
              "data": "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",
              "ok": true,
              "headers": [
                [
                  "content-type",
                  "application/javascript"
                ]
              ],
              "status": 200,
              "status_text": ""
            }
          },
          "base_uri": "https://localhost:8080/",
          "height": 72
        },
        "outputId": "b2d3dea0-fb69-426b-a67e-3bf920afafbe"
      },
      "source": [
        "uploaded = files.upload()"
      ],
      "execution_count": 28,
      "outputs": [
        {
          "output_type": "display_data",
          "data": {
            "text/html": [
              "\n",
              "     <input type=\"file\" id=\"files-f6dec86c-45d2-4afe-9018-d395916e5522\" name=\"files[]\" multiple disabled\n",
              "        style=\"border:none\" />\n",
              "     <output id=\"result-f6dec86c-45d2-4afe-9018-d395916e5522\">\n",
              "      Upload widget is only available when the cell has been executed in the\n",
              "      current browser session. Please rerun this cell to enable.\n",
              "      </output>\n",
              "      <script src=\"/nbextensions/google.colab/files.js\"></script> "
            ],
            "text/plain": [
              "<IPython.core.display.HTML object>"
            ]
          },
          "metadata": {
            "tags": []
          }
        },
        {
          "output_type": "stream",
          "text": [
            "Saving K_Train.xlsx to K_Train.xlsx\n"
          ],
          "name": "stdout"
        }
      ]
    },
    {
      "cell_type": "code",
      "metadata": {
        "id": "LfmNwaL1x2Ay",
        "colab_type": "code",
        "colab": {}
      },
      "source": [
        "k_train = pd.read_excel(uploaded['K_Train.xlsx'])"
      ],
      "execution_count": 29,
      "outputs": []
    },
    {
      "cell_type": "code",
      "metadata": {
        "id": "z0U3aClwy6-t",
        "colab_type": "code",
        "colab": {
          "base_uri": "https://localhost:8080/",
          "height": 357
        },
        "outputId": "cc91ba46-4fb8-4477-9f14-57b64dcc6448"
      },
      "source": [
        "k_train.head()\n",
        "k_train.info()"
      ],
      "execution_count": 30,
      "outputs": [
        {
          "output_type": "stream",
          "text": [
            "<class 'pandas.core.frame.DataFrame'>\n",
            "RangeIndex: 5089 entries, 0 to 5088\n",
            "Data columns (total 13 columns):\n",
            " #   Column                      Non-Null Count  Dtype         \n",
            "---  ------                      --------------  -----         \n",
            " 0   Unnamed: 0                  5089 non-null   int64         \n",
            " 1   Account                     5089 non-null   object        \n",
            " 2   Opportunity_ID              5089 non-null   object        \n",
            " 3   Sales_Agent                 5089 non-null   object        \n",
            " 4   fromEmailId                 5089 non-null   object        \n",
            " 5   toEmailId                   5089 non-null   object        \n",
            " 6   Deal_Stage                  5089 non-null   object        \n",
            " 7   Product                     5089 non-null   object        \n",
            " 8   Close_Value                 5089 non-null   int64         \n",
            " 9   Created Date                5089 non-null   datetime64[ns]\n",
            " 10  Close Date                  5089 non-null   datetime64[ns]\n",
            " 11  DateDiff                    5089 non-null   int64         \n",
            " 12  Extracted Interaction Text  5089 non-null   object        \n",
            "dtypes: datetime64[ns](2), int64(3), object(8)\n",
            "memory usage: 517.0+ KB\n"
          ],
          "name": "stdout"
        }
      ]
    },
    {
      "cell_type": "code",
      "metadata": {
        "id": "5IRrh01b0ZU6",
        "colab_type": "code",
        "colab": {}
      },
      "source": [
        "#training\n",
        "features_train = k_train.iloc[:, 12].values\n",
        "labels_train = k_train.iloc[:, 6].values\n"
      ],
      "execution_count": 31,
      "outputs": []
    },
    {
      "cell_type": "code",
      "metadata": {
        "id": "qt9CDO9e0zHr",
        "colab_type": "code",
        "colab": {
          "base_uri": "https://localhost:8080/",
          "height": 137
        },
        "outputId": "db3cebba-cdb9-41e2-c13f-3f4c37aa0cc5"
      },
      "source": [
        "features_train[1]"
      ],
      "execution_count": 32,
      "outputs": [
        {
          "output_type": "execute_result",
          "data": {
            "application/vnd.google.colaboratory.intrinsic+json": {
              "type": "string"
            },
            "text/plain": [
              "\"I want to thank you for the excellent service I received at the LMN Service Center this week. The repair estimates I had received from other garages left me with little hope of a low cost repair; however, your mechanics found the problem in a faulty $12 switch and replaced it at no charge because they had serviced the car so recently. Having a mechanic that one can trust gives a welcome sense of security in today's world. I will recommend LMN Auto to all my friends., We found your bid well-prepared, but considerably higher than the competitior's. We have awarded the job to a local company. , Can we negotiate the price, your current price is too hight, I have'nt received any updates from you though I asked you specifically to send me the same, We would like to begin the project as soon as possible and look forward to meeting with you. , Thank you for your prompt deliveries to our MSD Plant. We want you to know that we appreciate your efforts and look forward to continuing our business relationship., I accept with pleasure the position of Social Worker in the hospital's Department of Social Work at an annual salary of $25,000. Be assured that I am grateful for this opportunity to contribute to the hospital's reputation for outstanding community service., I am not sure if we need the product right now, We assure you that you will be able to cut costs for your company by using our product, Your sales record is very impressive. We recognize that you have consistently achieved, and often exceeded, your goals. Such performance does not go unnoticed. Zoho Corporation is fortunate to have such an energetic, talented salesperson on its staff. Together we can accomplish great things. Keep up the good work!, Congratulations! The board just appointed you the new manager of the accounting department. The board also gave you a $5,000 raise, effective May 5. You are very deserving of this promotion. I am certain that you will excel in your new position., This letter is to inform you of my decision to resign from my position as a technical writer, effective in two weeks. Despite sterling evaluations from my superiors, the challenges and rewards I seek from my employment do not appear to be forthcoming. It is, therefore, unconscionable for me to remain with a company that neither rewards my accomplishments nor recognizes my potential., We are sorry to inform that we have finalized the deal with some other company who was offering the same features but at a reduced cost., I would like to send you a 2-minute demo video of gainsigh customer success management solution., I don't like your proposal, My last day of being a manager at MaXCorp will be two weeks from Friday, as I am resigning to accept another position., On behalf of the rest of the management team, I want to tell you how much we appreciate the endless hours of service you dedicated to getting the ZXC project completed on time. We all admired your ingenuity in creating that outstanding package for the ZZ Corporation. I was personally impressed with the way you kept your staff motivated and focused, even in the face of several obstacles. Thank you for giving this company your best. May you enjoy this type of success in all your endeavors., Unfortunately, the manufacturer has discontinued this item. , Because we only redo the catalogue every two years, we are unable to use your ideas at this time., we all hope the best for you. your contributions to product development were superlative. i wish you continued success in your new job. please keep in touch., I have considered it carefully and must decline the offer because the position will require too much travel., Thank you for taking time from your busy schedule to meet with me next Monday, May 12. , As the manager of our computer department, I commend your employee, Jack, for the prompt and courteous service he gave us last week. , The trustees have approved your proposal to upgrade the lighting in the south parking lot as soon as we start a new budget year. We have scheduled a meeting with the construction supervisor for 11:00 a.m. on August 10. Please inform Jane if this is not a good time, so we can reschedule the meeting. , It is with sincere regret that I must inform you that your employment at Addison Systems Inc. will be terminated as of Friday January 31, 20xx. , I am pleased we will be able to discuss the management plan. I will meet you at the Park Plaza at 12:00 p.m. Thursday. I believe this meeting will help us speed up the project., Please accept my regrets in resigning from my position as Stockroom Manager, effective two weeks from today's date., We have approved your proposal to begin a search for a 401(k) provider. Let's get together in my office next Friday to discuss your progress. Good luck., This letter is to notify you of my intent to resign from my position as Assistant Personnel Supervisor. Although I enjoy my job tremendously, I am terribly disappointed that I received only a 2 percent salary increase this year. My evaluations have been consistently outstanding, but my salary does not appropriately reflect this fact. , I'm not convinced with the report, Can we negotiate the price, your current price is too hight, It is my pleasure to inform you that you have been selected as the new team leader for development. This significant step on your career path will bring you additional responsibilities, job satisfaction, and financial rewards. Congratulations on your new assignment!, We can't go any further with the proposal you presented, We would like you to attend the conference. , We are aware of the great deal of time and work that went into your bid and therefore, regret to inform you that we have awarded the contract to another firm., Why did'nt you send me the reports? I need them asap, I'm not convinced with the idea, I won't be available for a call, We are pleased to inform you that we have accepted the business proposal sent by you and we are looking forward to work with the best of our business knowledge and potentials. We would like to take this esteem moment to thank you for offering us an opportunity to work with you. In the meantime, it is important to conduct a business meeting so as to discuss the terms and conditions of the business proposal., Please accept my apology for the manner in which we handled your complaint this morning. We look forward to serving you better in the coming months., Because we only redo the catalogue every two years, we are unable to use your ideas at this time., It is with sincere regret that I must inform you that your employment at Addison Systems Inc. will be terminated as of Friday January 31, 20xx. , speaking with you and your staff will be a tremendous opportunity for me to present our product line. i sincerely thank you for extending this offer and expect to meet with you, as requested in your invitation, on friday, may 9, at 3:00 p.m. in your conference room., I won't be available for a call, As you are aware, the downturn in the economy has taken its toll on QWE Corporation. Consequently, our Springfield office will lose five jobs. I am sorry to inform you that effective February 19, your position will be one of those five., Our congratulations on your sales success for the last quarter. We know such an achievement does not come easily, and we compliment you on your hard work. You are setting a high standard for others to follow. We are fortunate to have you on our team and look forward to more success in the future., We are looking forward to continued cooperation with you as our business expansion becomes a reality. , I wish to commend your receptionist, Jany Dan, for the way she handled our problem yesterday. She was courteous and friendly as she made half a dozen telephone calls on my behalf, not giving up until she had traced the missing shipment. Ms. Dan is an asset to your organization and is part of the reason I look forward to doing business with you again in the future.\""
            ]
          },
          "metadata": {
            "tags": []
          },
          "execution_count": 32
        }
      ]
    },
    {
      "cell_type": "code",
      "metadata": {
        "id": "PucMkMyT02pT",
        "colab_type": "code",
        "colab": {
          "base_uri": "https://localhost:8080/",
          "height": 35
        },
        "outputId": "4b58da69-d59f-4877-9f13-d795d150644e"
      },
      "source": [
        "labels_train[3]"
      ],
      "execution_count": 33,
      "outputs": [
        {
          "output_type": "execute_result",
          "data": {
            "application/vnd.google.colaboratory.intrinsic+json": {
              "type": "string"
            },
            "text/plain": [
              "'Lost'"
            ]
          },
          "metadata": {
            "tags": []
          },
          "execution_count": 33
        }
      ]
    },
    {
      "cell_type": "code",
      "metadata": {
        "id": "vcXN_JGn076P",
        "colab_type": "code",
        "colab": {}
      },
      "source": [
        "processed_features_train = []\n",
        "\n",
        "for sentence in range(0, len(features_train)):\n",
        "    # Remove all the special characters\n",
        "    processed_feature = re.sub(r'\\W', ' ', str(features_train[sentence]))\n",
        "\n",
        "    # remove all single characters\n",
        "    processed_feature= re.sub(r'\\s+[a-zA-Z]\\s+', ' ', processed_feature)\n",
        "\n",
        "    # Remove single characters from the start\n",
        "    processed_feature = re.sub(r'\\^[a-zA-Z]\\s+', ' ', processed_feature) \n",
        "\n",
        "    # Substituting multiple spaces with single space\n",
        "    processed_feature = re.sub(r'\\s+', ' ', processed_feature, flags=re.I)\n",
        "\n",
        "    # Removing prefixed 'b'\n",
        "    processed_feature = re.sub(r'^b\\s+', '', processed_feature)\n",
        "\n",
        "    # Converting to Lowercase\n",
        "    processed_feature = processed_feature.lower()\n",
        "\n",
        "    processed_features_train.append(processed_feature)"
      ],
      "execution_count": 34,
      "outputs": []
    },
    {
      "cell_type": "code",
      "metadata": {
        "id": "lNEy36V80_Bk",
        "colab_type": "code",
        "colab": {
          "base_uri": "https://localhost:8080/",
          "height": 137
        },
        "outputId": "fe6353cc-cc61-4c19-d447-2441afa5f5df"
      },
      "source": [
        "processed_features_train[1]"
      ],
      "execution_count": 35,
      "outputs": [
        {
          "output_type": "execute_result",
          "data": {
            "application/vnd.google.colaboratory.intrinsic+json": {
              "type": "string"
            },
            "text/plain": [
              "'i want to thank you for the excellent service received at the lmn service center this week the repair estimates had received from other garages left me with little hope of low cost repair however your mechanics found the problem in faulty 12 switch and replaced it at no charge because they had serviced the car so recently having mechanic that one can trust gives welcome sense of security in today world will recommend lmn auto to all my friends we found your bid well prepared but considerably higher than the competitior we have awarded the job to local company can we negotiate the price your current price is too hight have nt received any updates from you though asked you specifically to send me the same we would like to begin the project as soon as possible and look forward to meeting with you thank you for your prompt deliveries to our msd plant we want you to know that we appreciate your efforts and look forward to continuing our business relationship accept with pleasure the position of social worker in the hospital department of social work at an annual salary of 25 000 be assured that am grateful for this opportunity to contribute to the hospital reputation for outstanding community service am not sure if we need the product right now we assure you that you will be able to cut costs for your company by using our product your sales record is very impressive we recognize that you have consistently achieved and often exceeded your goals such performance does not go unnoticed zoho corporation is fortunate to have such an energetic talented salesperson on its staff together we can accomplish great things keep up the good work congratulations the board just appointed you the new manager of the accounting department the board also gave you 5 000 raise effective may 5 you are very deserving of this promotion am certain that you will excel in your new position this letter is to inform you of my decision to resign from my position as technical writer effective in two weeks despite sterling evaluations from my superiors the challenges and rewards seek from my employment do not appear to be forthcoming it is therefore unconscionable for me to remain with company that neither rewards my accomplishments nor recognizes my potential we are sorry to inform that we have finalized the deal with some other company who was offering the same features but at reduced cost would like to send you 2 minute demo video of gainsigh customer success management solution don like your proposal my last day of being manager at maxcorp will be two weeks from friday as am resigning to accept another position on behalf of the rest of the management team want to tell you how much we appreciate the endless hours of service you dedicated to getting the zxc project completed on time we all admired your ingenuity in creating that outstanding package for the zz corporation was personally impressed with the way you kept your staff motivated and focused even in the face of several obstacles thank you for giving this company your best may you enjoy this type of success in all your endeavors unfortunately the manufacturer has discontinued this item because we only redo the catalogue every two years we are unable to use your ideas at this time we all hope the best for you your contributions to product development were superlative wish you continued success in your new job please keep in touch have considered it carefully and must decline the offer because the position will require too much travel thank you for taking time from your busy schedule to meet with me next monday may 12 as the manager of our computer department commend your employee jack for the prompt and courteous service he gave us last week the trustees have approved your proposal to upgrade the lighting in the south parking lot as soon as we start new budget year we have scheduled meeting with the construction supervisor for 11 00 m on august 10 please inform jane if this is not good time so we can reschedule the meeting it is with sincere regret that must inform you that your employment at addison systems inc will be terminated as of friday january 31 20xx am pleased we will be able to discuss the management plan will meet you at the park plaza at 12 00 m thursday believe this meeting will help us speed up the project please accept my regrets in resigning from my position as stockroom manager effective two weeks from today date we have approved your proposal to begin search for 401 provider let get together in my office next friday to discuss your progress good luck this letter is to notify you of my intent to resign from my position as assistant personnel supervisor although enjoy my job tremendously am terribly disappointed that received only 2 percent salary increase this year my evaluations have been consistently outstanding but my salary does not appropriately reflect this fact m not convinced with the report can we negotiate the price your current price is too hight it is my pleasure to inform you that you have been selected as the new team leader for development this significant step on your career path will bring you additional responsibilities job satisfaction and financial rewards congratulations on your new assignment we can go any further with the proposal you presented we would like you to attend the conference we are aware of the great deal of time and work that went into your bid and therefore regret to inform you that we have awarded the contract to another firm why did nt you send me the reports need them asap m not convinced with the idea won be available for call we are pleased to inform you that we have accepted the business proposal sent by you and we are looking forward to work with the best of our business knowledge and potentials we would like to take this esteem moment to thank you for offering us an opportunity to work with you in the meantime it is important to conduct business meeting so as to discuss the terms and conditions of the business proposal please accept my apology for the manner in which we handled your complaint this morning we look forward to serving you better in the coming months because we only redo the catalogue every two years we are unable to use your ideas at this time it is with sincere regret that must inform you that your employment at addison systems inc will be terminated as of friday january 31 20xx speaking with you and your staff will be tremendous opportunity for me to present our product line sincerely thank you for extending this offer and expect to meet with you as requested in your invitation on friday may 9 at 3 00 m in your conference room won be available for call as you are aware the downturn in the economy has taken its toll on qwe corporation consequently our springfield office will lose five jobs am sorry to inform you that effective february 19 your position will be one of those five our congratulations on your sales success for the last quarter we know such an achievement does not come easily and we compliment you on your hard work you are setting high standard for others to follow we are fortunate to have you on our team and look forward to more success in the future we are looking forward to continued cooperation with you as our business expansion becomes reality wish to commend your receptionist jany dan for the way she handled our problem yesterday she was courteous and friendly as she made half dozen telephone calls on my behalf not giving up until she had traced the missing shipment ms dan is an asset to your organization and is part of the reason look forward to doing business with you again in the future '"
            ]
          },
          "metadata": {
            "tags": []
          },
          "execution_count": 35
        }
      ]
    },
    {
      "cell_type": "code",
      "metadata": {
        "id": "7l63piHhJPPv",
        "colab_type": "code",
        "colab": {
          "base_uri": "https://localhost:8080/",
          "height": 68
        },
        "outputId": "1ce154b5-8d8c-4339-99ac-b49145a1d68e"
      },
      "source": [
        "import nltk\n",
        "nltk.download('stopwords')"
      ],
      "execution_count": 37,
      "outputs": [
        {
          "output_type": "stream",
          "text": [
            "[nltk_data] Downloading package stopwords to /root/nltk_data...\n",
            "[nltk_data]   Unzipping corpora/stopwords.zip.\n"
          ],
          "name": "stdout"
        },
        {
          "output_type": "execute_result",
          "data": {
            "text/plain": [
              "True"
            ]
          },
          "metadata": {
            "tags": []
          },
          "execution_count": 37
        }
      ]
    },
    {
      "cell_type": "code",
      "metadata": {
        "id": "BxKTt5vbI_VZ",
        "colab_type": "code",
        "colab": {}
      },
      "source": [
        "from nltk.corpus import stopwords\n",
        "from sklearn.feature_extraction.text import TfidfVectorizer\n",
        "\n",
        "vectorizer = TfidfVectorizer (max_features=2500, min_df=7, max_df=0.8, stop_words=stopwords.words('english'))\n",
        "processed_features_train = vectorizer.fit_transform(processed_features_train).toarray()"
      ],
      "execution_count": 38,
      "outputs": []
    },
    {
      "cell_type": "code",
      "metadata": {
        "id": "76BtvcY31HFL",
        "colab_type": "code",
        "colab": {}
      },
      "source": [
        "from sklearn.model_selection import train_test_split\n",
        "\n",
        "X_train, X_val, y_train, y_val = train_test_split(processed_features_train, labels_train, test_size=0.2, random_state=0)"
      ],
      "execution_count": 39,
      "outputs": []
    },
    {
      "cell_type": "code",
      "metadata": {
        "id": "G82N_8lsJfJy",
        "colab_type": "code",
        "colab": {
          "base_uri": "https://localhost:8080/",
          "height": 153
        },
        "outputId": "b763c560-707c-479e-e809-bb19a287294f"
      },
      "source": [
        "from sklearn.ensemble import RandomForestClassifier\n",
        "\n",
        "text_classifier = RandomForestClassifier(n_estimators=200, random_state=0)\n",
        "text_classifier.fit(X_train, y_train)\n"
      ],
      "execution_count": 40,
      "outputs": [
        {
          "output_type": "execute_result",
          "data": {
            "text/plain": [
              "RandomForestClassifier(bootstrap=True, ccp_alpha=0.0, class_weight=None,\n",
              "                       criterion='gini', max_depth=None, max_features='auto',\n",
              "                       max_leaf_nodes=None, max_samples=None,\n",
              "                       min_impurity_decrease=0.0, min_impurity_split=None,\n",
              "                       min_samples_leaf=1, min_samples_split=2,\n",
              "                       min_weight_fraction_leaf=0.0, n_estimators=200,\n",
              "                       n_jobs=None, oob_score=False, random_state=0, verbose=0,\n",
              "                       warm_start=False)"
            ]
          },
          "metadata": {
            "tags": []
          },
          "execution_count": 40
        }
      ]
    },
    {
      "cell_type": "code",
      "metadata": {
        "id": "N3SKy6m2JmxU",
        "colab_type": "code",
        "colab": {
          "base_uri": "https://localhost:8080/",
          "height": 34
        },
        "outputId": "f562a519-fca3-4b90-ac49-8ca2789c7ac8"
      },
      "source": [
        "predictions = text_classifier.predict(X_val)\n",
        "predictions"
      ],
      "execution_count": 41,
      "outputs": [
        {
          "output_type": "execute_result",
          "data": {
            "text/plain": [
              "array(['Lost', 'Won', 'Won', ..., 'Lost', 'Lost', 'Won'], dtype=object)"
            ]
          },
          "metadata": {
            "tags": []
          },
          "execution_count": 41
        }
      ]
    },
    {
      "cell_type": "code",
      "metadata": {
        "id": "W9BP0dm2JnMc",
        "colab_type": "code",
        "colab": {
          "base_uri": "https://localhost:8080/",
          "height": 221
        },
        "outputId": "b5d4d00c-0102-4f87-c51d-bb7dd0903ba1"
      },
      "source": [
        "from sklearn.metrics import classification_report, confusion_matrix, accuracy_score\n",
        "\n",
        "print(confusion_matrix(y_val,predictions))\n",
        "print(classification_report(y_val,predictions))\n",
        "print(accuracy_score(y_val, predictions))"
      ],
      "execution_count": 42,
      "outputs": [
        {
          "output_type": "stream",
          "text": [
            "[[102 289]\n",
            " [144 483]]\n",
            "              precision    recall  f1-score   support\n",
            "\n",
            "        Lost       0.41      0.26      0.32       391\n",
            "         Won       0.63      0.77      0.69       627\n",
            "\n",
            "    accuracy                           0.57      1018\n",
            "   macro avg       0.52      0.52      0.51      1018\n",
            "weighted avg       0.54      0.57      0.55      1018\n",
            "\n",
            "0.574656188605108\n"
          ],
          "name": "stdout"
        }
      ]
    },
    {
      "cell_type": "code",
      "metadata": {
        "id": "pQW2uIuK1piJ",
        "colab_type": "code",
        "colab": {
          "resources": {
            "http://localhost:8080/nbextensions/google.colab/files.js": {
              "data": "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",
              "ok": true,
              "headers": [
                [
                  "content-type",
                  "application/javascript"
                ]
              ],
              "status": 200,
              "status_text": ""
            }
          },
          "base_uri": "https://localhost:8080/",
          "height": 72
        },
        "outputId": "9a76a044-fd83-4829-8f73-85224c141baf"
      },
      "source": [
        "up = files.upload()"
      ],
      "execution_count": 43,
      "outputs": [
        {
          "output_type": "display_data",
          "data": {
            "text/html": [
              "\n",
              "     <input type=\"file\" id=\"files-5113caa6-6360-462a-af81-7065bfdc77d5\" name=\"files[]\" multiple disabled\n",
              "        style=\"border:none\" />\n",
              "     <output id=\"result-5113caa6-6360-462a-af81-7065bfdc77d5\">\n",
              "      Upload widget is only available when the cell has been executed in the\n",
              "      current browser session. Please rerun this cell to enable.\n",
              "      </output>\n",
              "      <script src=\"/nbextensions/google.colab/files.js\"></script> "
            ],
            "text/plain": [
              "<IPython.core.display.HTML object>"
            ]
          },
          "metadata": {
            "tags": []
          }
        },
        {
          "output_type": "stream",
          "text": [
            "Saving output.xlsx to output.xlsx\n"
          ],
          "name": "stdout"
        }
      ]
    },
    {
      "cell_type": "code",
      "metadata": {
        "id": "o0dRR3KD2iND",
        "colab_type": "code",
        "colab": {}
      },
      "source": [
        "k = pd.read_excel(up['output.xlsx'])"
      ],
      "execution_count": 44,
      "outputs": []
    },
    {
      "cell_type": "code",
      "metadata": {
        "id": "o_2MtDwU3Fsc",
        "colab_type": "code",
        "colab": {
          "base_uri": "https://localhost:8080/",
          "height": 581
        },
        "outputId": "e387bc68-5f71-4d50-ad76-635635cba88d"
      },
      "source": [
        "k.head()"
      ],
      "execution_count": 45,
      "outputs": [
        {
          "output_type": "execute_result",
          "data": {
            "text/html": [
              "<div>\n",
              "<style scoped>\n",
              "    .dataframe tbody tr th:only-of-type {\n",
              "        vertical-align: middle;\n",
              "    }\n",
              "\n",
              "    .dataframe tbody tr th {\n",
              "        vertical-align: top;\n",
              "    }\n",
              "\n",
              "    .dataframe thead th {\n",
              "        text-align: right;\n",
              "    }\n",
              "</style>\n",
              "<table border=\"1\" class=\"dataframe\">\n",
              "  <thead>\n",
              "    <tr style=\"text-align: right;\">\n",
              "      <th></th>\n",
              "      <th>Unnamed: 0</th>\n",
              "      <th>Account</th>\n",
              "      <th>Opportunity_ID</th>\n",
              "      <th>Sales_Agent</th>\n",
              "      <th>fromEmailId</th>\n",
              "      <th>toEmailId</th>\n",
              "      <th>Deal_Stage</th>\n",
              "      <th>Product</th>\n",
              "      <th>Close_Value</th>\n",
              "      <th>Created Date</th>\n",
              "      <th>Close Date</th>\n",
              "      <th>DateDiff</th>\n",
              "      <th>Extracted Interaction Text</th>\n",
              "    </tr>\n",
              "  </thead>\n",
              "  <tbody>\n",
              "    <tr>\n",
              "      <th>0</th>\n",
              "      <td>0</td>\n",
              "      <td>Konex</td>\n",
              "      <td>3KR50X38</td>\n",
              "      <td>Corliss Cosme</td>\n",
              "      <td>corliss@piedpiper.com</td>\n",
              "      <td>delila@konex.com</td>\n",
              "      <td>Won</td>\n",
              "      <td>GTX Plus Basic</td>\n",
              "      <td>1255</td>\n",
              "      <td>2016-01-04</td>\n",
              "      <td>2016-05-24</td>\n",
              "      <td>141</td>\n",
              "      <td>We are writing from GHF regarding the previous...</td>\n",
              "    </tr>\n",
              "    <tr>\n",
              "      <th>1</th>\n",
              "      <td>1</td>\n",
              "      <td>Finjob</td>\n",
              "      <td>YFS5KLJJ</td>\n",
              "      <td>Rosalina Dieter</td>\n",
              "      <td>rosalina@piedpiper.com</td>\n",
              "      <td>belinda@finjob.com</td>\n",
              "      <td>Won</td>\n",
              "      <td>MG Special</td>\n",
              "      <td>45</td>\n",
              "      <td>2016-01-04</td>\n",
              "      <td>2016-11-02</td>\n",
              "      <td>303</td>\n",
              "      <td>I want to thank you for the excellent service ...</td>\n",
              "    </tr>\n",
              "    <tr>\n",
              "      <th>2</th>\n",
              "      <td>2</td>\n",
              "      <td>Kinnamplus</td>\n",
              "      <td>N0ONCYVZ</td>\n",
              "      <td>Donn Cantrell</td>\n",
              "      <td>donn@piedpiper.com</td>\n",
              "      <td>monte@kinnamplus.com</td>\n",
              "      <td>Lost</td>\n",
              "      <td>MG Special</td>\n",
              "      <td>1054</td>\n",
              "      <td>2016-01-06</td>\n",
              "      <td>2016-12-07</td>\n",
              "      <td>336</td>\n",
              "      <td>I am honored that you would choose me to fill ...</td>\n",
              "    </tr>\n",
              "    <tr>\n",
              "      <th>3</th>\n",
              "      <td>3</td>\n",
              "      <td>Genco Pura Olive Oil Company</td>\n",
              "      <td>IBEUTCSW</td>\n",
              "      <td>James Ascencio</td>\n",
              "      <td>james@piedpiper.com</td>\n",
              "      <td>karole@gencopuraoliveoilcompany.com</td>\n",
              "      <td>In Progress</td>\n",
              "      <td>MG Advanced</td>\n",
              "      <td>1054</td>\n",
              "      <td>2016-01-06</td>\n",
              "      <td>2016-09-11</td>\n",
              "      <td>249</td>\n",
              "      <td>I appreciate your contribution to Morgan Stanl...</td>\n",
              "    </tr>\n",
              "    <tr>\n",
              "      <th>4</th>\n",
              "      <td>4</td>\n",
              "      <td>Initech</td>\n",
              "      <td>G8AO5FA2</td>\n",
              "      <td>Wilburn Farren</td>\n",
              "      <td>wilburn@piedpiper.com</td>\n",
              "      <td>alejandro@initech.com</td>\n",
              "      <td>Lost</td>\n",
              "      <td>MG Advanced</td>\n",
              "      <td>517</td>\n",
              "      <td>2016-01-06</td>\n",
              "      <td>2016-09-18</td>\n",
              "      <td>256</td>\n",
              "      <td>Please accept my regrets in resigning from my ...</td>\n",
              "    </tr>\n",
              "  </tbody>\n",
              "</table>\n",
              "</div>"
            ],
            "text/plain": [
              "   Unnamed: 0  ...                         Extracted Interaction Text\n",
              "0           0  ...  We are writing from GHF regarding the previous...\n",
              "1           1  ...  I want to thank you for the excellent service ...\n",
              "2           2  ...  I am honored that you would choose me to fill ...\n",
              "3           3  ...  I appreciate your contribution to Morgan Stanl...\n",
              "4           4  ...  Please accept my regrets in resigning from my ...\n",
              "\n",
              "[5 rows x 13 columns]"
            ]
          },
          "metadata": {
            "tags": []
          },
          "execution_count": 45
        }
      ]
    },
    {
      "cell_type": "code",
      "metadata": {
        "id": "zJ5Bs1843INb",
        "colab_type": "code",
        "colab": {
          "base_uri": "https://localhost:8080/",
          "height": 357
        },
        "outputId": "73a77f79-c836-45cf-bcae-6600b1355bdf"
      },
      "source": [
        "k.info()"
      ],
      "execution_count": 46,
      "outputs": [
        {
          "output_type": "stream",
          "text": [
            "<class 'pandas.core.frame.DataFrame'>\n",
            "RangeIndex: 8800 entries, 0 to 8799\n",
            "Data columns (total 13 columns):\n",
            " #   Column                      Non-Null Count  Dtype         \n",
            "---  ------                      --------------  -----         \n",
            " 0   Unnamed: 0                  8800 non-null   int64         \n",
            " 1   Account                     8800 non-null   object        \n",
            " 2   Opportunity_ID              8800 non-null   object        \n",
            " 3   Sales_Agent                 8800 non-null   object        \n",
            " 4   fromEmailId                 8800 non-null   object        \n",
            " 5   toEmailId                   8800 non-null   object        \n",
            " 6   Deal_Stage                  8800 non-null   object        \n",
            " 7   Product                     8800 non-null   object        \n",
            " 8   Close_Value                 8800 non-null   int64         \n",
            " 9   Created Date                8800 non-null   datetime64[ns]\n",
            " 10  Close Date                  8800 non-null   datetime64[ns]\n",
            " 11  DateDiff                    8800 non-null   int64         \n",
            " 12  Extracted Interaction Text  8800 non-null   object        \n",
            "dtypes: datetime64[ns](2), int64(3), object(8)\n",
            "memory usage: 893.9+ KB\n"
          ],
          "name": "stdout"
        }
      ]
    },
    {
      "cell_type": "code",
      "metadata": {
        "id": "1GTC2MT53NOu",
        "colab_type": "code",
        "colab": {
          "base_uri": "https://localhost:8080/",
          "height": 547
        },
        "outputId": "eb8c5d60-5ada-4f3b-a202-c828a9a090cd"
      },
      "source": [
        "start_date = '2017-10-01'\n",
        "end_date = '2017-10-31'\n",
        "\n",
        "mask = (k['Created Date'] >= start_date) & (k['Created Date'] <= end_date) & (k['Deal_Stage'] != 'In Progress')\n",
        "\n",
        "k_test1=k.loc[mask]\n",
        "\n",
        "k_test1.head()"
      ],
      "execution_count": 47,
      "outputs": [
        {
          "output_type": "execute_result",
          "data": {
            "text/html": [
              "<div>\n",
              "<style scoped>\n",
              "    .dataframe tbody tr th:only-of-type {\n",
              "        vertical-align: middle;\n",
              "    }\n",
              "\n",
              "    .dataframe tbody tr th {\n",
              "        vertical-align: top;\n",
              "    }\n",
              "\n",
              "    .dataframe thead th {\n",
              "        text-align: right;\n",
              "    }\n",
              "</style>\n",
              "<table border=\"1\" class=\"dataframe\">\n",
              "  <thead>\n",
              "    <tr style=\"text-align: right;\">\n",
              "      <th></th>\n",
              "      <th>Unnamed: 0</th>\n",
              "      <th>Account</th>\n",
              "      <th>Opportunity_ID</th>\n",
              "      <th>Sales_Agent</th>\n",
              "      <th>fromEmailId</th>\n",
              "      <th>toEmailId</th>\n",
              "      <th>Deal_Stage</th>\n",
              "      <th>Product</th>\n",
              "      <th>Close_Value</th>\n",
              "      <th>Created Date</th>\n",
              "      <th>Close Date</th>\n",
              "      <th>DateDiff</th>\n",
              "      <th>Extracted Interaction Text</th>\n",
              "    </tr>\n",
              "  </thead>\n",
              "  <tbody>\n",
              "    <tr>\n",
              "      <th>6295</th>\n",
              "      <td>6295</td>\n",
              "      <td>Initech</td>\n",
              "      <td>9ZKORPL2</td>\n",
              "      <td>Violet Mclelland</td>\n",
              "      <td>violet@piedpiper.com</td>\n",
              "      <td>alejandro@initech.com</td>\n",
              "      <td>Won</td>\n",
              "      <td>MG Special</td>\n",
              "      <td>45</td>\n",
              "      <td>2017-10-01</td>\n",
              "      <td>2019-07-02</td>\n",
              "      <td>639</td>\n",
              "      <td>I have'nt received any updates from you though...</td>\n",
              "    </tr>\n",
              "    <tr>\n",
              "      <th>6297</th>\n",
              "      <td>6297</td>\n",
              "      <td>Bluth Company</td>\n",
              "      <td>IUDDK8Q0</td>\n",
              "      <td>Cassey Cress</td>\n",
              "      <td>cassey@piedpiper.com</td>\n",
              "      <td>antionette@bluthcompany.com</td>\n",
              "      <td>Lost</td>\n",
              "      <td>GTXPro</td>\n",
              "      <td>517</td>\n",
              "      <td>2017-10-01</td>\n",
              "      <td>2018-07-13</td>\n",
              "      <td>285</td>\n",
              "      <td>I am sorry that we will be unable to help you ...</td>\n",
              "    </tr>\n",
              "    <tr>\n",
              "      <th>6298</th>\n",
              "      <td>6298</td>\n",
              "      <td>Dontechi</td>\n",
              "      <td>KIMUGBN5</td>\n",
              "      <td>Lajuana Vencill</td>\n",
              "      <td>lajuana@piedpiper.com</td>\n",
              "      <td>kristle@dontechi.com</td>\n",
              "      <td>Lost</td>\n",
              "      <td>MG Advanced</td>\n",
              "      <td>903</td>\n",
              "      <td>2017-10-01</td>\n",
              "      <td>2019-02-28</td>\n",
              "      <td>515</td>\n",
              "      <td>see how cutting edge technology can empower yo...</td>\n",
              "    </tr>\n",
              "    <tr>\n",
              "      <th>6299</th>\n",
              "      <td>6299</td>\n",
              "      <td>Hatfan</td>\n",
              "      <td>VIMY08JH</td>\n",
              "      <td>Maureen Marcano</td>\n",
              "      <td>maureen@piedpiper.com</td>\n",
              "      <td>tyron@hatfan.com</td>\n",
              "      <td>Won</td>\n",
              "      <td>GTX Basic</td>\n",
              "      <td>518</td>\n",
              "      <td>2017-10-01</td>\n",
              "      <td>2019-06-20</td>\n",
              "      <td>627</td>\n",
              "      <td>I'm not convinced with the idea, I wish to com...</td>\n",
              "    </tr>\n",
              "    <tr>\n",
              "      <th>6300</th>\n",
              "      <td>6300</td>\n",
              "      <td>Ron-tech</td>\n",
              "      <td>Y9SCLUH8</td>\n",
              "      <td>Jonathan Berthelot</td>\n",
              "      <td>jonathan@piedpiper.com</td>\n",
              "      <td>kelly@ron-tech.com</td>\n",
              "      <td>Won</td>\n",
              "      <td>GTX Plus Basic</td>\n",
              "      <td>835</td>\n",
              "      <td>2017-10-01</td>\n",
              "      <td>2018-03-27</td>\n",
              "      <td>177</td>\n",
              "      <td>We are sorry to inform you that we have to ter...</td>\n",
              "    </tr>\n",
              "  </tbody>\n",
              "</table>\n",
              "</div>"
            ],
            "text/plain": [
              "      Unnamed: 0  ...                         Extracted Interaction Text\n",
              "6295        6295  ...  I have'nt received any updates from you though...\n",
              "6297        6297  ...  I am sorry that we will be unable to help you ...\n",
              "6298        6298  ...  see how cutting edge technology can empower yo...\n",
              "6299        6299  ...  I'm not convinced with the idea, I wish to com...\n",
              "6300        6300  ...  We are sorry to inform you that we have to ter...\n",
              "\n",
              "[5 rows x 13 columns]"
            ]
          },
          "metadata": {
            "tags": []
          },
          "execution_count": 47
        }
      ]
    },
    {
      "cell_type": "code",
      "metadata": {
        "id": "Bh4B6fwP9Wso",
        "colab_type": "code",
        "colab": {
          "base_uri": "https://localhost:8080/",
          "height": 357
        },
        "outputId": "7d233e6e-6650-454b-e3c7-7524f9f92b7e"
      },
      "source": [
        "k_test1.info()"
      ],
      "execution_count": 48,
      "outputs": [
        {
          "output_type": "stream",
          "text": [
            "<class 'pandas.core.frame.DataFrame'>\n",
            "Int64Index: 563 entries, 6295 to 6987\n",
            "Data columns (total 13 columns):\n",
            " #   Column                      Non-Null Count  Dtype         \n",
            "---  ------                      --------------  -----         \n",
            " 0   Unnamed: 0                  563 non-null    int64         \n",
            " 1   Account                     563 non-null    object        \n",
            " 2   Opportunity_ID              563 non-null    object        \n",
            " 3   Sales_Agent                 563 non-null    object        \n",
            " 4   fromEmailId                 563 non-null    object        \n",
            " 5   toEmailId                   563 non-null    object        \n",
            " 6   Deal_Stage                  563 non-null    object        \n",
            " 7   Product                     563 non-null    object        \n",
            " 8   Close_Value                 563 non-null    int64         \n",
            " 9   Created Date                563 non-null    datetime64[ns]\n",
            " 10  Close Date                  563 non-null    datetime64[ns]\n",
            " 11  DateDiff                    563 non-null    int64         \n",
            " 12  Extracted Interaction Text  563 non-null    object        \n",
            "dtypes: datetime64[ns](2), int64(3), object(8)\n",
            "memory usage: 61.6+ KB\n"
          ],
          "name": "stdout"
        }
      ]
    },
    {
      "cell_type": "code",
      "metadata": {
        "id": "6ka-8IT54Ooj",
        "colab_type": "code",
        "colab": {}
      },
      "source": [
        "#testing1\n",
        "features_test1 = k_test1.iloc[:, 12].values\n",
        "labels_test1 = k_test1.iloc[:, 6].values\n",
        "\n",
        "processed_features_test1 = []\n",
        "\n",
        "for sentence in range(0, len(features_test1)):\n",
        "    # Remove all the special characters\n",
        "    processed_feature = re.sub(r'\\W', ' ', str(features_test1[sentence]))\n",
        "\n",
        "    # remove all single characters\n",
        "    processed_feature= re.sub(r'\\s+[a-zA-Z]\\s+', ' ', processed_feature)\n",
        "\n",
        "    # Remove single characters from the start\n",
        "    processed_feature = re.sub(r'\\^[a-zA-Z]\\s+', ' ', processed_feature) \n",
        "\n",
        "    # Substituting multiple spaces with single space\n",
        "    processed_feature = re.sub(r'\\s+', ' ', processed_feature, flags=re.I)\n",
        "\n",
        "    # Removing prefixed 'b'\n",
        "    processed_feature = re.sub(r'^b\\s+', '', processed_feature)\n",
        "\n",
        "    # Converting to Lowercase\n",
        "    processed_feature = processed_feature.lower()\n",
        "\n",
        "    processed_features_test1.append(processed_feature)\n",
        "\n",
        "\n",
        "X_test1 = vectorizer.transform(processed_features_test1).toarray()\n"
      ],
      "execution_count": 49,
      "outputs": []
    },
    {
      "cell_type": "code",
      "metadata": {
        "id": "8ypMCNIb-ymw",
        "colab_type": "code",
        "colab": {}
      },
      "source": [
        "y_pred1=text_classifier.predict(X_test1)"
      ],
      "execution_count": 50,
      "outputs": []
    },
    {
      "cell_type": "code",
      "metadata": {
        "id": "aXz-DD17-5HD",
        "colab_type": "code",
        "colab": {
          "base_uri": "https://localhost:8080/",
          "height": 221
        },
        "outputId": "ebea11f8-50a5-4160-b4ae-d2e2dc90fa52"
      },
      "source": [
        "from sklearn.metrics import classification_report, confusion_matrix, accuracy_score\n",
        "\n",
        "print(confusion_matrix(labels_test1,y_pred1))\n",
        "print(classification_report(labels_test1,y_pred1))\n",
        "print(accuracy_score(labels_test1, y_pred1))"
      ],
      "execution_count": 51,
      "outputs": [
        {
          "output_type": "stream",
          "text": [
            "[[ 57 141]\n",
            " [ 91 274]]\n",
            "              precision    recall  f1-score   support\n",
            "\n",
            "        Lost       0.39      0.29      0.33       198\n",
            "         Won       0.66      0.75      0.70       365\n",
            "\n",
            "    accuracy                           0.59       563\n",
            "   macro avg       0.52      0.52      0.52       563\n",
            "weighted avg       0.56      0.59      0.57       563\n",
            "\n",
            "0.5879218472468917\n"
          ],
          "name": "stdout"
        }
      ]
    },
    {
      "cell_type": "code",
      "metadata": {
        "id": "cohbz7-HkxHO",
        "colab_type": "code",
        "colab": {
          "base_uri": "https://localhost:8080/",
          "height": 649
        },
        "outputId": "c498ea47-462d-4569-94d1-e8133f974b90"
      },
      "source": [
        "k_test1['Prediction']=y_pred1\n",
        "k_test1.head()"
      ],
      "execution_count": 52,
      "outputs": [
        {
          "output_type": "stream",
          "text": [
            "/usr/local/lib/python3.6/dist-packages/ipykernel_launcher.py:1: SettingWithCopyWarning: \n",
            "A value is trying to be set on a copy of a slice from a DataFrame.\n",
            "Try using .loc[row_indexer,col_indexer] = value instead\n",
            "\n",
            "See the caveats in the documentation: https://pandas.pydata.org/pandas-docs/stable/user_guide/indexing.html#returning-a-view-versus-a-copy\n",
            "  \"\"\"Entry point for launching an IPython kernel.\n"
          ],
          "name": "stderr"
        },
        {
          "output_type": "execute_result",
          "data": {
            "text/html": [
              "<div>\n",
              "<style scoped>\n",
              "    .dataframe tbody tr th:only-of-type {\n",
              "        vertical-align: middle;\n",
              "    }\n",
              "\n",
              "    .dataframe tbody tr th {\n",
              "        vertical-align: top;\n",
              "    }\n",
              "\n",
              "    .dataframe thead th {\n",
              "        text-align: right;\n",
              "    }\n",
              "</style>\n",
              "<table border=\"1\" class=\"dataframe\">\n",
              "  <thead>\n",
              "    <tr style=\"text-align: right;\">\n",
              "      <th></th>\n",
              "      <th>Unnamed: 0</th>\n",
              "      <th>Account</th>\n",
              "      <th>Opportunity_ID</th>\n",
              "      <th>Sales_Agent</th>\n",
              "      <th>fromEmailId</th>\n",
              "      <th>toEmailId</th>\n",
              "      <th>Deal_Stage</th>\n",
              "      <th>Product</th>\n",
              "      <th>Close_Value</th>\n",
              "      <th>Created Date</th>\n",
              "      <th>Close Date</th>\n",
              "      <th>DateDiff</th>\n",
              "      <th>Extracted Interaction Text</th>\n",
              "      <th>Prediction</th>\n",
              "    </tr>\n",
              "  </thead>\n",
              "  <tbody>\n",
              "    <tr>\n",
              "      <th>6295</th>\n",
              "      <td>6295</td>\n",
              "      <td>Initech</td>\n",
              "      <td>9ZKORPL2</td>\n",
              "      <td>Violet Mclelland</td>\n",
              "      <td>violet@piedpiper.com</td>\n",
              "      <td>alejandro@initech.com</td>\n",
              "      <td>Won</td>\n",
              "      <td>MG Special</td>\n",
              "      <td>45</td>\n",
              "      <td>2017-10-01</td>\n",
              "      <td>2019-07-02</td>\n",
              "      <td>639</td>\n",
              "      <td>I have'nt received any updates from you though...</td>\n",
              "      <td>Lost</td>\n",
              "    </tr>\n",
              "    <tr>\n",
              "      <th>6297</th>\n",
              "      <td>6297</td>\n",
              "      <td>Bluth Company</td>\n",
              "      <td>IUDDK8Q0</td>\n",
              "      <td>Cassey Cress</td>\n",
              "      <td>cassey@piedpiper.com</td>\n",
              "      <td>antionette@bluthcompany.com</td>\n",
              "      <td>Lost</td>\n",
              "      <td>GTXPro</td>\n",
              "      <td>517</td>\n",
              "      <td>2017-10-01</td>\n",
              "      <td>2018-07-13</td>\n",
              "      <td>285</td>\n",
              "      <td>I am sorry that we will be unable to help you ...</td>\n",
              "      <td>Won</td>\n",
              "    </tr>\n",
              "    <tr>\n",
              "      <th>6298</th>\n",
              "      <td>6298</td>\n",
              "      <td>Dontechi</td>\n",
              "      <td>KIMUGBN5</td>\n",
              "      <td>Lajuana Vencill</td>\n",
              "      <td>lajuana@piedpiper.com</td>\n",
              "      <td>kristle@dontechi.com</td>\n",
              "      <td>Lost</td>\n",
              "      <td>MG Advanced</td>\n",
              "      <td>903</td>\n",
              "      <td>2017-10-01</td>\n",
              "      <td>2019-02-28</td>\n",
              "      <td>515</td>\n",
              "      <td>see how cutting edge technology can empower yo...</td>\n",
              "      <td>Lost</td>\n",
              "    </tr>\n",
              "    <tr>\n",
              "      <th>6299</th>\n",
              "      <td>6299</td>\n",
              "      <td>Hatfan</td>\n",
              "      <td>VIMY08JH</td>\n",
              "      <td>Maureen Marcano</td>\n",
              "      <td>maureen@piedpiper.com</td>\n",
              "      <td>tyron@hatfan.com</td>\n",
              "      <td>Won</td>\n",
              "      <td>GTX Basic</td>\n",
              "      <td>518</td>\n",
              "      <td>2017-10-01</td>\n",
              "      <td>2019-06-20</td>\n",
              "      <td>627</td>\n",
              "      <td>I'm not convinced with the idea, I wish to com...</td>\n",
              "      <td>Won</td>\n",
              "    </tr>\n",
              "    <tr>\n",
              "      <th>6300</th>\n",
              "      <td>6300</td>\n",
              "      <td>Ron-tech</td>\n",
              "      <td>Y9SCLUH8</td>\n",
              "      <td>Jonathan Berthelot</td>\n",
              "      <td>jonathan@piedpiper.com</td>\n",
              "      <td>kelly@ron-tech.com</td>\n",
              "      <td>Won</td>\n",
              "      <td>GTX Plus Basic</td>\n",
              "      <td>835</td>\n",
              "      <td>2017-10-01</td>\n",
              "      <td>2018-03-27</td>\n",
              "      <td>177</td>\n",
              "      <td>We are sorry to inform you that we have to ter...</td>\n",
              "      <td>Lost</td>\n",
              "    </tr>\n",
              "  </tbody>\n",
              "</table>\n",
              "</div>"
            ],
            "text/plain": [
              "      Unnamed: 0  ... Prediction\n",
              "6295        6295  ...       Lost\n",
              "6297        6297  ...        Won\n",
              "6298        6298  ...       Lost\n",
              "6299        6299  ...        Won\n",
              "6300        6300  ...       Lost\n",
              "\n",
              "[5 rows x 14 columns]"
            ]
          },
          "metadata": {
            "tags": []
          },
          "execution_count": 52
        }
      ]
    },
    {
      "cell_type": "code",
      "metadata": {
        "id": "Mskzx-XFojjR",
        "colab_type": "code",
        "colab": {
          "base_uri": "https://localhost:8080/",
          "height": 68
        },
        "outputId": "98bb3983-e2b1-470a-a4e2-d6ac6de30248"
      },
      "source": [
        "mask1 = (k_test1['Prediction'] == 'Won')\n",
        "\n",
        "k_test11=k_test1.loc[mask1]\n",
        "\n",
        "Oct_2017_pred=k_test11['Close_Value'].sum()\n",
        "print(Oct_2017_pred)\n",
        "\n",
        "mask2 = (k_test1['Deal_Stage'] == 'Won')\n",
        "\n",
        "k_test12=k_test1.loc[mask2]\n",
        "\n",
        "Oct_2017_act=k_test12['Close_Value'].sum()\n",
        "print(Oct_2017_act)\n",
        "\n",
        "dev1=((Oct_2017_pred-Oct_2017_act)/Oct_2017_act)*100\n",
        "dev1= str(dev1)+'%'\n",
        "print(dev1)"
      ],
      "execution_count": 55,
      "outputs": [
        {
          "output_type": "stream",
          "text": [
            "872217\n",
            "871064\n",
            "0.132366852493043%\n"
          ],
          "name": "stdout"
        }
      ]
    },
    {
      "cell_type": "code",
      "metadata": {
        "id": "3Jll8NSCAIpu",
        "colab_type": "code",
        "colab": {
          "base_uri": "https://localhost:8080/",
          "height": 547
        },
        "outputId": "6a73461c-094c-4327-f6af-d55dbc546ff9"
      },
      "source": [
        "start_date = '2017-10-01'\n",
        "end_date = '2017-12-31'\n",
        "\n",
        "mask = (k['Created Date'] >= start_date) & (k['Created Date'] <= end_date) & (k['Deal_Stage'] != 'In Progress')\n",
        "\n",
        "k_test2=k.loc[mask]\n",
        "\n",
        "k_test2.head()"
      ],
      "execution_count": 56,
      "outputs": [
        {
          "output_type": "execute_result",
          "data": {
            "text/html": [
              "<div>\n",
              "<style scoped>\n",
              "    .dataframe tbody tr th:only-of-type {\n",
              "        vertical-align: middle;\n",
              "    }\n",
              "\n",
              "    .dataframe tbody tr th {\n",
              "        vertical-align: top;\n",
              "    }\n",
              "\n",
              "    .dataframe thead th {\n",
              "        text-align: right;\n",
              "    }\n",
              "</style>\n",
              "<table border=\"1\" class=\"dataframe\">\n",
              "  <thead>\n",
              "    <tr style=\"text-align: right;\">\n",
              "      <th></th>\n",
              "      <th>Unnamed: 0</th>\n",
              "      <th>Account</th>\n",
              "      <th>Opportunity_ID</th>\n",
              "      <th>Sales_Agent</th>\n",
              "      <th>fromEmailId</th>\n",
              "      <th>toEmailId</th>\n",
              "      <th>Deal_Stage</th>\n",
              "      <th>Product</th>\n",
              "      <th>Close_Value</th>\n",
              "      <th>Created Date</th>\n",
              "      <th>Close Date</th>\n",
              "      <th>DateDiff</th>\n",
              "      <th>Extracted Interaction Text</th>\n",
              "    </tr>\n",
              "  </thead>\n",
              "  <tbody>\n",
              "    <tr>\n",
              "      <th>6295</th>\n",
              "      <td>6295</td>\n",
              "      <td>Initech</td>\n",
              "      <td>9ZKORPL2</td>\n",
              "      <td>Violet Mclelland</td>\n",
              "      <td>violet@piedpiper.com</td>\n",
              "      <td>alejandro@initech.com</td>\n",
              "      <td>Won</td>\n",
              "      <td>MG Special</td>\n",
              "      <td>45</td>\n",
              "      <td>2017-10-01</td>\n",
              "      <td>2019-07-02</td>\n",
              "      <td>639</td>\n",
              "      <td>I have'nt received any updates from you though...</td>\n",
              "    </tr>\n",
              "    <tr>\n",
              "      <th>6297</th>\n",
              "      <td>6297</td>\n",
              "      <td>Bluth Company</td>\n",
              "      <td>IUDDK8Q0</td>\n",
              "      <td>Cassey Cress</td>\n",
              "      <td>cassey@piedpiper.com</td>\n",
              "      <td>antionette@bluthcompany.com</td>\n",
              "      <td>Lost</td>\n",
              "      <td>GTXPro</td>\n",
              "      <td>517</td>\n",
              "      <td>2017-10-01</td>\n",
              "      <td>2018-07-13</td>\n",
              "      <td>285</td>\n",
              "      <td>I am sorry that we will be unable to help you ...</td>\n",
              "    </tr>\n",
              "    <tr>\n",
              "      <th>6298</th>\n",
              "      <td>6298</td>\n",
              "      <td>Dontechi</td>\n",
              "      <td>KIMUGBN5</td>\n",
              "      <td>Lajuana Vencill</td>\n",
              "      <td>lajuana@piedpiper.com</td>\n",
              "      <td>kristle@dontechi.com</td>\n",
              "      <td>Lost</td>\n",
              "      <td>MG Advanced</td>\n",
              "      <td>903</td>\n",
              "      <td>2017-10-01</td>\n",
              "      <td>2019-02-28</td>\n",
              "      <td>515</td>\n",
              "      <td>see how cutting edge technology can empower yo...</td>\n",
              "    </tr>\n",
              "    <tr>\n",
              "      <th>6299</th>\n",
              "      <td>6299</td>\n",
              "      <td>Hatfan</td>\n",
              "      <td>VIMY08JH</td>\n",
              "      <td>Maureen Marcano</td>\n",
              "      <td>maureen@piedpiper.com</td>\n",
              "      <td>tyron@hatfan.com</td>\n",
              "      <td>Won</td>\n",
              "      <td>GTX Basic</td>\n",
              "      <td>518</td>\n",
              "      <td>2017-10-01</td>\n",
              "      <td>2019-06-20</td>\n",
              "      <td>627</td>\n",
              "      <td>I'm not convinced with the idea, I wish to com...</td>\n",
              "    </tr>\n",
              "    <tr>\n",
              "      <th>6300</th>\n",
              "      <td>6300</td>\n",
              "      <td>Ron-tech</td>\n",
              "      <td>Y9SCLUH8</td>\n",
              "      <td>Jonathan Berthelot</td>\n",
              "      <td>jonathan@piedpiper.com</td>\n",
              "      <td>kelly@ron-tech.com</td>\n",
              "      <td>Won</td>\n",
              "      <td>GTX Plus Basic</td>\n",
              "      <td>835</td>\n",
              "      <td>2017-10-01</td>\n",
              "      <td>2018-03-27</td>\n",
              "      <td>177</td>\n",
              "      <td>We are sorry to inform you that we have to ter...</td>\n",
              "    </tr>\n",
              "  </tbody>\n",
              "</table>\n",
              "</div>"
            ],
            "text/plain": [
              "      Unnamed: 0  ...                         Extracted Interaction Text\n",
              "6295        6295  ...  I have'nt received any updates from you though...\n",
              "6297        6297  ...  I am sorry that we will be unable to help you ...\n",
              "6298        6298  ...  see how cutting edge technology can empower yo...\n",
              "6299        6299  ...  I'm not convinced with the idea, I wish to com...\n",
              "6300        6300  ...  We are sorry to inform you that we have to ter...\n",
              "\n",
              "[5 rows x 13 columns]"
            ]
          },
          "metadata": {
            "tags": []
          },
          "execution_count": 56
        }
      ]
    },
    {
      "cell_type": "code",
      "metadata": {
        "id": "sHcIA9_QPa2g",
        "colab_type": "code",
        "colab": {
          "base_uri": "https://localhost:8080/",
          "height": 357
        },
        "outputId": "8e5e806c-bdc5-4b7d-d429-57b28e36a377"
      },
      "source": [
        "k_test2.info()"
      ],
      "execution_count": 57,
      "outputs": [
        {
          "output_type": "stream",
          "text": [
            "<class 'pandas.core.frame.DataFrame'>\n",
            "Int64Index: 1622 entries, 6295 to 8299\n",
            "Data columns (total 13 columns):\n",
            " #   Column                      Non-Null Count  Dtype         \n",
            "---  ------                      --------------  -----         \n",
            " 0   Unnamed: 0                  1622 non-null   int64         \n",
            " 1   Account                     1622 non-null   object        \n",
            " 2   Opportunity_ID              1622 non-null   object        \n",
            " 3   Sales_Agent                 1622 non-null   object        \n",
            " 4   fromEmailId                 1622 non-null   object        \n",
            " 5   toEmailId                   1622 non-null   object        \n",
            " 6   Deal_Stage                  1622 non-null   object        \n",
            " 7   Product                     1622 non-null   object        \n",
            " 8   Close_Value                 1622 non-null   int64         \n",
            " 9   Created Date                1622 non-null   datetime64[ns]\n",
            " 10  Close Date                  1622 non-null   datetime64[ns]\n",
            " 11  DateDiff                    1622 non-null   int64         \n",
            " 12  Extracted Interaction Text  1622 non-null   object        \n",
            "dtypes: datetime64[ns](2), int64(3), object(8)\n",
            "memory usage: 177.4+ KB\n"
          ],
          "name": "stdout"
        }
      ]
    },
    {
      "cell_type": "code",
      "metadata": {
        "id": "zLVw9jMsPg1L",
        "colab_type": "code",
        "colab": {}
      },
      "source": [
        "#testing1\n",
        "features_test2 = k_test2.iloc[:, 12].values\n",
        "labels_test2 = k_test2.iloc[:, 6].values\n",
        "\n",
        "processed_features_test2 = []\n",
        "\n",
        "for sentence in range(0, len(features_test2)):\n",
        "    # Remove all the special characters\n",
        "    processed_feature = re.sub(r'\\W', ' ', str(features_test2[sentence]))\n",
        "\n",
        "    # remove all single characters\n",
        "    processed_feature= re.sub(r'\\s+[a-zA-Z]\\s+', ' ', processed_feature)\n",
        "\n",
        "    # Remove single characters from the start\n",
        "    processed_feature = re.sub(r'\\^[a-zA-Z]\\s+', ' ', processed_feature) \n",
        "\n",
        "    # Substituting multiple spaces with single space\n",
        "    processed_feature = re.sub(r'\\s+', ' ', processed_feature, flags=re.I)\n",
        "\n",
        "    # Removing prefixed 'b'\n",
        "    processed_feature = re.sub(r'^b\\s+', '', processed_feature)\n",
        "\n",
        "    # Converting to Lowercase\n",
        "    processed_feature = processed_feature.lower()\n",
        "\n",
        "    processed_features_test2.append(processed_feature)\n",
        "\n",
        "\n",
        "X_test2 = vectorizer.transform(processed_features_test2).toarray()\n"
      ],
      "execution_count": 58,
      "outputs": []
    },
    {
      "cell_type": "code",
      "metadata": {
        "id": "r5kDXUAePy98",
        "colab_type": "code",
        "colab": {}
      },
      "source": [
        "y_pred2 =text_classifier.predict(X_test2)"
      ],
      "execution_count": 59,
      "outputs": []
    },
    {
      "cell_type": "code",
      "metadata": {
        "id": "jJ79c1eqP7y0",
        "colab_type": "code",
        "colab": {
          "base_uri": "https://localhost:8080/",
          "height": 221
        },
        "outputId": "693efb39-06c9-49da-86d9-b389e21ce6d4"
      },
      "source": [
        "from sklearn.metrics import classification_report, confusion_matrix, accuracy_score\n",
        "\n",
        "print(confusion_matrix(labels_test2,y_pred2))\n",
        "print(classification_report(labels_test2,y_pred2))\n",
        "print(accuracy_score(labels_test2, y_pred2))"
      ],
      "execution_count": 60,
      "outputs": [
        {
          "output_type": "stream",
          "text": [
            "[[169 431]\n",
            " [263 759]]\n",
            "              precision    recall  f1-score   support\n",
            "\n",
            "        Lost       0.39      0.28      0.33       600\n",
            "         Won       0.64      0.74      0.69      1022\n",
            "\n",
            "    accuracy                           0.57      1622\n",
            "   macro avg       0.51      0.51      0.51      1622\n",
            "weighted avg       0.55      0.57      0.55      1622\n",
            "\n",
            "0.5721331689272503\n"
          ],
          "name": "stdout"
        }
      ]
    },
    {
      "cell_type": "code",
      "metadata": {
        "id": "uWklxZqVntQc",
        "colab_type": "code",
        "colab": {
          "base_uri": "https://localhost:8080/",
          "height": 649
        },
        "outputId": "58dbe546-a707-4d55-97d3-3d0e805b8645"
      },
      "source": [
        "k_test2['Prediction']=y_pred2\n",
        "k_test2.head()"
      ],
      "execution_count": 61,
      "outputs": [
        {
          "output_type": "stream",
          "text": [
            "/usr/local/lib/python3.6/dist-packages/ipykernel_launcher.py:1: SettingWithCopyWarning: \n",
            "A value is trying to be set on a copy of a slice from a DataFrame.\n",
            "Try using .loc[row_indexer,col_indexer] = value instead\n",
            "\n",
            "See the caveats in the documentation: https://pandas.pydata.org/pandas-docs/stable/user_guide/indexing.html#returning-a-view-versus-a-copy\n",
            "  \"\"\"Entry point for launching an IPython kernel.\n"
          ],
          "name": "stderr"
        },
        {
          "output_type": "execute_result",
          "data": {
            "text/html": [
              "<div>\n",
              "<style scoped>\n",
              "    .dataframe tbody tr th:only-of-type {\n",
              "        vertical-align: middle;\n",
              "    }\n",
              "\n",
              "    .dataframe tbody tr th {\n",
              "        vertical-align: top;\n",
              "    }\n",
              "\n",
              "    .dataframe thead th {\n",
              "        text-align: right;\n",
              "    }\n",
              "</style>\n",
              "<table border=\"1\" class=\"dataframe\">\n",
              "  <thead>\n",
              "    <tr style=\"text-align: right;\">\n",
              "      <th></th>\n",
              "      <th>Unnamed: 0</th>\n",
              "      <th>Account</th>\n",
              "      <th>Opportunity_ID</th>\n",
              "      <th>Sales_Agent</th>\n",
              "      <th>fromEmailId</th>\n",
              "      <th>toEmailId</th>\n",
              "      <th>Deal_Stage</th>\n",
              "      <th>Product</th>\n",
              "      <th>Close_Value</th>\n",
              "      <th>Created Date</th>\n",
              "      <th>Close Date</th>\n",
              "      <th>DateDiff</th>\n",
              "      <th>Extracted Interaction Text</th>\n",
              "      <th>Prediction</th>\n",
              "    </tr>\n",
              "  </thead>\n",
              "  <tbody>\n",
              "    <tr>\n",
              "      <th>6295</th>\n",
              "      <td>6295</td>\n",
              "      <td>Initech</td>\n",
              "      <td>9ZKORPL2</td>\n",
              "      <td>Violet Mclelland</td>\n",
              "      <td>violet@piedpiper.com</td>\n",
              "      <td>alejandro@initech.com</td>\n",
              "      <td>Won</td>\n",
              "      <td>MG Special</td>\n",
              "      <td>45</td>\n",
              "      <td>2017-10-01</td>\n",
              "      <td>2019-07-02</td>\n",
              "      <td>639</td>\n",
              "      <td>I have'nt received any updates from you though...</td>\n",
              "      <td>Lost</td>\n",
              "    </tr>\n",
              "    <tr>\n",
              "      <th>6297</th>\n",
              "      <td>6297</td>\n",
              "      <td>Bluth Company</td>\n",
              "      <td>IUDDK8Q0</td>\n",
              "      <td>Cassey Cress</td>\n",
              "      <td>cassey@piedpiper.com</td>\n",
              "      <td>antionette@bluthcompany.com</td>\n",
              "      <td>Lost</td>\n",
              "      <td>GTXPro</td>\n",
              "      <td>517</td>\n",
              "      <td>2017-10-01</td>\n",
              "      <td>2018-07-13</td>\n",
              "      <td>285</td>\n",
              "      <td>I am sorry that we will be unable to help you ...</td>\n",
              "      <td>Won</td>\n",
              "    </tr>\n",
              "    <tr>\n",
              "      <th>6298</th>\n",
              "      <td>6298</td>\n",
              "      <td>Dontechi</td>\n",
              "      <td>KIMUGBN5</td>\n",
              "      <td>Lajuana Vencill</td>\n",
              "      <td>lajuana@piedpiper.com</td>\n",
              "      <td>kristle@dontechi.com</td>\n",
              "      <td>Lost</td>\n",
              "      <td>MG Advanced</td>\n",
              "      <td>903</td>\n",
              "      <td>2017-10-01</td>\n",
              "      <td>2019-02-28</td>\n",
              "      <td>515</td>\n",
              "      <td>see how cutting edge technology can empower yo...</td>\n",
              "      <td>Lost</td>\n",
              "    </tr>\n",
              "    <tr>\n",
              "      <th>6299</th>\n",
              "      <td>6299</td>\n",
              "      <td>Hatfan</td>\n",
              "      <td>VIMY08JH</td>\n",
              "      <td>Maureen Marcano</td>\n",
              "      <td>maureen@piedpiper.com</td>\n",
              "      <td>tyron@hatfan.com</td>\n",
              "      <td>Won</td>\n",
              "      <td>GTX Basic</td>\n",
              "      <td>518</td>\n",
              "      <td>2017-10-01</td>\n",
              "      <td>2019-06-20</td>\n",
              "      <td>627</td>\n",
              "      <td>I'm not convinced with the idea, I wish to com...</td>\n",
              "      <td>Won</td>\n",
              "    </tr>\n",
              "    <tr>\n",
              "      <th>6300</th>\n",
              "      <td>6300</td>\n",
              "      <td>Ron-tech</td>\n",
              "      <td>Y9SCLUH8</td>\n",
              "      <td>Jonathan Berthelot</td>\n",
              "      <td>jonathan@piedpiper.com</td>\n",
              "      <td>kelly@ron-tech.com</td>\n",
              "      <td>Won</td>\n",
              "      <td>GTX Plus Basic</td>\n",
              "      <td>835</td>\n",
              "      <td>2017-10-01</td>\n",
              "      <td>2018-03-27</td>\n",
              "      <td>177</td>\n",
              "      <td>We are sorry to inform you that we have to ter...</td>\n",
              "      <td>Lost</td>\n",
              "    </tr>\n",
              "  </tbody>\n",
              "</table>\n",
              "</div>"
            ],
            "text/plain": [
              "      Unnamed: 0  ... Prediction\n",
              "6295        6295  ...       Lost\n",
              "6297        6297  ...        Won\n",
              "6298        6298  ...       Lost\n",
              "6299        6299  ...        Won\n",
              "6300        6300  ...       Lost\n",
              "\n",
              "[5 rows x 14 columns]"
            ]
          },
          "metadata": {
            "tags": []
          },
          "execution_count": 61
        }
      ]
    },
    {
      "cell_type": "code",
      "metadata": {
        "id": "FwG-bj1Unrnd",
        "colab_type": "code",
        "colab": {
          "base_uri": "https://localhost:8080/",
          "height": 68
        },
        "outputId": "8c35b937-b2d5-485d-95ff-c4efa725ec46"
      },
      "source": [
        "mask1 = (k_test2['Prediction'] == 'Won')\n",
        "\n",
        "k_test21=k_test2.loc[mask1]\n",
        "\n",
        "Quart_2017_pred=k_test21['Close_Value'].sum()\n",
        "print(Quart_2017_pred)\n",
        "\n",
        "mask2 = (k_test2['Deal_Stage'] == 'Won')\n",
        "\n",
        "k_test22=k_test2.loc[mask2]\n",
        "\n",
        "Quart_2017_act=k_test22['Close_Value'].sum()\n",
        "print(Quart_2017_act)\n",
        "\n",
        "dev2=((Quart_2017_pred-Quart_2017_act)/Quart_2017_act)*100\n",
        "dev2= str(dev2)+'%'\n",
        "print(dev2)"
      ],
      "execution_count": 62,
      "outputs": [
        {
          "output_type": "stream",
          "text": [
            "2502989\n",
            "2435396\n",
            "2.7754418583261202%\n"
          ],
          "name": "stdout"
        }
      ]
    },
    {
      "cell_type": "code",
      "metadata": {
        "id": "JJ5igkQ9QLS5",
        "colab_type": "code",
        "colab": {
          "base_uri": "https://localhost:8080/",
          "height": 513
        },
        "outputId": "7a516b7b-8a46-46c0-e5f2-dbe72db82a10"
      },
      "source": [
        "start_date = '2017-01-01'\n",
        "end_date = '2017-12-31'\n",
        "\n",
        "mask = (k['Created Date'] >= start_date) & (k['Created Date'] <= end_date) & (k['Deal_Stage'] != 'In Progress')\n",
        "\n",
        "k_test3=k.loc[mask]\n",
        "\n",
        "k_test3.head()"
      ],
      "execution_count": 63,
      "outputs": [
        {
          "output_type": "execute_result",
          "data": {
            "text/html": [
              "<div>\n",
              "<style scoped>\n",
              "    .dataframe tbody tr th:only-of-type {\n",
              "        vertical-align: middle;\n",
              "    }\n",
              "\n",
              "    .dataframe tbody tr th {\n",
              "        vertical-align: top;\n",
              "    }\n",
              "\n",
              "    .dataframe thead th {\n",
              "        text-align: right;\n",
              "    }\n",
              "</style>\n",
              "<table border=\"1\" class=\"dataframe\">\n",
              "  <thead>\n",
              "    <tr style=\"text-align: right;\">\n",
              "      <th></th>\n",
              "      <th>Unnamed: 0</th>\n",
              "      <th>Account</th>\n",
              "      <th>Opportunity_ID</th>\n",
              "      <th>Sales_Agent</th>\n",
              "      <th>fromEmailId</th>\n",
              "      <th>toEmailId</th>\n",
              "      <th>Deal_Stage</th>\n",
              "      <th>Product</th>\n",
              "      <th>Close_Value</th>\n",
              "      <th>Created Date</th>\n",
              "      <th>Close Date</th>\n",
              "      <th>DateDiff</th>\n",
              "      <th>Extracted Interaction Text</th>\n",
              "    </tr>\n",
              "  </thead>\n",
              "  <tbody>\n",
              "    <tr>\n",
              "      <th>358</th>\n",
              "      <td>358</td>\n",
              "      <td>Conecom</td>\n",
              "      <td>JHJEQ1U3</td>\n",
              "      <td>Niesha Huffines</td>\n",
              "      <td>niesha@piedpiper.com</td>\n",
              "      <td>ivory@conecom.com</td>\n",
              "      <td>Won</td>\n",
              "      <td>GTX Plus Pro</td>\n",
              "      <td>5604</td>\n",
              "      <td>2017-01-01</td>\n",
              "      <td>2017-01-24</td>\n",
              "      <td>23</td>\n",
              "      <td>Our congratulations on your sales success for ...</td>\n",
              "    </tr>\n",
              "    <tr>\n",
              "      <th>359</th>\n",
              "      <td>359</td>\n",
              "      <td>Codehow</td>\n",
              "      <td>NY9ARKRE</td>\n",
              "      <td>Marty Freudenburg</td>\n",
              "      <td>marty@piedpiper.com</td>\n",
              "      <td>justine@codehow.com</td>\n",
              "      <td>Won</td>\n",
              "      <td>MG Special</td>\n",
              "      <td>51</td>\n",
              "      <td>2017-01-01</td>\n",
              "      <td>2017-06-04</td>\n",
              "      <td>154</td>\n",
              "      <td>However, a number of highly-qualified candidat...</td>\n",
              "    </tr>\n",
              "    <tr>\n",
              "      <th>360</th>\n",
              "      <td>360</td>\n",
              "      <td>Cheers</td>\n",
              "      <td>VH78FLDN</td>\n",
              "      <td>Zane Levy</td>\n",
              "      <td>zane@piedpiper.com</td>\n",
              "      <td>robbie@cheers.com</td>\n",
              "      <td>Lost</td>\n",
              "      <td>GTXPro</td>\n",
              "      <td>1180</td>\n",
              "      <td>2017-01-01</td>\n",
              "      <td>2017-01-11</td>\n",
              "      <td>10</td>\n",
              "      <td>I am writing this letter to request a business...</td>\n",
              "    </tr>\n",
              "    <tr>\n",
              "      <th>361</th>\n",
              "      <td>361</td>\n",
              "      <td>Blackzim</td>\n",
              "      <td>HRV9DSYF</td>\n",
              "      <td>Vicki Laflamme</td>\n",
              "      <td>vicki@piedpiper.com</td>\n",
              "      <td>riley@blackzim.com</td>\n",
              "      <td>Won</td>\n",
              "      <td>GTX Basic</td>\n",
              "      <td>545</td>\n",
              "      <td>2017-01-01</td>\n",
              "      <td>2017-10-20</td>\n",
              "      <td>292</td>\n",
              "      <td>We appreciate your interest in Doe's English L...</td>\n",
              "    </tr>\n",
              "    <tr>\n",
              "      <th>362</th>\n",
              "      <td>362</td>\n",
              "      <td>Donware</td>\n",
              "      <td>AKT5EF0X</td>\n",
              "      <td>Reed Clapper</td>\n",
              "      <td>reed@piedpiper.com</td>\n",
              "      <td>eleonore@donware.com</td>\n",
              "      <td>Won</td>\n",
              "      <td>GTX Basic</td>\n",
              "      <td>572</td>\n",
              "      <td>2017-01-01</td>\n",
              "      <td>2017-02-20</td>\n",
              "      <td>50</td>\n",
              "      <td>This letter of intent is to confirm our intere...</td>\n",
              "    </tr>\n",
              "  </tbody>\n",
              "</table>\n",
              "</div>"
            ],
            "text/plain": [
              "     Unnamed: 0  ...                         Extracted Interaction Text\n",
              "358         358  ...  Our congratulations on your sales success for ...\n",
              "359         359  ...  However, a number of highly-qualified candidat...\n",
              "360         360  ...  I am writing this letter to request a business...\n",
              "361         361  ...  We appreciate your interest in Doe's English L...\n",
              "362         362  ...  This letter of intent is to confirm our intere...\n",
              "\n",
              "[5 rows x 13 columns]"
            ]
          },
          "metadata": {
            "tags": []
          },
          "execution_count": 63
        }
      ]
    },
    {
      "cell_type": "code",
      "metadata": {
        "id": "kEKdQUs8Qfow",
        "colab_type": "code",
        "colab": {
          "base_uri": "https://localhost:8080/",
          "height": 357
        },
        "outputId": "04296f2a-f1cb-46a8-988a-acad082afe5e"
      },
      "source": [
        "k_test3.info()"
      ],
      "execution_count": 64,
      "outputs": [
        {
          "output_type": "stream",
          "text": [
            "<class 'pandas.core.frame.DataFrame'>\n",
            "Int64Index: 6406 entries, 358 to 8299\n",
            "Data columns (total 13 columns):\n",
            " #   Column                      Non-Null Count  Dtype         \n",
            "---  ------                      --------------  -----         \n",
            " 0   Unnamed: 0                  6406 non-null   int64         \n",
            " 1   Account                     6406 non-null   object        \n",
            " 2   Opportunity_ID              6406 non-null   object        \n",
            " 3   Sales_Agent                 6406 non-null   object        \n",
            " 4   fromEmailId                 6406 non-null   object        \n",
            " 5   toEmailId                   6406 non-null   object        \n",
            " 6   Deal_Stage                  6406 non-null   object        \n",
            " 7   Product                     6406 non-null   object        \n",
            " 8   Close_Value                 6406 non-null   int64         \n",
            " 9   Created Date                6406 non-null   datetime64[ns]\n",
            " 10  Close Date                  6406 non-null   datetime64[ns]\n",
            " 11  DateDiff                    6406 non-null   int64         \n",
            " 12  Extracted Interaction Text  6406 non-null   object        \n",
            "dtypes: datetime64[ns](2), int64(3), object(8)\n",
            "memory usage: 700.7+ KB\n"
          ],
          "name": "stdout"
        }
      ]
    },
    {
      "cell_type": "code",
      "metadata": {
        "id": "SCMY_SAsQwRB",
        "colab_type": "code",
        "colab": {}
      },
      "source": [
        "#testing1\n",
        "features_test3 = k_test3.iloc[:, 12].values\n",
        "labels_test3 = k_test3.iloc[:, 6].values\n",
        "\n",
        "processed_features_test3 = []\n",
        "\n",
        "for sentence in range(0, len(features_test3)):\n",
        "    # Remove all the special characters\n",
        "    processed_feature = re.sub(r'\\W', ' ', str(features_test3[sentence]))\n",
        "\n",
        "    # remove all single characters\n",
        "    processed_feature= re.sub(r'\\s+[a-zA-Z]\\s+', ' ', processed_feature)\n",
        "\n",
        "    # Remove single characters from the start\n",
        "    processed_feature = re.sub(r'\\^[a-zA-Z]\\s+', ' ', processed_feature) \n",
        "\n",
        "    # Substituting multiple spaces with single space\n",
        "    processed_feature = re.sub(r'\\s+', ' ', processed_feature, flags=re.I)\n",
        "\n",
        "    # Removing prefixed 'b'\n",
        "    processed_feature = re.sub(r'^b\\s+', '', processed_feature)\n",
        "\n",
        "    # Converting to Lowercase\n",
        "    processed_feature = processed_feature.lower()\n",
        "\n",
        "    processed_features_test3.append(processed_feature)\n",
        "\n",
        "\n",
        "X_test3 = vectorizer.transform(processed_features_test3).toarray()\n"
      ],
      "execution_count": 65,
      "outputs": []
    },
    {
      "cell_type": "code",
      "metadata": {
        "id": "QcG6tnsgRJ-Y",
        "colab_type": "code",
        "colab": {}
      },
      "source": [
        "y_pred3 =text_classifier.predict(X_test3)"
      ],
      "execution_count": 66,
      "outputs": []
    },
    {
      "cell_type": "code",
      "metadata": {
        "id": "g0PFZDTORUux",
        "colab_type": "code",
        "colab": {
          "base_uri": "https://localhost:8080/",
          "height": 221
        },
        "outputId": "8c1ad868-b4a4-4567-8f12-8a8498c01ca3"
      },
      "source": [
        "from sklearn.metrics import classification_report, confusion_matrix, accuracy_score\n",
        "\n",
        "print(confusion_matrix(labels_test3,y_pred3))\n",
        "print(classification_report(labels_test3,y_pred3))\n",
        "print(accuracy_score(labels_test3, y_pred3))"
      ],
      "execution_count": 67,
      "outputs": [
        {
          "output_type": "stream",
          "text": [
            "[[ 875 1543]\n",
            " [ 717 3271]]\n",
            "              precision    recall  f1-score   support\n",
            "\n",
            "        Lost       0.55      0.36      0.44      2418\n",
            "         Won       0.68      0.82      0.74      3988\n",
            "\n",
            "    accuracy                           0.65      6406\n",
            "   macro avg       0.61      0.59      0.59      6406\n",
            "weighted avg       0.63      0.65      0.63      6406\n",
            "\n",
            "0.6472057446144239\n"
          ],
          "name": "stdout"
        }
      ]
    },
    {
      "cell_type": "code",
      "metadata": {
        "id": "BtgIlIdLlOm_",
        "colab_type": "code",
        "colab": {
          "base_uri": "https://localhost:8080/",
          "height": 615
        },
        "outputId": "c491dce7-7602-4d05-b308-11df5dcd0585"
      },
      "source": [
        "k_test3['Prediction']=y_pred3\n",
        "k_test3.head()"
      ],
      "execution_count": 68,
      "outputs": [
        {
          "output_type": "stream",
          "text": [
            "/usr/local/lib/python3.6/dist-packages/ipykernel_launcher.py:1: SettingWithCopyWarning: \n",
            "A value is trying to be set on a copy of a slice from a DataFrame.\n",
            "Try using .loc[row_indexer,col_indexer] = value instead\n",
            "\n",
            "See the caveats in the documentation: https://pandas.pydata.org/pandas-docs/stable/user_guide/indexing.html#returning-a-view-versus-a-copy\n",
            "  \"\"\"Entry point for launching an IPython kernel.\n"
          ],
          "name": "stderr"
        },
        {
          "output_type": "execute_result",
          "data": {
            "text/html": [
              "<div>\n",
              "<style scoped>\n",
              "    .dataframe tbody tr th:only-of-type {\n",
              "        vertical-align: middle;\n",
              "    }\n",
              "\n",
              "    .dataframe tbody tr th {\n",
              "        vertical-align: top;\n",
              "    }\n",
              "\n",
              "    .dataframe thead th {\n",
              "        text-align: right;\n",
              "    }\n",
              "</style>\n",
              "<table border=\"1\" class=\"dataframe\">\n",
              "  <thead>\n",
              "    <tr style=\"text-align: right;\">\n",
              "      <th></th>\n",
              "      <th>Unnamed: 0</th>\n",
              "      <th>Account</th>\n",
              "      <th>Opportunity_ID</th>\n",
              "      <th>Sales_Agent</th>\n",
              "      <th>fromEmailId</th>\n",
              "      <th>toEmailId</th>\n",
              "      <th>Deal_Stage</th>\n",
              "      <th>Product</th>\n",
              "      <th>Close_Value</th>\n",
              "      <th>Created Date</th>\n",
              "      <th>Close Date</th>\n",
              "      <th>DateDiff</th>\n",
              "      <th>Extracted Interaction Text</th>\n",
              "      <th>Prediction</th>\n",
              "    </tr>\n",
              "  </thead>\n",
              "  <tbody>\n",
              "    <tr>\n",
              "      <th>358</th>\n",
              "      <td>358</td>\n",
              "      <td>Conecom</td>\n",
              "      <td>JHJEQ1U3</td>\n",
              "      <td>Niesha Huffines</td>\n",
              "      <td>niesha@piedpiper.com</td>\n",
              "      <td>ivory@conecom.com</td>\n",
              "      <td>Won</td>\n",
              "      <td>GTX Plus Pro</td>\n",
              "      <td>5604</td>\n",
              "      <td>2017-01-01</td>\n",
              "      <td>2017-01-24</td>\n",
              "      <td>23</td>\n",
              "      <td>Our congratulations on your sales success for ...</td>\n",
              "      <td>Lost</td>\n",
              "    </tr>\n",
              "    <tr>\n",
              "      <th>359</th>\n",
              "      <td>359</td>\n",
              "      <td>Codehow</td>\n",
              "      <td>NY9ARKRE</td>\n",
              "      <td>Marty Freudenburg</td>\n",
              "      <td>marty@piedpiper.com</td>\n",
              "      <td>justine@codehow.com</td>\n",
              "      <td>Won</td>\n",
              "      <td>MG Special</td>\n",
              "      <td>51</td>\n",
              "      <td>2017-01-01</td>\n",
              "      <td>2017-06-04</td>\n",
              "      <td>154</td>\n",
              "      <td>However, a number of highly-qualified candidat...</td>\n",
              "      <td>Won</td>\n",
              "    </tr>\n",
              "    <tr>\n",
              "      <th>360</th>\n",
              "      <td>360</td>\n",
              "      <td>Cheers</td>\n",
              "      <td>VH78FLDN</td>\n",
              "      <td>Zane Levy</td>\n",
              "      <td>zane@piedpiper.com</td>\n",
              "      <td>robbie@cheers.com</td>\n",
              "      <td>Lost</td>\n",
              "      <td>GTXPro</td>\n",
              "      <td>1180</td>\n",
              "      <td>2017-01-01</td>\n",
              "      <td>2017-01-11</td>\n",
              "      <td>10</td>\n",
              "      <td>I am writing this letter to request a business...</td>\n",
              "      <td>Lost</td>\n",
              "    </tr>\n",
              "    <tr>\n",
              "      <th>361</th>\n",
              "      <td>361</td>\n",
              "      <td>Blackzim</td>\n",
              "      <td>HRV9DSYF</td>\n",
              "      <td>Vicki Laflamme</td>\n",
              "      <td>vicki@piedpiper.com</td>\n",
              "      <td>riley@blackzim.com</td>\n",
              "      <td>Won</td>\n",
              "      <td>GTX Basic</td>\n",
              "      <td>545</td>\n",
              "      <td>2017-01-01</td>\n",
              "      <td>2017-10-20</td>\n",
              "      <td>292</td>\n",
              "      <td>We appreciate your interest in Doe's English L...</td>\n",
              "      <td>Lost</td>\n",
              "    </tr>\n",
              "    <tr>\n",
              "      <th>362</th>\n",
              "      <td>362</td>\n",
              "      <td>Donware</td>\n",
              "      <td>AKT5EF0X</td>\n",
              "      <td>Reed Clapper</td>\n",
              "      <td>reed@piedpiper.com</td>\n",
              "      <td>eleonore@donware.com</td>\n",
              "      <td>Won</td>\n",
              "      <td>GTX Basic</td>\n",
              "      <td>572</td>\n",
              "      <td>2017-01-01</td>\n",
              "      <td>2017-02-20</td>\n",
              "      <td>50</td>\n",
              "      <td>This letter of intent is to confirm our intere...</td>\n",
              "      <td>Won</td>\n",
              "    </tr>\n",
              "  </tbody>\n",
              "</table>\n",
              "</div>"
            ],
            "text/plain": [
              "     Unnamed: 0  ... Prediction\n",
              "358         358  ...       Lost\n",
              "359         359  ...        Won\n",
              "360         360  ...       Lost\n",
              "361         361  ...       Lost\n",
              "362         362  ...        Won\n",
              "\n",
              "[5 rows x 14 columns]"
            ]
          },
          "metadata": {
            "tags": []
          },
          "execution_count": 68
        }
      ]
    },
    {
      "cell_type": "code",
      "metadata": {
        "id": "dOUpO6yflg36",
        "colab_type": "code",
        "colab": {
          "base_uri": "https://localhost:8080/",
          "height": 68
        },
        "outputId": "19662c6f-5d6f-4b21-9bd8-d5c0e47dc0b0"
      },
      "source": [
        "mask1 = (k_test3['Prediction'] == 'Won')\n",
        "\n",
        "k_test31=k_test3.loc[mask1]\n",
        "\n",
        "Fin_2017_pred=k_test31['Close_Value'].sum()\n",
        "print(Fin_2017_pred)\n",
        "\n",
        "mask2 = (k_test3['Deal_Stage'] == 'Won')\n",
        "\n",
        "k_test32=k_test3.loc[mask2]\n",
        "\n",
        "Fin_2017_act=k_test32['Close_Value'].sum()\n",
        "print(Fin_2017_act)\n",
        "\n",
        "dev3=((Fin_2017_pred-Fin_2017_act)/Fin_2017_act)*100\n",
        "dev3= str(dev3)+'%'\n",
        "print(dev3)"
      ],
      "execution_count": 69,
      "outputs": [
        {
          "output_type": "stream",
          "text": [
            "10097257\n",
            "9482003\n",
            "6.488650130146552%\n"
          ],
          "name": "stdout"
        }
      ]
    },
    {
      "cell_type": "code",
      "metadata": {
        "id": "sXdjiRt2Rh7x",
        "colab_type": "code",
        "colab": {
          "base_uri": "https://localhost:8080/",
          "height": 530
        },
        "outputId": "196671e7-a9cd-4644-94a5-f0a890c2f037"
      },
      "source": [
        "start_date = '2018-01-01'\n",
        "end_date = '2018-01-31'\n",
        "\n",
        "mask = (k['Created Date'] >= start_date) & (k['Created Date'] <= end_date)\n",
        "\n",
        "k_test4=k.loc[mask]\n",
        "\n",
        "k_test4.head()"
      ],
      "execution_count": 70,
      "outputs": [
        {
          "output_type": "execute_result",
          "data": {
            "text/html": [
              "<div>\n",
              "<style scoped>\n",
              "    .dataframe tbody tr th:only-of-type {\n",
              "        vertical-align: middle;\n",
              "    }\n",
              "\n",
              "    .dataframe tbody tr th {\n",
              "        vertical-align: top;\n",
              "    }\n",
              "\n",
              "    .dataframe thead th {\n",
              "        text-align: right;\n",
              "    }\n",
              "</style>\n",
              "<table border=\"1\" class=\"dataframe\">\n",
              "  <thead>\n",
              "    <tr style=\"text-align: right;\">\n",
              "      <th></th>\n",
              "      <th>Unnamed: 0</th>\n",
              "      <th>Account</th>\n",
              "      <th>Opportunity_ID</th>\n",
              "      <th>Sales_Agent</th>\n",
              "      <th>fromEmailId</th>\n",
              "      <th>toEmailId</th>\n",
              "      <th>Deal_Stage</th>\n",
              "      <th>Product</th>\n",
              "      <th>Close_Value</th>\n",
              "      <th>Created Date</th>\n",
              "      <th>Close Date</th>\n",
              "      <th>DateDiff</th>\n",
              "      <th>Extracted Interaction Text</th>\n",
              "    </tr>\n",
              "  </thead>\n",
              "  <tbody>\n",
              "    <tr>\n",
              "      <th>8300</th>\n",
              "      <td>8300</td>\n",
              "      <td>Isdom</td>\n",
              "      <td>647SQRGL</td>\n",
              "      <td>Niesha Huffines</td>\n",
              "      <td>niesha@piedpiper.com</td>\n",
              "      <td>corrinne@isdom.com</td>\n",
              "      <td>In Progress</td>\n",
              "      <td>GTX Basic</td>\n",
              "      <td>3180</td>\n",
              "      <td>2018-01-01</td>\n",
              "      <td>2018-05-14</td>\n",
              "      <td>133</td>\n",
              "      <td>It was good to make your acquaintance last wee...</td>\n",
              "    </tr>\n",
              "    <tr>\n",
              "      <th>8301</th>\n",
              "      <td>8301</td>\n",
              "      <td>Toughzap</td>\n",
              "      <td>FMRVHL9O</td>\n",
              "      <td>Marty Freudenburg</td>\n",
              "      <td>marty@piedpiper.com</td>\n",
              "      <td>sherman@toughzap.com</td>\n",
              "      <td>In Progress</td>\n",
              "      <td>GTX Plus Basic</td>\n",
              "      <td>1026</td>\n",
              "      <td>2018-01-03</td>\n",
              "      <td>2018-06-20</td>\n",
              "      <td>168</td>\n",
              "      <td>Deal has been closed., The deal has been succe...</td>\n",
              "    </tr>\n",
              "    <tr>\n",
              "      <th>8302</th>\n",
              "      <td>8302</td>\n",
              "      <td>Rundofase</td>\n",
              "      <td>Q9CASEJL</td>\n",
              "      <td>Gladys Colclough</td>\n",
              "      <td>gladys@piedpiper.com</td>\n",
              "      <td>crista@rundofase.com</td>\n",
              "      <td>In Progress</td>\n",
              "      <td>MG Special</td>\n",
              "      <td>3284</td>\n",
              "      <td>2018-01-04</td>\n",
              "      <td>2019-08-28</td>\n",
              "      <td>601</td>\n",
              "      <td>However, I am unable to join because of my fam...</td>\n",
              "    </tr>\n",
              "    <tr>\n",
              "      <th>8303</th>\n",
              "      <td>8303</td>\n",
              "      <td>Plexzap</td>\n",
              "      <td>8IPMP8NT</td>\n",
              "      <td>Darcel Schlecht</td>\n",
              "      <td>darcel@piedpiper.com</td>\n",
              "      <td>titus@plexzap.com</td>\n",
              "      <td>In Progress</td>\n",
              "      <td>GTXPro</td>\n",
              "      <td>4631</td>\n",
              "      <td>2018-01-05</td>\n",
              "      <td>2018-05-15</td>\n",
              "      <td>130</td>\n",
              "      <td>I am not sure if we need the product right now...</td>\n",
              "    </tr>\n",
              "    <tr>\n",
              "      <th>8304</th>\n",
              "      <td>8304</td>\n",
              "      <td>Gekko &amp; Co</td>\n",
              "      <td>N6JMQG0E</td>\n",
              "      <td>Lajuana Vencill</td>\n",
              "      <td>lajuana@piedpiper.com</td>\n",
              "      <td>krystle@gekko&amp;co.com</td>\n",
              "      <td>In Progress</td>\n",
              "      <td>MG Special</td>\n",
              "      <td>3284</td>\n",
              "      <td>2018-01-05</td>\n",
              "      <td>2018-05-28</td>\n",
              "      <td>143</td>\n",
              "      <td>Please accept this letter as official notifica...</td>\n",
              "    </tr>\n",
              "  </tbody>\n",
              "</table>\n",
              "</div>"
            ],
            "text/plain": [
              "      Unnamed: 0  ...                         Extracted Interaction Text\n",
              "8300        8300  ...  It was good to make your acquaintance last wee...\n",
              "8301        8301  ...  Deal has been closed., The deal has been succe...\n",
              "8302        8302  ...  However, I am unable to join because of my fam...\n",
              "8303        8303  ...  I am not sure if we need the product right now...\n",
              "8304        8304  ...  Please accept this letter as official notifica...\n",
              "\n",
              "[5 rows x 13 columns]"
            ]
          },
          "metadata": {
            "tags": []
          },
          "execution_count": 70
        }
      ]
    },
    {
      "cell_type": "code",
      "metadata": {
        "id": "t1SKOr9qSfDl",
        "colab_type": "code",
        "colab": {
          "base_uri": "https://localhost:8080/",
          "height": 357
        },
        "outputId": "86753b92-e969-4cd5-d741-975f898a84c7"
      },
      "source": [
        "k_test4.info()"
      ],
      "execution_count": 71,
      "outputs": [
        {
          "output_type": "stream",
          "text": [
            "<class 'pandas.core.frame.DataFrame'>\n",
            "Int64Index: 34 entries, 8300 to 8333\n",
            "Data columns (total 13 columns):\n",
            " #   Column                      Non-Null Count  Dtype         \n",
            "---  ------                      --------------  -----         \n",
            " 0   Unnamed: 0                  34 non-null     int64         \n",
            " 1   Account                     34 non-null     object        \n",
            " 2   Opportunity_ID              34 non-null     object        \n",
            " 3   Sales_Agent                 34 non-null     object        \n",
            " 4   fromEmailId                 34 non-null     object        \n",
            " 5   toEmailId                   34 non-null     object        \n",
            " 6   Deal_Stage                  34 non-null     object        \n",
            " 7   Product                     34 non-null     object        \n",
            " 8   Close_Value                 34 non-null     int64         \n",
            " 9   Created Date                34 non-null     datetime64[ns]\n",
            " 10  Close Date                  34 non-null     datetime64[ns]\n",
            " 11  DateDiff                    34 non-null     int64         \n",
            " 12  Extracted Interaction Text  34 non-null     object        \n",
            "dtypes: datetime64[ns](2), int64(3), object(8)\n",
            "memory usage: 3.7+ KB\n"
          ],
          "name": "stdout"
        }
      ]
    },
    {
      "cell_type": "code",
      "metadata": {
        "id": "HbDCY8bfSlBv",
        "colab_type": "code",
        "colab": {}
      },
      "source": [
        "#testing1\n",
        "features_test4 = k_test4.iloc[:, 12].values\n",
        "labels_test4 = k_test4.iloc[:, 6].values\n",
        "\n",
        "processed_features_test4 = []\n",
        "\n",
        "for sentence in range(0, len(features_test4)):\n",
        "    # Remove all the special characters\n",
        "    processed_feature = re.sub(r'\\W', ' ', str(features_test4[sentence]))\n",
        "\n",
        "    # remove all single characters\n",
        "    processed_feature= re.sub(r'\\s+[a-zA-Z]\\s+', ' ', processed_feature)\n",
        "\n",
        "    # Remove single characters from the start\n",
        "    processed_feature = re.sub(r'\\^[a-zA-Z]\\s+', ' ', processed_feature) \n",
        "\n",
        "    # Substituting multiple spaces with single space\n",
        "    processed_feature = re.sub(r'\\s+', ' ', processed_feature, flags=re.I)\n",
        "\n",
        "    # Removing prefixed 'b'\n",
        "    processed_feature = re.sub(r'^b\\s+', '', processed_feature)\n",
        "\n",
        "    # Converting to Lowercase\n",
        "    processed_feature = processed_feature.lower()\n",
        "\n",
        "    processed_features_test4.append(processed_feature)\n",
        "\n",
        "\n",
        "X_test4 = vectorizer.transform(processed_features_test4).toarray()\n",
        "\n",
        "y_pred4 =text_classifier.predict(X_test4)"
      ],
      "execution_count": 72,
      "outputs": []
    },
    {
      "cell_type": "code",
      "metadata": {
        "id": "_yVt-tmDaAd-",
        "colab_type": "code",
        "colab": {
          "base_uri": "https://localhost:8080/",
          "height": 632
        },
        "outputId": "a0a3ba9d-b9fa-49bf-b9f9-73beb209bbac"
      },
      "source": [
        "k_test4['Prediction']=y_pred4\n",
        "k_test4.head()"
      ],
      "execution_count": 73,
      "outputs": [
        {
          "output_type": "stream",
          "text": [
            "/usr/local/lib/python3.6/dist-packages/ipykernel_launcher.py:1: SettingWithCopyWarning: \n",
            "A value is trying to be set on a copy of a slice from a DataFrame.\n",
            "Try using .loc[row_indexer,col_indexer] = value instead\n",
            "\n",
            "See the caveats in the documentation: https://pandas.pydata.org/pandas-docs/stable/user_guide/indexing.html#returning-a-view-versus-a-copy\n",
            "  \"\"\"Entry point for launching an IPython kernel.\n"
          ],
          "name": "stderr"
        },
        {
          "output_type": "execute_result",
          "data": {
            "text/html": [
              "<div>\n",
              "<style scoped>\n",
              "    .dataframe tbody tr th:only-of-type {\n",
              "        vertical-align: middle;\n",
              "    }\n",
              "\n",
              "    .dataframe tbody tr th {\n",
              "        vertical-align: top;\n",
              "    }\n",
              "\n",
              "    .dataframe thead th {\n",
              "        text-align: right;\n",
              "    }\n",
              "</style>\n",
              "<table border=\"1\" class=\"dataframe\">\n",
              "  <thead>\n",
              "    <tr style=\"text-align: right;\">\n",
              "      <th></th>\n",
              "      <th>Unnamed: 0</th>\n",
              "      <th>Account</th>\n",
              "      <th>Opportunity_ID</th>\n",
              "      <th>Sales_Agent</th>\n",
              "      <th>fromEmailId</th>\n",
              "      <th>toEmailId</th>\n",
              "      <th>Deal_Stage</th>\n",
              "      <th>Product</th>\n",
              "      <th>Close_Value</th>\n",
              "      <th>Created Date</th>\n",
              "      <th>Close Date</th>\n",
              "      <th>DateDiff</th>\n",
              "      <th>Extracted Interaction Text</th>\n",
              "      <th>Prediction</th>\n",
              "    </tr>\n",
              "  </thead>\n",
              "  <tbody>\n",
              "    <tr>\n",
              "      <th>8300</th>\n",
              "      <td>8300</td>\n",
              "      <td>Isdom</td>\n",
              "      <td>647SQRGL</td>\n",
              "      <td>Niesha Huffines</td>\n",
              "      <td>niesha@piedpiper.com</td>\n",
              "      <td>corrinne@isdom.com</td>\n",
              "      <td>In Progress</td>\n",
              "      <td>GTX Basic</td>\n",
              "      <td>3180</td>\n",
              "      <td>2018-01-01</td>\n",
              "      <td>2018-05-14</td>\n",
              "      <td>133</td>\n",
              "      <td>It was good to make your acquaintance last wee...</td>\n",
              "      <td>Won</td>\n",
              "    </tr>\n",
              "    <tr>\n",
              "      <th>8301</th>\n",
              "      <td>8301</td>\n",
              "      <td>Toughzap</td>\n",
              "      <td>FMRVHL9O</td>\n",
              "      <td>Marty Freudenburg</td>\n",
              "      <td>marty@piedpiper.com</td>\n",
              "      <td>sherman@toughzap.com</td>\n",
              "      <td>In Progress</td>\n",
              "      <td>GTX Plus Basic</td>\n",
              "      <td>1026</td>\n",
              "      <td>2018-01-03</td>\n",
              "      <td>2018-06-20</td>\n",
              "      <td>168</td>\n",
              "      <td>Deal has been closed., The deal has been succe...</td>\n",
              "      <td>Won</td>\n",
              "    </tr>\n",
              "    <tr>\n",
              "      <th>8302</th>\n",
              "      <td>8302</td>\n",
              "      <td>Rundofase</td>\n",
              "      <td>Q9CASEJL</td>\n",
              "      <td>Gladys Colclough</td>\n",
              "      <td>gladys@piedpiper.com</td>\n",
              "      <td>crista@rundofase.com</td>\n",
              "      <td>In Progress</td>\n",
              "      <td>MG Special</td>\n",
              "      <td>3284</td>\n",
              "      <td>2018-01-04</td>\n",
              "      <td>2019-08-28</td>\n",
              "      <td>601</td>\n",
              "      <td>However, I am unable to join because of my fam...</td>\n",
              "      <td>Lost</td>\n",
              "    </tr>\n",
              "    <tr>\n",
              "      <th>8303</th>\n",
              "      <td>8303</td>\n",
              "      <td>Plexzap</td>\n",
              "      <td>8IPMP8NT</td>\n",
              "      <td>Darcel Schlecht</td>\n",
              "      <td>darcel@piedpiper.com</td>\n",
              "      <td>titus@plexzap.com</td>\n",
              "      <td>In Progress</td>\n",
              "      <td>GTXPro</td>\n",
              "      <td>4631</td>\n",
              "      <td>2018-01-05</td>\n",
              "      <td>2018-05-15</td>\n",
              "      <td>130</td>\n",
              "      <td>I am not sure if we need the product right now...</td>\n",
              "      <td>Won</td>\n",
              "    </tr>\n",
              "    <tr>\n",
              "      <th>8304</th>\n",
              "      <td>8304</td>\n",
              "      <td>Gekko &amp; Co</td>\n",
              "      <td>N6JMQG0E</td>\n",
              "      <td>Lajuana Vencill</td>\n",
              "      <td>lajuana@piedpiper.com</td>\n",
              "      <td>krystle@gekko&amp;co.com</td>\n",
              "      <td>In Progress</td>\n",
              "      <td>MG Special</td>\n",
              "      <td>3284</td>\n",
              "      <td>2018-01-05</td>\n",
              "      <td>2018-05-28</td>\n",
              "      <td>143</td>\n",
              "      <td>Please accept this letter as official notifica...</td>\n",
              "      <td>Won</td>\n",
              "    </tr>\n",
              "  </tbody>\n",
              "</table>\n",
              "</div>"
            ],
            "text/plain": [
              "      Unnamed: 0  ... Prediction\n",
              "8300        8300  ...        Won\n",
              "8301        8301  ...        Won\n",
              "8302        8302  ...       Lost\n",
              "8303        8303  ...        Won\n",
              "8304        8304  ...        Won\n",
              "\n",
              "[5 rows x 14 columns]"
            ]
          },
          "metadata": {
            "tags": []
          },
          "execution_count": 73
        }
      ]
    },
    {
      "cell_type": "code",
      "metadata": {
        "id": "QP545980aQiN",
        "colab_type": "code",
        "colab": {
          "base_uri": "https://localhost:8080/",
          "height": 34
        },
        "outputId": "766f9ca2-fa7e-4233-c30e-add9a061a212"
      },
      "source": [
        "mask = (k_test4['Prediction'] == 'Won')\n",
        "\n",
        "k_test4=k_test4.loc[mask]\n",
        "\n",
        "Jan_2018=k_test4['Close_Value'].sum()\n",
        "print(Jan_2018)"
      ],
      "execution_count": 74,
      "outputs": [
        {
          "output_type": "stream",
          "text": [
            "52134\n"
          ],
          "name": "stdout"
        }
      ]
    },
    {
      "cell_type": "code",
      "metadata": {
        "id": "MOV0PZVDT8e9",
        "colab_type": "code",
        "colab": {
          "base_uri": "https://localhost:8080/",
          "height": 530
        },
        "outputId": "a5999694-7703-449b-c4ef-75219a7fcdd1"
      },
      "source": [
        "start_date = '2018-01-01'\n",
        "end_date = '2018-03-31'\n",
        "\n",
        "mask = (k['Created Date'] >= start_date) & (k['Created Date'] <= end_date)\n",
        "\n",
        "k_test5=k.loc[mask]\n",
        "\n",
        "k_test5.head()"
      ],
      "execution_count": 75,
      "outputs": [
        {
          "output_type": "execute_result",
          "data": {
            "text/html": [
              "<div>\n",
              "<style scoped>\n",
              "    .dataframe tbody tr th:only-of-type {\n",
              "        vertical-align: middle;\n",
              "    }\n",
              "\n",
              "    .dataframe tbody tr th {\n",
              "        vertical-align: top;\n",
              "    }\n",
              "\n",
              "    .dataframe thead th {\n",
              "        text-align: right;\n",
              "    }\n",
              "</style>\n",
              "<table border=\"1\" class=\"dataframe\">\n",
              "  <thead>\n",
              "    <tr style=\"text-align: right;\">\n",
              "      <th></th>\n",
              "      <th>Unnamed: 0</th>\n",
              "      <th>Account</th>\n",
              "      <th>Opportunity_ID</th>\n",
              "      <th>Sales_Agent</th>\n",
              "      <th>fromEmailId</th>\n",
              "      <th>toEmailId</th>\n",
              "      <th>Deal_Stage</th>\n",
              "      <th>Product</th>\n",
              "      <th>Close_Value</th>\n",
              "      <th>Created Date</th>\n",
              "      <th>Close Date</th>\n",
              "      <th>DateDiff</th>\n",
              "      <th>Extracted Interaction Text</th>\n",
              "    </tr>\n",
              "  </thead>\n",
              "  <tbody>\n",
              "    <tr>\n",
              "      <th>8300</th>\n",
              "      <td>8300</td>\n",
              "      <td>Isdom</td>\n",
              "      <td>647SQRGL</td>\n",
              "      <td>Niesha Huffines</td>\n",
              "      <td>niesha@piedpiper.com</td>\n",
              "      <td>corrinne@isdom.com</td>\n",
              "      <td>In Progress</td>\n",
              "      <td>GTX Basic</td>\n",
              "      <td>3180</td>\n",
              "      <td>2018-01-01</td>\n",
              "      <td>2018-05-14</td>\n",
              "      <td>133</td>\n",
              "      <td>It was good to make your acquaintance last wee...</td>\n",
              "    </tr>\n",
              "    <tr>\n",
              "      <th>8301</th>\n",
              "      <td>8301</td>\n",
              "      <td>Toughzap</td>\n",
              "      <td>FMRVHL9O</td>\n",
              "      <td>Marty Freudenburg</td>\n",
              "      <td>marty@piedpiper.com</td>\n",
              "      <td>sherman@toughzap.com</td>\n",
              "      <td>In Progress</td>\n",
              "      <td>GTX Plus Basic</td>\n",
              "      <td>1026</td>\n",
              "      <td>2018-01-03</td>\n",
              "      <td>2018-06-20</td>\n",
              "      <td>168</td>\n",
              "      <td>Deal has been closed., The deal has been succe...</td>\n",
              "    </tr>\n",
              "    <tr>\n",
              "      <th>8302</th>\n",
              "      <td>8302</td>\n",
              "      <td>Rundofase</td>\n",
              "      <td>Q9CASEJL</td>\n",
              "      <td>Gladys Colclough</td>\n",
              "      <td>gladys@piedpiper.com</td>\n",
              "      <td>crista@rundofase.com</td>\n",
              "      <td>In Progress</td>\n",
              "      <td>MG Special</td>\n",
              "      <td>3284</td>\n",
              "      <td>2018-01-04</td>\n",
              "      <td>2019-08-28</td>\n",
              "      <td>601</td>\n",
              "      <td>However, I am unable to join because of my fam...</td>\n",
              "    </tr>\n",
              "    <tr>\n",
              "      <th>8303</th>\n",
              "      <td>8303</td>\n",
              "      <td>Plexzap</td>\n",
              "      <td>8IPMP8NT</td>\n",
              "      <td>Darcel Schlecht</td>\n",
              "      <td>darcel@piedpiper.com</td>\n",
              "      <td>titus@plexzap.com</td>\n",
              "      <td>In Progress</td>\n",
              "      <td>GTXPro</td>\n",
              "      <td>4631</td>\n",
              "      <td>2018-01-05</td>\n",
              "      <td>2018-05-15</td>\n",
              "      <td>130</td>\n",
              "      <td>I am not sure if we need the product right now...</td>\n",
              "    </tr>\n",
              "    <tr>\n",
              "      <th>8304</th>\n",
              "      <td>8304</td>\n",
              "      <td>Gekko &amp; Co</td>\n",
              "      <td>N6JMQG0E</td>\n",
              "      <td>Lajuana Vencill</td>\n",
              "      <td>lajuana@piedpiper.com</td>\n",
              "      <td>krystle@gekko&amp;co.com</td>\n",
              "      <td>In Progress</td>\n",
              "      <td>MG Special</td>\n",
              "      <td>3284</td>\n",
              "      <td>2018-01-05</td>\n",
              "      <td>2018-05-28</td>\n",
              "      <td>143</td>\n",
              "      <td>Please accept this letter as official notifica...</td>\n",
              "    </tr>\n",
              "  </tbody>\n",
              "</table>\n",
              "</div>"
            ],
            "text/plain": [
              "      Unnamed: 0  ...                         Extracted Interaction Text\n",
              "8300        8300  ...  It was good to make your acquaintance last wee...\n",
              "8301        8301  ...  Deal has been closed., The deal has been succe...\n",
              "8302        8302  ...  However, I am unable to join because of my fam...\n",
              "8303        8303  ...  I am not sure if we need the product right now...\n",
              "8304        8304  ...  Please accept this letter as official notifica...\n",
              "\n",
              "[5 rows x 13 columns]"
            ]
          },
          "metadata": {
            "tags": []
          },
          "execution_count": 75
        }
      ]
    },
    {
      "cell_type": "code",
      "metadata": {
        "id": "J025Sq_6UHL7",
        "colab_type": "code",
        "colab": {
          "base_uri": "https://localhost:8080/",
          "height": 357
        },
        "outputId": "0179281e-051b-4847-eefe-f10d855e5394"
      },
      "source": [
        "k_test5.info()"
      ],
      "execution_count": 76,
      "outputs": [
        {
          "output_type": "stream",
          "text": [
            "<class 'pandas.core.frame.DataFrame'>\n",
            "Int64Index: 123 entries, 8300 to 8422\n",
            "Data columns (total 13 columns):\n",
            " #   Column                      Non-Null Count  Dtype         \n",
            "---  ------                      --------------  -----         \n",
            " 0   Unnamed: 0                  123 non-null    int64         \n",
            " 1   Account                     123 non-null    object        \n",
            " 2   Opportunity_ID              123 non-null    object        \n",
            " 3   Sales_Agent                 123 non-null    object        \n",
            " 4   fromEmailId                 123 non-null    object        \n",
            " 5   toEmailId                   123 non-null    object        \n",
            " 6   Deal_Stage                  123 non-null    object        \n",
            " 7   Product                     123 non-null    object        \n",
            " 8   Close_Value                 123 non-null    int64         \n",
            " 9   Created Date                123 non-null    datetime64[ns]\n",
            " 10  Close Date                  123 non-null    datetime64[ns]\n",
            " 11  DateDiff                    123 non-null    int64         \n",
            " 12  Extracted Interaction Text  123 non-null    object        \n",
            "dtypes: datetime64[ns](2), int64(3), object(8)\n",
            "memory usage: 13.5+ KB\n"
          ],
          "name": "stdout"
        }
      ]
    },
    {
      "cell_type": "code",
      "metadata": {
        "id": "m7uUsM0FUL5F",
        "colab_type": "code",
        "colab": {}
      },
      "source": [
        "#testing1\n",
        "features_test5 = k_test5.iloc[:, 12].values\n",
        "labels_test5 = k_test5.iloc[:, 6].values\n",
        "\n",
        "processed_features_test5 = []\n",
        "\n",
        "for sentence in range(0, len(features_test5)):\n",
        "    # Remove all the special characters\n",
        "    processed_feature = re.sub(r'\\W', ' ', str(features_test5[sentence]))\n",
        "\n",
        "    # remove all single characters\n",
        "    processed_feature= re.sub(r'\\s+[a-zA-Z]\\s+', ' ', processed_feature)\n",
        "\n",
        "    # Remove single characters from the start\n",
        "    processed_feature = re.sub(r'\\^[a-zA-Z]\\s+', ' ', processed_feature) \n",
        "\n",
        "    # Substituting multiple spaces with single space\n",
        "    processed_feature = re.sub(r'\\s+', ' ', processed_feature, flags=re.I)\n",
        "\n",
        "    # Removing prefixed 'b'\n",
        "    processed_feature = re.sub(r'^b\\s+', '', processed_feature)\n",
        "\n",
        "    # Converting to Lowercase\n",
        "    processed_feature = processed_feature.lower()\n",
        "\n",
        "    processed_features_test5.append(processed_feature)\n",
        "\n",
        "\n",
        "X_test5 = vectorizer.transform(processed_features_test5).toarray()\n",
        "\n",
        "y_pred5 =text_classifier.predict(X_test5)"
      ],
      "execution_count": 77,
      "outputs": []
    },
    {
      "cell_type": "code",
      "metadata": {
        "id": "807NNDNFZayp",
        "colab_type": "code",
        "colab": {
          "base_uri": "https://localhost:8080/",
          "height": 632
        },
        "outputId": "1a34ad88-dd09-45f2-91e9-6ca520bd03eb"
      },
      "source": [
        "k_test5['Prediction']=y_pred5\n",
        "k_test5.head()"
      ],
      "execution_count": 78,
      "outputs": [
        {
          "output_type": "stream",
          "text": [
            "/usr/local/lib/python3.6/dist-packages/ipykernel_launcher.py:1: SettingWithCopyWarning: \n",
            "A value is trying to be set on a copy of a slice from a DataFrame.\n",
            "Try using .loc[row_indexer,col_indexer] = value instead\n",
            "\n",
            "See the caveats in the documentation: https://pandas.pydata.org/pandas-docs/stable/user_guide/indexing.html#returning-a-view-versus-a-copy\n",
            "  \"\"\"Entry point for launching an IPython kernel.\n"
          ],
          "name": "stderr"
        },
        {
          "output_type": "execute_result",
          "data": {
            "text/html": [
              "<div>\n",
              "<style scoped>\n",
              "    .dataframe tbody tr th:only-of-type {\n",
              "        vertical-align: middle;\n",
              "    }\n",
              "\n",
              "    .dataframe tbody tr th {\n",
              "        vertical-align: top;\n",
              "    }\n",
              "\n",
              "    .dataframe thead th {\n",
              "        text-align: right;\n",
              "    }\n",
              "</style>\n",
              "<table border=\"1\" class=\"dataframe\">\n",
              "  <thead>\n",
              "    <tr style=\"text-align: right;\">\n",
              "      <th></th>\n",
              "      <th>Unnamed: 0</th>\n",
              "      <th>Account</th>\n",
              "      <th>Opportunity_ID</th>\n",
              "      <th>Sales_Agent</th>\n",
              "      <th>fromEmailId</th>\n",
              "      <th>toEmailId</th>\n",
              "      <th>Deal_Stage</th>\n",
              "      <th>Product</th>\n",
              "      <th>Close_Value</th>\n",
              "      <th>Created Date</th>\n",
              "      <th>Close Date</th>\n",
              "      <th>DateDiff</th>\n",
              "      <th>Extracted Interaction Text</th>\n",
              "      <th>Prediction</th>\n",
              "    </tr>\n",
              "  </thead>\n",
              "  <tbody>\n",
              "    <tr>\n",
              "      <th>8300</th>\n",
              "      <td>8300</td>\n",
              "      <td>Isdom</td>\n",
              "      <td>647SQRGL</td>\n",
              "      <td>Niesha Huffines</td>\n",
              "      <td>niesha@piedpiper.com</td>\n",
              "      <td>corrinne@isdom.com</td>\n",
              "      <td>In Progress</td>\n",
              "      <td>GTX Basic</td>\n",
              "      <td>3180</td>\n",
              "      <td>2018-01-01</td>\n",
              "      <td>2018-05-14</td>\n",
              "      <td>133</td>\n",
              "      <td>It was good to make your acquaintance last wee...</td>\n",
              "      <td>Won</td>\n",
              "    </tr>\n",
              "    <tr>\n",
              "      <th>8301</th>\n",
              "      <td>8301</td>\n",
              "      <td>Toughzap</td>\n",
              "      <td>FMRVHL9O</td>\n",
              "      <td>Marty Freudenburg</td>\n",
              "      <td>marty@piedpiper.com</td>\n",
              "      <td>sherman@toughzap.com</td>\n",
              "      <td>In Progress</td>\n",
              "      <td>GTX Plus Basic</td>\n",
              "      <td>1026</td>\n",
              "      <td>2018-01-03</td>\n",
              "      <td>2018-06-20</td>\n",
              "      <td>168</td>\n",
              "      <td>Deal has been closed., The deal has been succe...</td>\n",
              "      <td>Won</td>\n",
              "    </tr>\n",
              "    <tr>\n",
              "      <th>8302</th>\n",
              "      <td>8302</td>\n",
              "      <td>Rundofase</td>\n",
              "      <td>Q9CASEJL</td>\n",
              "      <td>Gladys Colclough</td>\n",
              "      <td>gladys@piedpiper.com</td>\n",
              "      <td>crista@rundofase.com</td>\n",
              "      <td>In Progress</td>\n",
              "      <td>MG Special</td>\n",
              "      <td>3284</td>\n",
              "      <td>2018-01-04</td>\n",
              "      <td>2019-08-28</td>\n",
              "      <td>601</td>\n",
              "      <td>However, I am unable to join because of my fam...</td>\n",
              "      <td>Lost</td>\n",
              "    </tr>\n",
              "    <tr>\n",
              "      <th>8303</th>\n",
              "      <td>8303</td>\n",
              "      <td>Plexzap</td>\n",
              "      <td>8IPMP8NT</td>\n",
              "      <td>Darcel Schlecht</td>\n",
              "      <td>darcel@piedpiper.com</td>\n",
              "      <td>titus@plexzap.com</td>\n",
              "      <td>In Progress</td>\n",
              "      <td>GTXPro</td>\n",
              "      <td>4631</td>\n",
              "      <td>2018-01-05</td>\n",
              "      <td>2018-05-15</td>\n",
              "      <td>130</td>\n",
              "      <td>I am not sure if we need the product right now...</td>\n",
              "      <td>Won</td>\n",
              "    </tr>\n",
              "    <tr>\n",
              "      <th>8304</th>\n",
              "      <td>8304</td>\n",
              "      <td>Gekko &amp; Co</td>\n",
              "      <td>N6JMQG0E</td>\n",
              "      <td>Lajuana Vencill</td>\n",
              "      <td>lajuana@piedpiper.com</td>\n",
              "      <td>krystle@gekko&amp;co.com</td>\n",
              "      <td>In Progress</td>\n",
              "      <td>MG Special</td>\n",
              "      <td>3284</td>\n",
              "      <td>2018-01-05</td>\n",
              "      <td>2018-05-28</td>\n",
              "      <td>143</td>\n",
              "      <td>Please accept this letter as official notifica...</td>\n",
              "      <td>Won</td>\n",
              "    </tr>\n",
              "  </tbody>\n",
              "</table>\n",
              "</div>"
            ],
            "text/plain": [
              "      Unnamed: 0  ... Prediction\n",
              "8300        8300  ...        Won\n",
              "8301        8301  ...        Won\n",
              "8302        8302  ...       Lost\n",
              "8303        8303  ...        Won\n",
              "8304        8304  ...        Won\n",
              "\n",
              "[5 rows x 14 columns]"
            ]
          },
          "metadata": {
            "tags": []
          },
          "execution_count": 78
        }
      ]
    },
    {
      "cell_type": "code",
      "metadata": {
        "id": "DW37uuEgZtjr",
        "colab_type": "code",
        "colab": {
          "base_uri": "https://localhost:8080/",
          "height": 34
        },
        "outputId": "f04075bb-aa40-42b3-f522-524caec6694d"
      },
      "source": [
        "mask = (k_test5['Prediction'] == 'Won')\n",
        "\n",
        "k_test5=k_test5.loc[mask]\n",
        "\n",
        "Quart_2018=k_test5['Close_Value'].sum()\n",
        "print(Quart_2018)"
      ],
      "execution_count": 79,
      "outputs": [
        {
          "output_type": "stream",
          "text": [
            "185699\n"
          ],
          "name": "stdout"
        }
      ]
    },
    {
      "cell_type": "code",
      "metadata": {
        "id": "PtZIDhS6UilN",
        "colab_type": "code",
        "colab": {
          "base_uri": "https://localhost:8080/",
          "height": 530
        },
        "outputId": "9ed2a8f5-d43c-41e4-9e38-275e176b0476"
      },
      "source": [
        "start_date = '2018-01-01'\n",
        "end_date = '2018-12-31'\n",
        "\n",
        "mask = (k['Created Date'] >= start_date) & (k['Created Date'] <= end_date)\n",
        "\n",
        "k_test6=k.loc[mask]\n",
        "\n",
        "k_test6.head()"
      ],
      "execution_count": 80,
      "outputs": [
        {
          "output_type": "execute_result",
          "data": {
            "text/html": [
              "<div>\n",
              "<style scoped>\n",
              "    .dataframe tbody tr th:only-of-type {\n",
              "        vertical-align: middle;\n",
              "    }\n",
              "\n",
              "    .dataframe tbody tr th {\n",
              "        vertical-align: top;\n",
              "    }\n",
              "\n",
              "    .dataframe thead th {\n",
              "        text-align: right;\n",
              "    }\n",
              "</style>\n",
              "<table border=\"1\" class=\"dataframe\">\n",
              "  <thead>\n",
              "    <tr style=\"text-align: right;\">\n",
              "      <th></th>\n",
              "      <th>Unnamed: 0</th>\n",
              "      <th>Account</th>\n",
              "      <th>Opportunity_ID</th>\n",
              "      <th>Sales_Agent</th>\n",
              "      <th>fromEmailId</th>\n",
              "      <th>toEmailId</th>\n",
              "      <th>Deal_Stage</th>\n",
              "      <th>Product</th>\n",
              "      <th>Close_Value</th>\n",
              "      <th>Created Date</th>\n",
              "      <th>Close Date</th>\n",
              "      <th>DateDiff</th>\n",
              "      <th>Extracted Interaction Text</th>\n",
              "    </tr>\n",
              "  </thead>\n",
              "  <tbody>\n",
              "    <tr>\n",
              "      <th>8300</th>\n",
              "      <td>8300</td>\n",
              "      <td>Isdom</td>\n",
              "      <td>647SQRGL</td>\n",
              "      <td>Niesha Huffines</td>\n",
              "      <td>niesha@piedpiper.com</td>\n",
              "      <td>corrinne@isdom.com</td>\n",
              "      <td>In Progress</td>\n",
              "      <td>GTX Basic</td>\n",
              "      <td>3180</td>\n",
              "      <td>2018-01-01</td>\n",
              "      <td>2018-05-14</td>\n",
              "      <td>133</td>\n",
              "      <td>It was good to make your acquaintance last wee...</td>\n",
              "    </tr>\n",
              "    <tr>\n",
              "      <th>8301</th>\n",
              "      <td>8301</td>\n",
              "      <td>Toughzap</td>\n",
              "      <td>FMRVHL9O</td>\n",
              "      <td>Marty Freudenburg</td>\n",
              "      <td>marty@piedpiper.com</td>\n",
              "      <td>sherman@toughzap.com</td>\n",
              "      <td>In Progress</td>\n",
              "      <td>GTX Plus Basic</td>\n",
              "      <td>1026</td>\n",
              "      <td>2018-01-03</td>\n",
              "      <td>2018-06-20</td>\n",
              "      <td>168</td>\n",
              "      <td>Deal has been closed., The deal has been succe...</td>\n",
              "    </tr>\n",
              "    <tr>\n",
              "      <th>8302</th>\n",
              "      <td>8302</td>\n",
              "      <td>Rundofase</td>\n",
              "      <td>Q9CASEJL</td>\n",
              "      <td>Gladys Colclough</td>\n",
              "      <td>gladys@piedpiper.com</td>\n",
              "      <td>crista@rundofase.com</td>\n",
              "      <td>In Progress</td>\n",
              "      <td>MG Special</td>\n",
              "      <td>3284</td>\n",
              "      <td>2018-01-04</td>\n",
              "      <td>2019-08-28</td>\n",
              "      <td>601</td>\n",
              "      <td>However, I am unable to join because of my fam...</td>\n",
              "    </tr>\n",
              "    <tr>\n",
              "      <th>8303</th>\n",
              "      <td>8303</td>\n",
              "      <td>Plexzap</td>\n",
              "      <td>8IPMP8NT</td>\n",
              "      <td>Darcel Schlecht</td>\n",
              "      <td>darcel@piedpiper.com</td>\n",
              "      <td>titus@plexzap.com</td>\n",
              "      <td>In Progress</td>\n",
              "      <td>GTXPro</td>\n",
              "      <td>4631</td>\n",
              "      <td>2018-01-05</td>\n",
              "      <td>2018-05-15</td>\n",
              "      <td>130</td>\n",
              "      <td>I am not sure if we need the product right now...</td>\n",
              "    </tr>\n",
              "    <tr>\n",
              "      <th>8304</th>\n",
              "      <td>8304</td>\n",
              "      <td>Gekko &amp; Co</td>\n",
              "      <td>N6JMQG0E</td>\n",
              "      <td>Lajuana Vencill</td>\n",
              "      <td>lajuana@piedpiper.com</td>\n",
              "      <td>krystle@gekko&amp;co.com</td>\n",
              "      <td>In Progress</td>\n",
              "      <td>MG Special</td>\n",
              "      <td>3284</td>\n",
              "      <td>2018-01-05</td>\n",
              "      <td>2018-05-28</td>\n",
              "      <td>143</td>\n",
              "      <td>Please accept this letter as official notifica...</td>\n",
              "    </tr>\n",
              "  </tbody>\n",
              "</table>\n",
              "</div>"
            ],
            "text/plain": [
              "      Unnamed: 0  ...                         Extracted Interaction Text\n",
              "8300        8300  ...  It was good to make your acquaintance last wee...\n",
              "8301        8301  ...  Deal has been closed., The deal has been succe...\n",
              "8302        8302  ...  However, I am unable to join because of my fam...\n",
              "8303        8303  ...  I am not sure if we need the product right now...\n",
              "8304        8304  ...  Please accept this letter as official notifica...\n",
              "\n",
              "[5 rows x 13 columns]"
            ]
          },
          "metadata": {
            "tags": []
          },
          "execution_count": 80
        }
      ]
    },
    {
      "cell_type": "code",
      "metadata": {
        "id": "jUvAKihBUtrM",
        "colab_type": "code",
        "colab": {
          "base_uri": "https://localhost:8080/",
          "height": 357
        },
        "outputId": "ccd6b79d-5f70-4914-e51d-765fb084711a"
      },
      "source": [
        "k_test6.info()"
      ],
      "execution_count": 81,
      "outputs": [
        {
          "output_type": "stream",
          "text": [
            "<class 'pandas.core.frame.DataFrame'>\n",
            "Int64Index: 500 entries, 8300 to 8799\n",
            "Data columns (total 13 columns):\n",
            " #   Column                      Non-Null Count  Dtype         \n",
            "---  ------                      --------------  -----         \n",
            " 0   Unnamed: 0                  500 non-null    int64         \n",
            " 1   Account                     500 non-null    object        \n",
            " 2   Opportunity_ID              500 non-null    object        \n",
            " 3   Sales_Agent                 500 non-null    object        \n",
            " 4   fromEmailId                 500 non-null    object        \n",
            " 5   toEmailId                   500 non-null    object        \n",
            " 6   Deal_Stage                  500 non-null    object        \n",
            " 7   Product                     500 non-null    object        \n",
            " 8   Close_Value                 500 non-null    int64         \n",
            " 9   Created Date                500 non-null    datetime64[ns]\n",
            " 10  Close Date                  500 non-null    datetime64[ns]\n",
            " 11  DateDiff                    500 non-null    int64         \n",
            " 12  Extracted Interaction Text  500 non-null    object        \n",
            "dtypes: datetime64[ns](2), int64(3), object(8)\n",
            "memory usage: 54.7+ KB\n"
          ],
          "name": "stdout"
        }
      ]
    },
    {
      "cell_type": "code",
      "metadata": {
        "id": "eCJ2ze-GUyF0",
        "colab_type": "code",
        "colab": {}
      },
      "source": [
        "#testing1\n",
        "features_test6 = k_test6.iloc[:, 12].values\n",
        "labels_test6 = k_test6.iloc[:, 6].values\n",
        "\n",
        "processed_features_test6 = []\n",
        "\n",
        "for sentence in range(0, len(features_test6)):\n",
        "    # Remove all the special characters\n",
        "    processed_feature = re.sub(r'\\W', ' ', str(features_test6[sentence]))\n",
        "\n",
        "    # remove all single characters\n",
        "    processed_feature= re.sub(r'\\s+[a-zA-Z]\\s+', ' ', processed_feature)\n",
        "\n",
        "    # Remove single characters from the start\n",
        "    processed_feature = re.sub(r'\\^[a-zA-Z]\\s+', ' ', processed_feature) \n",
        "\n",
        "    # Substituting multiple spaces with single space\n",
        "    processed_feature = re.sub(r'\\s+', ' ', processed_feature, flags=re.I)\n",
        "\n",
        "    # Removing prefixed 'b'\n",
        "    processed_feature = re.sub(r'^b\\s+', '', processed_feature)\n",
        "\n",
        "    # Converting to Lowercase\n",
        "    processed_feature = processed_feature.lower()\n",
        "\n",
        "    processed_features_test6.append(processed_feature)\n",
        "\n",
        "\n",
        "X_test6 = vectorizer.transform(processed_features_test6).toarray()\n",
        "\n",
        "y_pred6 =text_classifier.predict(X_test6)"
      ],
      "execution_count": 82,
      "outputs": []
    },
    {
      "cell_type": "code",
      "metadata": {
        "id": "_2K5ZThZVLy5",
        "colab_type": "code",
        "colab": {
          "base_uri": "https://localhost:8080/",
          "height": 632
        },
        "outputId": "9237f932-fe8e-4257-ca31-4d84dd83f8dd"
      },
      "source": [
        "k_test6['Prediction']=y_pred6\n",
        "k_test6.head()"
      ],
      "execution_count": 83,
      "outputs": [
        {
          "output_type": "stream",
          "text": [
            "/usr/local/lib/python3.6/dist-packages/ipykernel_launcher.py:1: SettingWithCopyWarning: \n",
            "A value is trying to be set on a copy of a slice from a DataFrame.\n",
            "Try using .loc[row_indexer,col_indexer] = value instead\n",
            "\n",
            "See the caveats in the documentation: https://pandas.pydata.org/pandas-docs/stable/user_guide/indexing.html#returning-a-view-versus-a-copy\n",
            "  \"\"\"Entry point for launching an IPython kernel.\n"
          ],
          "name": "stderr"
        },
        {
          "output_type": "execute_result",
          "data": {
            "text/html": [
              "<div>\n",
              "<style scoped>\n",
              "    .dataframe tbody tr th:only-of-type {\n",
              "        vertical-align: middle;\n",
              "    }\n",
              "\n",
              "    .dataframe tbody tr th {\n",
              "        vertical-align: top;\n",
              "    }\n",
              "\n",
              "    .dataframe thead th {\n",
              "        text-align: right;\n",
              "    }\n",
              "</style>\n",
              "<table border=\"1\" class=\"dataframe\">\n",
              "  <thead>\n",
              "    <tr style=\"text-align: right;\">\n",
              "      <th></th>\n",
              "      <th>Unnamed: 0</th>\n",
              "      <th>Account</th>\n",
              "      <th>Opportunity_ID</th>\n",
              "      <th>Sales_Agent</th>\n",
              "      <th>fromEmailId</th>\n",
              "      <th>toEmailId</th>\n",
              "      <th>Deal_Stage</th>\n",
              "      <th>Product</th>\n",
              "      <th>Close_Value</th>\n",
              "      <th>Created Date</th>\n",
              "      <th>Close Date</th>\n",
              "      <th>DateDiff</th>\n",
              "      <th>Extracted Interaction Text</th>\n",
              "      <th>Prediction</th>\n",
              "    </tr>\n",
              "  </thead>\n",
              "  <tbody>\n",
              "    <tr>\n",
              "      <th>8300</th>\n",
              "      <td>8300</td>\n",
              "      <td>Isdom</td>\n",
              "      <td>647SQRGL</td>\n",
              "      <td>Niesha Huffines</td>\n",
              "      <td>niesha@piedpiper.com</td>\n",
              "      <td>corrinne@isdom.com</td>\n",
              "      <td>In Progress</td>\n",
              "      <td>GTX Basic</td>\n",
              "      <td>3180</td>\n",
              "      <td>2018-01-01</td>\n",
              "      <td>2018-05-14</td>\n",
              "      <td>133</td>\n",
              "      <td>It was good to make your acquaintance last wee...</td>\n",
              "      <td>Won</td>\n",
              "    </tr>\n",
              "    <tr>\n",
              "      <th>8301</th>\n",
              "      <td>8301</td>\n",
              "      <td>Toughzap</td>\n",
              "      <td>FMRVHL9O</td>\n",
              "      <td>Marty Freudenburg</td>\n",
              "      <td>marty@piedpiper.com</td>\n",
              "      <td>sherman@toughzap.com</td>\n",
              "      <td>In Progress</td>\n",
              "      <td>GTX Plus Basic</td>\n",
              "      <td>1026</td>\n",
              "      <td>2018-01-03</td>\n",
              "      <td>2018-06-20</td>\n",
              "      <td>168</td>\n",
              "      <td>Deal has been closed., The deal has been succe...</td>\n",
              "      <td>Won</td>\n",
              "    </tr>\n",
              "    <tr>\n",
              "      <th>8302</th>\n",
              "      <td>8302</td>\n",
              "      <td>Rundofase</td>\n",
              "      <td>Q9CASEJL</td>\n",
              "      <td>Gladys Colclough</td>\n",
              "      <td>gladys@piedpiper.com</td>\n",
              "      <td>crista@rundofase.com</td>\n",
              "      <td>In Progress</td>\n",
              "      <td>MG Special</td>\n",
              "      <td>3284</td>\n",
              "      <td>2018-01-04</td>\n",
              "      <td>2019-08-28</td>\n",
              "      <td>601</td>\n",
              "      <td>However, I am unable to join because of my fam...</td>\n",
              "      <td>Lost</td>\n",
              "    </tr>\n",
              "    <tr>\n",
              "      <th>8303</th>\n",
              "      <td>8303</td>\n",
              "      <td>Plexzap</td>\n",
              "      <td>8IPMP8NT</td>\n",
              "      <td>Darcel Schlecht</td>\n",
              "      <td>darcel@piedpiper.com</td>\n",
              "      <td>titus@plexzap.com</td>\n",
              "      <td>In Progress</td>\n",
              "      <td>GTXPro</td>\n",
              "      <td>4631</td>\n",
              "      <td>2018-01-05</td>\n",
              "      <td>2018-05-15</td>\n",
              "      <td>130</td>\n",
              "      <td>I am not sure if we need the product right now...</td>\n",
              "      <td>Won</td>\n",
              "    </tr>\n",
              "    <tr>\n",
              "      <th>8304</th>\n",
              "      <td>8304</td>\n",
              "      <td>Gekko &amp; Co</td>\n",
              "      <td>N6JMQG0E</td>\n",
              "      <td>Lajuana Vencill</td>\n",
              "      <td>lajuana@piedpiper.com</td>\n",
              "      <td>krystle@gekko&amp;co.com</td>\n",
              "      <td>In Progress</td>\n",
              "      <td>MG Special</td>\n",
              "      <td>3284</td>\n",
              "      <td>2018-01-05</td>\n",
              "      <td>2018-05-28</td>\n",
              "      <td>143</td>\n",
              "      <td>Please accept this letter as official notifica...</td>\n",
              "      <td>Won</td>\n",
              "    </tr>\n",
              "  </tbody>\n",
              "</table>\n",
              "</div>"
            ],
            "text/plain": [
              "      Unnamed: 0  ... Prediction\n",
              "8300        8300  ...        Won\n",
              "8301        8301  ...        Won\n",
              "8302        8302  ...       Lost\n",
              "8303        8303  ...        Won\n",
              "8304        8304  ...        Won\n",
              "\n",
              "[5 rows x 14 columns]"
            ]
          },
          "metadata": {
            "tags": []
          },
          "execution_count": 83
        }
      ]
    },
    {
      "cell_type": "code",
      "metadata": {
        "id": "6icGYpWpXQJc",
        "colab_type": "code",
        "colab": {
          "base_uri": "https://localhost:8080/",
          "height": 547
        },
        "outputId": "f4d5e0d1-971a-43cd-82d7-d61464bab74d"
      },
      "source": [
        "mask = (k_test6['Prediction'] == 'Won')\n",
        "\n",
        "k_test6=k_test6.loc[mask]\n",
        "\n",
        "k_test6.head()"
      ],
      "execution_count": 84,
      "outputs": [
        {
          "output_type": "execute_result",
          "data": {
            "text/html": [
              "<div>\n",
              "<style scoped>\n",
              "    .dataframe tbody tr th:only-of-type {\n",
              "        vertical-align: middle;\n",
              "    }\n",
              "\n",
              "    .dataframe tbody tr th {\n",
              "        vertical-align: top;\n",
              "    }\n",
              "\n",
              "    .dataframe thead th {\n",
              "        text-align: right;\n",
              "    }\n",
              "</style>\n",
              "<table border=\"1\" class=\"dataframe\">\n",
              "  <thead>\n",
              "    <tr style=\"text-align: right;\">\n",
              "      <th></th>\n",
              "      <th>Unnamed: 0</th>\n",
              "      <th>Account</th>\n",
              "      <th>Opportunity_ID</th>\n",
              "      <th>Sales_Agent</th>\n",
              "      <th>fromEmailId</th>\n",
              "      <th>toEmailId</th>\n",
              "      <th>Deal_Stage</th>\n",
              "      <th>Product</th>\n",
              "      <th>Close_Value</th>\n",
              "      <th>Created Date</th>\n",
              "      <th>Close Date</th>\n",
              "      <th>DateDiff</th>\n",
              "      <th>Extracted Interaction Text</th>\n",
              "      <th>Prediction</th>\n",
              "    </tr>\n",
              "  </thead>\n",
              "  <tbody>\n",
              "    <tr>\n",
              "      <th>8300</th>\n",
              "      <td>8300</td>\n",
              "      <td>Isdom</td>\n",
              "      <td>647SQRGL</td>\n",
              "      <td>Niesha Huffines</td>\n",
              "      <td>niesha@piedpiper.com</td>\n",
              "      <td>corrinne@isdom.com</td>\n",
              "      <td>In Progress</td>\n",
              "      <td>GTX Basic</td>\n",
              "      <td>3180</td>\n",
              "      <td>2018-01-01</td>\n",
              "      <td>2018-05-14</td>\n",
              "      <td>133</td>\n",
              "      <td>It was good to make your acquaintance last wee...</td>\n",
              "      <td>Won</td>\n",
              "    </tr>\n",
              "    <tr>\n",
              "      <th>8301</th>\n",
              "      <td>8301</td>\n",
              "      <td>Toughzap</td>\n",
              "      <td>FMRVHL9O</td>\n",
              "      <td>Marty Freudenburg</td>\n",
              "      <td>marty@piedpiper.com</td>\n",
              "      <td>sherman@toughzap.com</td>\n",
              "      <td>In Progress</td>\n",
              "      <td>GTX Plus Basic</td>\n",
              "      <td>1026</td>\n",
              "      <td>2018-01-03</td>\n",
              "      <td>2018-06-20</td>\n",
              "      <td>168</td>\n",
              "      <td>Deal has been closed., The deal has been succe...</td>\n",
              "      <td>Won</td>\n",
              "    </tr>\n",
              "    <tr>\n",
              "      <th>8303</th>\n",
              "      <td>8303</td>\n",
              "      <td>Plexzap</td>\n",
              "      <td>8IPMP8NT</td>\n",
              "      <td>Darcel Schlecht</td>\n",
              "      <td>darcel@piedpiper.com</td>\n",
              "      <td>titus@plexzap.com</td>\n",
              "      <td>In Progress</td>\n",
              "      <td>GTXPro</td>\n",
              "      <td>4631</td>\n",
              "      <td>2018-01-05</td>\n",
              "      <td>2018-05-15</td>\n",
              "      <td>130</td>\n",
              "      <td>I am not sure if we need the product right now...</td>\n",
              "      <td>Won</td>\n",
              "    </tr>\n",
              "    <tr>\n",
              "      <th>8304</th>\n",
              "      <td>8304</td>\n",
              "      <td>Gekko &amp; Co</td>\n",
              "      <td>N6JMQG0E</td>\n",
              "      <td>Lajuana Vencill</td>\n",
              "      <td>lajuana@piedpiper.com</td>\n",
              "      <td>krystle@gekko&amp;co.com</td>\n",
              "      <td>In Progress</td>\n",
              "      <td>MG Special</td>\n",
              "      <td>3284</td>\n",
              "      <td>2018-01-05</td>\n",
              "      <td>2018-05-28</td>\n",
              "      <td>143</td>\n",
              "      <td>Please accept this letter as official notifica...</td>\n",
              "      <td>Won</td>\n",
              "    </tr>\n",
              "    <tr>\n",
              "      <th>8305</th>\n",
              "      <td>8305</td>\n",
              "      <td>Rundofase</td>\n",
              "      <td>BV75OM0B</td>\n",
              "      <td>Darcel Schlecht</td>\n",
              "      <td>darcel@piedpiper.com</td>\n",
              "      <td>crista@rundofase.com</td>\n",
              "      <td>In Progress</td>\n",
              "      <td>GTXPro</td>\n",
              "      <td>61</td>\n",
              "      <td>2018-01-06</td>\n",
              "      <td>2018-04-21</td>\n",
              "      <td>105</td>\n",
              "      <td>My last day of being a manager at MaXCorp will...</td>\n",
              "      <td>Won</td>\n",
              "    </tr>\n",
              "  </tbody>\n",
              "</table>\n",
              "</div>"
            ],
            "text/plain": [
              "      Unnamed: 0  ... Prediction\n",
              "8300        8300  ...        Won\n",
              "8301        8301  ...        Won\n",
              "8303        8303  ...        Won\n",
              "8304        8304  ...        Won\n",
              "8305        8305  ...        Won\n",
              "\n",
              "[5 rows x 14 columns]"
            ]
          },
          "metadata": {
            "tags": []
          },
          "execution_count": 84
        }
      ]
    },
    {
      "cell_type": "code",
      "metadata": {
        "id": "ngFx_vW9V6jQ",
        "colab_type": "code",
        "colab": {
          "base_uri": "https://localhost:8080/",
          "height": 34
        },
        "outputId": "0dc73343-7e8a-4ff6-b243-e9ec27fb0864"
      },
      "source": [
        "\n",
        "Fin_2018=k_test6['Close_Value'].sum()\n",
        "print(Fin_2018)"
      ],
      "execution_count": 85,
      "outputs": [
        {
          "output_type": "stream",
          "text": [
            "663375\n"
          ],
          "name": "stdout"
        }
      ]
    },
    {
      "cell_type": "code",
      "metadata": {
        "id": "kbj3-42HZOW-",
        "colab_type": "code",
        "colab": {
          "base_uri": "https://localhost:8080/",
          "height": 235
        },
        "outputId": "3b506dbe-6631-4192-d0f2-299fc5a0d56c"
      },
      "source": [
        "# intialise data of lists. \n",
        "data = {'Month/Quarter/Year':['October 2017 (Month)', 'Quarter 3 2017 (Oct, Nov,Dec) 2017', 'Financial Year 2017 (From Jan 2017 to Dec 2017)', 'January 2018 (Month)','Quarter 1 2018 (Jan,Feb,Mar) 2018','Financial Year 2018 (From Jan 2018 to Dec 2018'], 'Forecasted Revenue':[Oct_2017_pred, Quart_2017_pred, Fin_2017_pred, Jan_2018, Quart_2018, Fin_2018],'Actual Revenue':[Oct_2017_act, Quart_2017_act, Fin_2017_act, 'N/A','N/A','N/A'],'% Deviation From Actuals':[dev1, dev2, dev3, 'N/A','N/A','N/A']} \n",
        "  \n",
        "# Create DataFrame \n",
        "df = pd.DataFrame(data) \n",
        "  \n",
        "# Print the output. \n",
        "df "
      ],
      "execution_count": 86,
      "outputs": [
        {
          "output_type": "execute_result",
          "data": {
            "text/html": [
              "<div>\n",
              "<style scoped>\n",
              "    .dataframe tbody tr th:only-of-type {\n",
              "        vertical-align: middle;\n",
              "    }\n",
              "\n",
              "    .dataframe tbody tr th {\n",
              "        vertical-align: top;\n",
              "    }\n",
              "\n",
              "    .dataframe thead th {\n",
              "        text-align: right;\n",
              "    }\n",
              "</style>\n",
              "<table border=\"1\" class=\"dataframe\">\n",
              "  <thead>\n",
              "    <tr style=\"text-align: right;\">\n",
              "      <th></th>\n",
              "      <th>Month/Quarter/Year</th>\n",
              "      <th>Forecasted Revenue</th>\n",
              "      <th>Actual Revenue</th>\n",
              "      <th>% Deviation From Actuals</th>\n",
              "    </tr>\n",
              "  </thead>\n",
              "  <tbody>\n",
              "    <tr>\n",
              "      <th>0</th>\n",
              "      <td>October 2017 (Month)</td>\n",
              "      <td>872217</td>\n",
              "      <td>871064</td>\n",
              "      <td>0.132366852493043%</td>\n",
              "    </tr>\n",
              "    <tr>\n",
              "      <th>1</th>\n",
              "      <td>Quarter 3 2017 (Oct, Nov,Dec) 2017</td>\n",
              "      <td>2502989</td>\n",
              "      <td>2435396</td>\n",
              "      <td>2.7754418583261202%</td>\n",
              "    </tr>\n",
              "    <tr>\n",
              "      <th>2</th>\n",
              "      <td>Financial Year 2017 (From Jan 2017 to Dec 2017)</td>\n",
              "      <td>10097257</td>\n",
              "      <td>9482003</td>\n",
              "      <td>6.488650130146552%</td>\n",
              "    </tr>\n",
              "    <tr>\n",
              "      <th>3</th>\n",
              "      <td>January 2018 (Month)</td>\n",
              "      <td>52134</td>\n",
              "      <td>N/A</td>\n",
              "      <td>N/A</td>\n",
              "    </tr>\n",
              "    <tr>\n",
              "      <th>4</th>\n",
              "      <td>Quarter 1 2018 (Jan,Feb,Mar) 2018</td>\n",
              "      <td>185699</td>\n",
              "      <td>N/A</td>\n",
              "      <td>N/A</td>\n",
              "    </tr>\n",
              "    <tr>\n",
              "      <th>5</th>\n",
              "      <td>Financial Year 2018 (From Jan 2018 to Dec 2018</td>\n",
              "      <td>663375</td>\n",
              "      <td>N/A</td>\n",
              "      <td>N/A</td>\n",
              "    </tr>\n",
              "  </tbody>\n",
              "</table>\n",
              "</div>"
            ],
            "text/plain": [
              "                                Month/Quarter/Year  ...  % Deviation From Actuals\n",
              "0                             October 2017 (Month)  ...        0.132366852493043%\n",
              "1               Quarter 3 2017 (Oct, Nov,Dec) 2017  ...       2.7754418583261202%\n",
              "2  Financial Year 2017 (From Jan 2017 to Dec 2017)  ...        6.488650130146552%\n",
              "3                             January 2018 (Month)  ...                       N/A\n",
              "4                Quarter 1 2018 (Jan,Feb,Mar) 2018  ...                       N/A\n",
              "5   Financial Year 2018 (From Jan 2018 to Dec 2018  ...                       N/A\n",
              "\n",
              "[6 rows x 4 columns]"
            ]
          },
          "metadata": {
            "tags": []
          },
          "execution_count": 86
        }
      ]
    },
    {
      "cell_type": "code",
      "metadata": {
        "id": "DQyxszfFBNm0",
        "colab_type": "code",
        "colab": {}
      },
      "source": [
        ""
      ],
      "execution_count": null,
      "outputs": []
    }
  ]
}